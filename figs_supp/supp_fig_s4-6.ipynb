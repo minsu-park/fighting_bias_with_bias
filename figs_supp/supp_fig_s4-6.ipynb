{
 "cells": [
  {
   "cell_type": "code",
   "execution_count": 2,
   "id": "e6bdfc57",
   "metadata": {},
   "outputs": [],
   "source": [
    "library(data.table)\n",
    "library(emmeans)\n",
    "library(ggplot2)\n",
    "library(dplyr)"
   ]
  },
  {
   "cell_type": "code",
   "execution_count": 3,
   "id": "ac9dc2c6",
   "metadata": {},
   "outputs": [],
   "source": [
    "df=fread(\"../data/df.aggregate.csv\")"
   ]
  },
  {
   "cell_type": "markdown",
   "id": "e670d5e0",
   "metadata": {},
   "source": [
    "## Fig. S4"
   ]
  },
  {
   "cell_type": "code",
   "execution_count": 4,
   "id": "14d48839",
   "metadata": {},
   "outputs": [
    {
     "name": "stderr",
     "output_type": "stream",
     "text": [
      "`summarise()` has grouped output by 'listing_id', 'host_id'. You can override using the `.groups` argument.\n",
      "\n",
      "Warning message:\n",
      "“Removed 4 rows containing missing values (geom_bar).”\n"
     ]
    },
    {
     "data": {
      "text/html": [
       "<strong>pdf:</strong> 2"
      ],
      "text/latex": [
       "\\textbf{pdf:} 2"
      ],
      "text/markdown": [
       "**pdf:** 2"
      ],
      "text/plain": [
       "pdf \n",
       "  2 "
      ]
     },
     "metadata": {},
     "output_type": "display_data"
    }
   ],
   "source": [
    "filename_pdf=\"../output/supp_fig_s4.pdf\"\n",
    "\n",
    "cc=c(\"#2c2d4a\",\"#be5d05\",\"#f1aa00\")\n",
    "\n",
    "rws.cnt=df %>% dplyr::group_by(listing_id, host_id, h.ethnicity) %>% dplyr::summarise(rws.cnt=n()) \n",
    "rws.cnt$h.ethnicity=stringr::str_to_title(rws.cnt$h.ethnicity)\n",
    "rws.cnt$h.ethnicity=factor(rws.cnt$h.ethnicity, \n",
    "                           levels=c(\"White\", \"Asian\", \"Black\"))\n",
    "\n",
    "pdf(filename_pdf, width=9.5, height=5)\n",
    "g = ggplot(rws.cnt, aes(x=rws.cnt, fill=h.ethnicity)) +\n",
    "  geom_histogram(alpha=0.7, position=\"dodge\", bins=30) + \n",
    "  scale_y_continuous(limits=c(0,1250), breaks=seq(0,1250,250),\n",
    "                     labels=c(seq(0,1250,250))) +\n",
    "  scale_x_continuous(limits=c(1, 360), breaks=seq(0,360,60), labels=seq(0,360,60)) +\n",
    "  xlab(\"Number of Reviews\") + ylab(\"Frequency\") + labs(fill=\"Host Race\") + theme_classic() + \n",
    "  theme(legend.pos=\"top\",\n",
    "        legend.justification=\"left\",\n",
    "        text=element_text(size=12)) +\n",
    "  scale_fill_manual(values=cc)\n",
    "plot(g)\n",
    "dev.off()"
   ]
  },
  {
   "cell_type": "markdown",
   "id": "7e23ab72",
   "metadata": {},
   "source": [
    "## Fig. S5"
   ]
  },
  {
   "cell_type": "code",
   "execution_count": 5,
   "id": "2a202e9e",
   "metadata": {},
   "outputs": [
    {
     "data": {
      "text/plain": [
       " contrast      estimate    SE   df t.ratio p.value\n",
       " White - Asian    0.725 0.775 7900   0.935  0.6178\n",
       " White - Black   -1.439 0.760 7900  -1.894  0.1404\n",
       " Asian - Black   -2.164 0.922 7900  -2.346  0.0497\n",
       "\n",
       "P value adjustment: tukey method for comparing a family of 3 estimates "
      ]
     },
     "metadata": {},
     "output_type": "display_data"
    },
    {
     "data": {
      "text/html": [
       "<strong>pdf:</strong> 2"
      ],
      "text/latex": [
       "\\textbf{pdf:} 2"
      ],
      "text/markdown": [
       "**pdf:** 2"
      ],
      "text/plain": [
       "pdf \n",
       "  2 "
      ]
     },
     "metadata": {},
     "output_type": "display_data"
    }
   ],
   "source": [
    "filename_pdf=\"../output/supp_fig_s5.pdf\"\n",
    "\n",
    "res=lm(rws.cnt ~ h.ethnicity , data = rws.cnt)\n",
    "pairs(emmeans(res, ~ h.ethnicity))\n",
    "p.df=emmip(res, ~ h.ethnicity, CIs = T, plotit = F)\n",
    "\n",
    "dodge=position_dodge(width=0.5)\n",
    "pdf(filename_pdf, width=3.17*2, height=5)\n",
    "p=ggplot(p.df, aes(x=h.ethnicity, y=yvar))+\n",
    "  geom_point(size=2.5,position=dodge) + \n",
    "  geom_errorbar(aes(ymin=LCL, ymax=UCL),\n",
    "                position=dodge, size=0.9, width=0.05) +\n",
    "  scale_y_continuous(limits=c(16,22), breaks=seq(16,22,1),\n",
    "                     labels=c(seq(16,22,1))) +\n",
    "  xlab(\"Host Race\") + ylab(\"Mean Reviews\") + theme_classic() + \n",
    "  theme(panel.grid.major=element_blank(),\n",
    "        text=element_text(size=12)) +\n",
    "  scale_color_grey(start=0.5, end=0.5)\n",
    "plot(p)\n",
    "dev.off()"
   ]
  },
  {
   "cell_type": "markdown",
   "id": "0f54309f",
   "metadata": {},
   "source": [
    "## Fig. S6"
   ]
  },
  {
   "cell_type": "code",
   "execution_count": 6,
   "id": "1b9e998c",
   "metadata": {},
   "outputs": [
    {
     "data": {
      "text/html": [
       "<strong>pdf:</strong> 2"
      ],
      "text/latex": [
       "\\textbf{pdf:} 2"
      ],
      "text/markdown": [
       "**pdf:** 2"
      ],
      "text/plain": [
       "pdf \n",
       "  2 "
      ]
     },
     "metadata": {},
     "output_type": "display_data"
    }
   ],
   "source": [
    "filename_pdf=\"../output/supp_fig_s6.pdf\"\n",
    "\n",
    "res=lm(rws.cnt ~ h.ethnicity , data = rws.cnt[rws.cnt$rws.cnt>=6,])\n",
    "p.df=emmip(res, ~ h.ethnicity, CIs = T, plotit = F)\n",
    "\n",
    "dodge=position_dodge(width=0.5)\n",
    "pdf(filename_pdf, width=3.17*2, height=5)\n",
    "p=ggplot(p.df, aes(x=h.ethnicity, y=yvar))+\n",
    "  geom_point(size=2.5,position=dodge) + \n",
    "  geom_errorbar(aes(ymin=LCL, ymax=UCL),\n",
    "                position=dodge, size=0.9, width=0.05) +\n",
    "  scale_y_continuous(limits=c(26,31), breaks=seq(26,31,1),\n",
    "                     labels=c(seq(26,31,1))) +\n",
    "  xlab(\"Host Race\") + ylab(\"Mean Reviews\") + theme_classic() + \n",
    "  theme(panel.grid.major=element_blank(),\n",
    "        text=element_text(size=12)) +\n",
    "  scale_color_grey(start=0.5, end=0.5)\n",
    "plot(p)\n",
    "dev.off()"
   ]
  }
 ],
 "metadata": {
  "kernelspec": {
   "display_name": "R",
   "language": "R",
   "name": "ir"
  },
  "language_info": {
   "codemirror_mode": "r",
   "file_extension": ".r",
   "mimetype": "text/x-r-source",
   "name": "R",
   "pygments_lexer": "r",
   "version": "4.1.2"
  }
 },
 "nbformat": 4,
 "nbformat_minor": 5
}
