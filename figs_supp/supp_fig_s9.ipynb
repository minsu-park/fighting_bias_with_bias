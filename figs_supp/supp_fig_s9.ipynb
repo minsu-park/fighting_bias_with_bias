{
 "cells": [
  {
   "cell_type": "code",
   "execution_count": 3,
   "id": "9f3d1945",
   "metadata": {},
   "outputs": [],
   "source": [
    "library(data.table)\n",
    "library(Rmisc)\n",
    "library(ggplot2)\n",
    "library(dplyr)\n",
    "library(reshape2)\n",
    "library(bit)\n",
    "library(zoo)\n",
    "library(Hmisc)\n",
    "library(boot)"
   ]
  },
  {
   "cell_type": "markdown",
   "id": "0e69e680",
   "metadata": {},
   "source": [
    "## 1. Read raw data and merge them"
   ]
  },
  {
   "cell_type": "code",
   "execution_count": 8,
   "id": "822f82b7",
   "metadata": {},
   "outputs": [],
   "source": [
    "DIR = \"../data/\"\n",
    "\n",
    "rws=fread(paste0(DIR,\"rws.all.csv\"))\n",
    "\n",
    "#-Named-entity recognition for further specifications on racially unidentified users\n",
    "ls.hn.ner=fread(paste0(DIR,\"df_listings_host_name_extended.csv\"))\n",
    "rws=merge(rws,ls.hn.ner, by=\"listing_id\",type=\"left\")\n",
    "\n",
    "guest=fread(paste0(DIR,\"guest.attribute.csv\"))\n",
    "colnames(guest)[c(8)]=c(\"g.ethnicity\")\n",
    "guest=guest[,c(\"guest_id\",\"g.ethnicity\")]\n",
    "rws.gh=left_join(rws,guest, by=\"guest_id\")\n",
    "\n",
    "#-Note that h.num_face==0 represents hots without any human face in their profile photos.\n",
    "#-In this case, h.ethnicity is empty string.\n",
    "#-Additional filtering is required depending on analysis,\n",
    "#-since profile photos with more than 1 human face also have empty string in the h.ethnicity column.\n",
    "host=fread(paste0(DIR,\"host.attribute.csv\"))\n",
    "colnames(host)[c(5,8)]=c(\"h.num_face\",\"h.ethnicity\")\n",
    "host=host[,c(\"listing_id\",\"host_id\",\"h.num_face\",\"h.ethnicity\")]\n",
    "rws.gh=left_join(rws.gh,host, by=c(\"listing_id\",\"host_id\"))\n",
    "\n",
    "tmp_host=host\n",
    "tmp_host$h.ethnicity=ifelse(tmp_host$h.num_face==0, \"RA\", tmp_host$h.ethnicity)\n",
    "\n",
    "#-Remove those racially unidentified guests\n",
    "rws.gh=rws.gh[rws.gh$g.ethnicity!=\"\",]\n",
    "\n",
    "#-Label RA for racially ambiguous hosts\n",
    "rws.gh$h.ethnicity=ifelse(rws.gh$h.num_face==0, \"RA\", rws.gh$h.ethnicity)\n",
    "\n",
    "#-Remove those racially unidentified hosts (with multiple human faces in their profile photos)\n",
    "rws.gh=rws.gh[rws.gh$h.ethnicity!=\"\",]"
   ]
  },
  {
   "cell_type": "code",
   "execution_count": 9,
   "id": "9fc9512f",
   "metadata": {},
   "outputs": [],
   "source": [
    "ls.meta.info=fread(paste0(DIR,\"ls.with.rws.csv\"))\n",
    "h.meta.info=fread(paste0(DIR,\"host.attribute.csv\"))\n",
    "zip2neighborhood=fread(paste0(DIR,\"nyc_zip2neighborhood.csv\"))"
   ]
  },
  {
   "cell_type": "code",
   "execution_count": 10,
   "id": "8e2a42ea",
   "metadata": {},
   "outputs": [],
   "source": [
    "zip2neighborhood$ZipCode=as.character(zip2neighborhood$ZipCode)"
   ]
  },
  {
   "cell_type": "markdown",
   "id": "b6a69abe",
   "metadata": {},
   "source": [
    "## 2. Process reputation and endorsement signals"
   ]
  },
  {
   "cell_type": "code",
   "execution_count": 11,
   "id": "1045cadb",
   "metadata": {},
   "outputs": [],
   "source": [
    "df=rws.gh\n",
    "\n",
    "df=df %>% group_by(listing_id) %>% arrange(date) %>%\n",
    "  mutate(cum.cnt=row_number()-1,\n",
    "         rws.race=lag(g.ethnicity, n = 1, default = NA))\n",
    "\n",
    "#-Create column and add counter\n",
    "df$g.W.cnt=ifelse(df$rws.race==\"WHITE\", 1, 0)\n",
    "df$g.B.cnt=ifelse(df$rws.race==\"BLACK\", 1, 0)\n",
    "df$g.A.cnt=ifelse(df$rws.race==\"ASIAN\", 1, 0)\n",
    "\n",
    "#-Sort reviews for each listing by date\n",
    "#-Then roll sum racial compositions in the most recent 6 reviews for each booking\n",
    "#-Note that the most 6 reviews are the proxy of front-page reviews\n",
    "df = df %>% group_by(listing_id) %>% arrange(date) %>%\n",
    "    mutate(top6.W=rollsumr(g.W.cnt==1, 6, fill=NA),\n",
    "           top6.B=rollsumr(g.B.cnt==1, 6, fill=NA),\n",
    "           top6.A=rollsumr(g.A.cnt==1, 6, fill=NA))\n",
    "\n",
    "#-Code the first review's the most recent previous reviewer's race as 0\n",
    "#-and then count all the previous reviewers' races cumulatively\n",
    "df$rws.race[which(is.na(df$rws.race))]=0\n",
    "\n",
    "df = df %>% group_by(listing_id) %>% arrange(date) %>% \n",
    "    mutate(g.W.cnt=cumsum(rws.race==\"WHITE\"),\n",
    "           g.B.cnt=cumsum(rws.race==\"BLACK\"),\n",
    "           g.A.cnt=cumsum(rws.race==\"ASIAN\"))"
   ]
  },
  {
   "cell_type": "markdown",
   "id": "317ad72b",
   "metadata": {},
   "source": [
    "## 3. Screen instant bookings and split data into different time periods"
   ]
  },
  {
   "cell_type": "code",
   "execution_count": 12,
   "id": "0717298a",
   "metadata": {},
   "outputs": [],
   "source": [
    "#-Extract only listings that allow instant booking\n",
    "df=as.data.table(df)\n",
    "df=df[which(df$instant_bookable==\"t\"),]"
   ]
  },
  {
   "cell_type": "code",
   "execution_count": 13,
   "id": "39b9d6fb",
   "metadata": {},
   "outputs": [],
   "source": [
    "tmp_2018 = df[df$date >= as.Date(\"2018-01-01\")]"
   ]
  },
  {
   "cell_type": "code",
   "execution_count": 14,
   "id": "9567c8a2",
   "metadata": {},
   "outputs": [],
   "source": [
    "tmp_2018$zipcode = ls.meta.info[match(tmp_2018$listing_id, ls.meta.info$listing_id), zipcode]\n",
    "tmp_2018 = merge(tmp_2018, zip2neighborhood, by.x=\"zipcode\", by.y=\"ZipCode\")"
   ]
  },
  {
   "cell_type": "markdown",
   "id": "ba7edf0a",
   "metadata": {},
   "source": [
    "# ----------------------------------------------------------------------------------------"
   ]
  },
  {
   "cell_type": "code",
   "execution_count": 15,
   "id": "afbb0da3",
   "metadata": {},
   "outputs": [],
   "source": [
    "create_ctf_1 = function(df.x) {\n",
    "    df.tmp.ctf=df.x\n",
    "    df.tmp.ctf$pairing.status=0\n",
    "    df.tmp.ctf$g.ethnicity=ifelse(df.tmp.ctf$g.ethnicity==\"BLACK\" |\n",
    "                                  df.tmp.ctf$g.ethnicity==\"ASIAN\",\n",
    "                                  \"WHITE\", \"BLACK\")\n",
    "    return(df.tmp.ctf)\n",
    "}\n",
    "\n",
    "create_ctf_2 = function(df.x) {\n",
    "    df.tmp.ctf=df.x\n",
    "    df.tmp.ctf$pairing.status=0\n",
    "    df.tmp.ctf$g.ethnicity=ifelse(df.tmp.ctf$g.ethnicity==\"BLACK\" |\n",
    "                                  df.tmp.ctf$g.ethnicity==\"WHITE\",\n",
    "                                  \"ASIAN\", \"BLACK\")\n",
    "    return(df.tmp.ctf)\n",
    "}\n",
    "\n",
    "create_ctf = function(df.x) {\n",
    "    return(rbind(create_ctf_1(df.x),create_ctf_2(df.x)))\n",
    "}"
   ]
  },
  {
   "cell_type": "markdown",
   "id": "f7e407af",
   "metadata": {},
   "source": [
    "## Fig. S9A"
   ]
  },
  {
   "cell_type": "markdown",
   "id": "acd5dc60",
   "metadata": {},
   "source": [
    "### 1.1 Compute normed probabilities for guest-host pairing combinations\n",
    "\n",
    "- Compute the weighted mean of means based on the neighborhood-specific normed probabilities and the size of observations!\n",
    "- Fully computed normed probabilities are available (check ***1.2*** without running code below in ***1.1***)"
   ]
  },
  {
   "cell_type": "code",
   "execution_count": 16,
   "id": "9d99a1f7",
   "metadata": {},
   "outputs": [
    {
     "data": {
      "text/plain": [
       "Time difference of 5.210044 mins"
      ]
     },
     "metadata": {},
     "output_type": "display_data"
    }
   ],
   "source": [
    "tmp=tmp_2018[, .N, by=Neighborhood]\n",
    "\n",
    "options(warn=-1)\n",
    "start_time=Sys.time()\n",
    "l_summary_obs=list()\n",
    "l_summary_diff=list()\n",
    "for(n in unique(tmp$Neighborhood)){\n",
    "    df.tmp.obs=tmp_2018[tmp_2018$Neighborhood==n]\n",
    "    \n",
    "    df.tmp.obs$pairing.status=1\n",
    "    df.tmp.ctf=create_ctf(df.tmp.obs)\n",
    "    df.obs.ctf=rbind(df.tmp.obs,df.tmp.ctf)\n",
    "    summary.pairing.prob.obs=summarySE(df.obs.ctf, measurevar=\"pairing.status\",\n",
    "                                       groupvars=c(\"h.ethnicity\", \"g.ethnicity\"))\n",
    "    summary.pairing.prob.obs$neighborhood=n\n",
    "    l_summary_obs[[n]]=summary.pairing.prob.obs\n",
    "    \n",
    "    df.tmp.rnd=df.tmp.obs\n",
    "    \n",
    "    shuffle_time=1000\n",
    "    l_diff=list()\n",
    "    for(x in 1:shuffle_time){\n",
    "        df.tmp=df.tmp.rnd\n",
    "        df.tmp$g.ethnicity=df.tmp.rnd[sample(nrow(df.tmp.rnd), replace=FALSE),]$g.ethnicity\n",
    "\n",
    "        df.tmp.ctf=create_ctf(df.tmp)\n",
    "        df.tmp.rnd.ctf=rbind(df.tmp,df.tmp.ctf)\n",
    "\n",
    "        df.tmp.pairing.prob.obs=summarySE(df.tmp.rnd.ctf, measurevar=\"pairing.status\",\n",
    "                                          groupvars=c(\"h.ethnicity\", \"g.ethnicity\"))\n",
    "        df.tmp.diff=df.tmp.pairing.prob.obs[,1:2]\n",
    "        df.tmp.diff$prob.diff=summary.pairing.prob.obs$pairing.status - df.tmp.pairing.prob.obs$pairing.status\n",
    "        l_diff[[paste(\"obs.rnd.diff\", x, sep=\".\")]]=df.tmp.diff\n",
    "    }\n",
    "\n",
    "    df.pairing.prob.diff=do.call(rbind.data.frame, l_diff)\n",
    "\n",
    "    summary.pairing.prob.diff=summarySE(df.pairing.prob.diff, measurevar=\"prob.diff\",\n",
    "                                        groupvars=c(\"h.ethnicity\", \"g.ethnicity\"))\n",
    "    summary.pairing.prob.diff$ci=summary.pairing.prob.diff$sd*1.96\n",
    "    summary.pairing.prob.diff$neighborhood=n\n",
    "    l_summary_diff[[n]]=summary.pairing.prob.diff\n",
    "}\n",
    "\n",
    "end_time=Sys.time()\n",
    "end_time - start_time\n",
    "options(warn=0)"
   ]
  },
  {
   "cell_type": "code",
   "execution_count": 17,
   "id": "c792589e",
   "metadata": {},
   "outputs": [],
   "source": [
    "tmp_obs=do.call(rbind.data.frame, l_summary_obs)\n",
    "tmp_normed=do.call(rbind.data.frame, l_summary_diff)"
   ]
  },
  {
   "cell_type": "markdown",
   "id": "95c227e3",
   "metadata": {},
   "source": [
    "### 1.2 Visualize normed probabilities by race of guest and host"
   ]
  },
  {
   "cell_type": "code",
   "execution_count": 24,
   "id": "9e0469dc",
   "metadata": {},
   "outputs": [],
   "source": [
    "filename_obs=\"supp_fig_s9a_pairing.prob.obs_2018_neighborhood-based.RDS\"\n",
    "filename_diff=\"supp_fig_s9a_pairing.prob.diff_2018_neighborhood-based.RDS\"\n",
    "filename_pdf=\"supp_fig_s9a.pdf\""
   ]
  },
  {
   "cell_type": "code",
   "execution_count": 140,
   "id": "0085a240",
   "metadata": {},
   "outputs": [],
   "source": [
    "#-Read\n",
    "tmp_obs=readRDS(paste0(DIR,filename_obs))\n",
    "tmp_normed=readRDS(paste0(DIR,filename_diff))"
   ]
  },
  {
   "cell_type": "code",
   "execution_count": 26,
   "id": "4567fdcc",
   "metadata": {},
   "outputs": [],
   "source": [
    "samplewmean <- function(data, d) {\n",
    "  return(weighted.mean(x=data[d,1], w=data[d,2]))\n",
    "}\n",
    "\n",
    "l_boot_mean=list()\n",
    "for (x in unique(tmp_obs$h.ethnicity)) {\n",
    "    for (y in unique(tmp_obs$g.ethnicity)) {\n",
    "        df.tmp.obs=tmp_obs[(tmp_obs$h.ethnicity==x)&\n",
    "                           (tmp_obs$g.ethnicity==y),]\n",
    "        l.weight=df.tmp.obs$N/sum(df.tmp.obs$N)\n",
    "        df.tmp.normed=tmp_normed[(tmp_normed$h.ethnicity==x)&\n",
    "                                 (tmp_normed$g.ethnicity==y),]\n",
    "        l.normed.prob=df.tmp.normed$prob.diff\n",
    "\n",
    "        boot_mean=boot(data=cbind(l.normed.prob, l.weight), \n",
    "                       statistic=samplewmean, \n",
    "                       R=1000)\n",
    "\n",
    "        l_boot_mean[[paste(\"boot_mean\", x, y, sep=\".\")]]=data.frame(matrix(c(boot_mean$t0,sd(boot_mean$t),x,y), 1))\n",
    "    }\n",
    "}\n",
    "\n",
    "tmp=do.call(rbind.data.frame, l_boot_mean)\n",
    "colnames(tmp)=c(\"prob.diff\", \"sd\", \"h.ethnicity\", \"g.ethnicity\")\n",
    "tmp$ci=as.numeric(tmp$sd)*1.96\n",
    "tmp$prob.diff=as.numeric(tmp$prob.diff)"
   ]
  },
  {
   "cell_type": "code",
   "execution_count": 27,
   "id": "55c99643",
   "metadata": {},
   "outputs": [],
   "source": [
    "tmp$h.ethnicity=ifelse(tmp$h.ethnicity==\"RA\",\n",
    "                       \"Racially\\nUnidentified\", tmp$h.ethnicity)\n",
    "re_from=\"\\\\b([[:alpha:]])([[:alpha:]]+)\"\n",
    "tmp$h.ethnicity=gsub(re_from, \"\\\\U\\\\1\\\\L\\\\2\", tmp$h.ethnicity, perl=TRUE)\n",
    "tmp$h.ethnicity=factor(tmp$h.ethnicity,\n",
    "                       levels=c(\"Racially\\nUnidentified\",\"White\",\"Asian\",\"Black\"),\n",
    "                       ordered=TRUE)\n",
    "tmp$g.ethnicity=factor(tmp$g.ethnicity,\n",
    "                       levels=c(\"WHITE\",\"ASIAN\",\"BLACK\"),\n",
    "                       ordered=TRUE)\n",
    "summary.pairing.prob.diff=tmp"
   ]
  },
  {
   "cell_type": "code",
   "execution_count": 28,
   "id": "18dacae7",
   "metadata": {},
   "outputs": [
    {
     "data": {
      "text/html": [
       "<strong>pdf:</strong> 2"
      ],
      "text/latex": [
       "\\textbf{pdf:} 2"
      ],
      "text/markdown": [
       "**pdf:** 2"
      ],
      "text/plain": [
       "pdf \n",
       "  2 "
      ]
     },
     "metadata": {},
     "output_type": "display_data"
    }
   ],
   "source": [
    "l_guest.race.label=c(\n",
    "    \"BLACK\"=\"Black Guest\",\n",
    "    \"WHITE\"=\"White Guest\",\n",
    "    \"ASIAN\"=\"Asian Guest\")\n",
    "\n",
    "dodge=position_dodge(width=0.5)\n",
    "pdf(paste0(\"../output/\",filename_pdf), width=3.17, height=4)\n",
    "g = ggplot(summary.pairing.prob.diff, aes(x=h.ethnicity, y=prob.diff)) + \n",
    "  xlab(\"Host Race\") + \n",
    "  ylab(\"Pairing Probability Compared to Random\") +\n",
    "  geom_point(position=dodge, size=2.5) +\n",
    "  geom_errorbar(aes(ymin=prob.diff-ci, ymax=prob.diff+ci),\n",
    "                size=0.75, width=0.25, position=dodge) +\n",
    "  facet_grid(~g.ethnicity, margins=FALSE, switch=\"y\",\n",
    "             labeller=as_labeller(l_guest.race.label)) + theme_classic() +\n",
    "  scale_y_continuous(limits=c(-0.04,0.04), breaks=seq(-0.04,0.04,0.02),\n",
    "                     labels=c(seq(-0.04,0.04,0.02))) +\n",
    "  theme(panel.border=element_rect(fill=NA, size=0.3),\n",
    "        panel.grid.major=element_blank(),\n",
    "        axis.text.x=element_text(angle=90, hjust=1, vjust=0.4)) +\n",
    "  geom_hline(yintercept=0, linetype=\"dashed\", color=\"#D55E00\") +\n",
    "  scale_color_grey(start=0.5, end=0.5) + theme(text=element_text(size=10))\n",
    "plot(g)\n",
    "dev.off()"
   ]
  },
  {
   "cell_type": "code",
   "execution_count": 29,
   "id": "4146dae0",
   "metadata": {},
   "outputs": [],
   "source": [
    "fig_a=g"
   ]
  },
  {
   "cell_type": "markdown",
   "id": "39fde75c",
   "metadata": {},
   "source": [
    "## Fig. S9B"
   ]
  },
  {
   "cell_type": "markdown",
   "id": "ff1a7e34",
   "metadata": {},
   "source": [
    "### 1.1 Compute normed probabilities for guest-host pairing combinations\n",
    "\n",
    "- Compute the weighted mean of means based on the neighborhood-specific normed probabilities and the size of observations!\n",
    "- Fully computed normed probabilities are available (check ***1.2*** without running code below in ***1.1***)"
   ]
  },
  {
   "cell_type": "code",
   "execution_count": 31,
   "id": "d8394e2e",
   "metadata": {},
   "outputs": [
    {
     "data": {
      "text/plain": [
       "Time difference of 7.003013 mins"
      ]
     },
     "metadata": {},
     "output_type": "display_data"
    }
   ],
   "source": [
    "tmp=tmp_2018[, .N, by=Neighborhood]\n",
    "\n",
    "options(warn=-1)\n",
    "start_time=Sys.time()\n",
    "l_summary_obs=list()\n",
    "l_summary_diff=list()\n",
    "l_summary_obs_binary=list()\n",
    "l_summary_diff_binary=list()\n",
    "for(n in unique(tmp$Neighborhood)){\n",
    "    df.tmp.obs=tmp_2018[tmp_2018$Neighborhood==n]\n",
    "    df.tmp.obs=df.tmp.obs[, c(\"h.ethnicity\", \"g.ethnicity\",\n",
    "                          \"top6.A\", \"top6.B\", \"top6.W\"), with=FALSE]\n",
    "    \n",
    "    df.tmp.obs$pairing.status=1\n",
    "    #-Cap to 5 due to small N for Asian and Black guests on SRE 5 and 6\n",
    "    df.tmp.obs$top6.A=ifelse(df.tmp.obs$top6.A>5, 5, df.tmp.obs$top6.A)\n",
    "    df.tmp.obs$top6.B=ifelse(df.tmp.obs$top6.B>5, 5, df.tmp.obs$top6.B)\n",
    "    df.tmp.obs$top6.W=ifelse(df.tmp.obs$top6.W>5, 5, df.tmp.obs$top6.W)\n",
    "    \n",
    "    df.tmp.ctf=create_ctf(df.tmp.obs)\n",
    "    df.obs.ctf=rbind(df.tmp.obs,df.tmp.ctf)\n",
    "    \n",
    "    df.obs.ctf$sre[df.obs.ctf$g.ethnicity==\"WHITE\"]=df.obs.ctf$top6.W[df.obs.ctf$g.ethnicity==\"WHITE\"]\n",
    "    df.obs.ctf$sre[df.obs.ctf$g.ethnicity==\"ASIAN\"]=df.obs.ctf$top6.A[df.obs.ctf$g.ethnicity==\"ASIAN\"]\n",
    "    df.obs.ctf$sre[df.obs.ctf$g.ethnicity==\"BLACK\"]=df.obs.ctf$top6.B[df.obs.ctf$g.ethnicity==\"BLACK\"]\n",
    "    df.obs.ctf=df.obs.ctf[complete.cases(df.obs.ctf), ]\n",
    "    \n",
    "    summary.pairing.prob.obs=summarySE(df.obs.ctf, measurevar=\"pairing.status\",\n",
    "                                       groupvars=c(\"h.ethnicity\",\n",
    "                                                   \"g.ethnicity\",\n",
    "                                                   \"sre\"))\n",
    "    summary.pairing.prob.obs$neighborhood=n\n",
    "    l_summary_obs[[n]]=summary.pairing.prob.obs\n",
    "    \n",
    "    df.tmp.rnd=df.tmp.obs\n",
    "    \n",
    "    shuffle_time=1000\n",
    "    l_diff=list()\n",
    "    for(x in 1:shuffle_time){\n",
    "        df.tmp=df.tmp.rnd\n",
    "        df.tmp$g.ethnicity=df.tmp.rnd[sample(nrow(df.tmp.rnd), replace=FALSE),]$g.ethnicity\n",
    "\n",
    "        df.tmp.ctf=create_ctf(df.tmp)\n",
    "        df.tmp.rnd.ctf=rbind(df.tmp,df.tmp.ctf)\n",
    "\n",
    "        df.tmp.rnd.ctf$sre[df.tmp.rnd.ctf$g.ethnicity==\"WHITE\"]=df.tmp.rnd.ctf$top6.W[df.tmp.rnd.ctf$g.ethnicity==\"WHITE\"]\n",
    "        df.tmp.rnd.ctf$sre[df.tmp.rnd.ctf$g.ethnicity==\"ASIAN\"]=df.tmp.rnd.ctf$top6.A[df.tmp.rnd.ctf$g.ethnicity==\"ASIAN\"]\n",
    "        df.tmp.rnd.ctf$sre[df.tmp.rnd.ctf$g.ethnicity==\"BLACK\"]=df.tmp.rnd.ctf$top6.B[df.tmp.rnd.ctf$g.ethnicity==\"BLACK\"]\n",
    "        df.tmp.rnd.ctf=df.tmp.rnd.ctf[complete.cases(df.tmp.rnd.ctf), ]\n",
    "        df.tmp.pairing.prob.obs=summarySE(df.tmp.rnd.ctf, measurevar=\"pairing.status\",\n",
    "                                          groupvars=c(\"h.ethnicity\", \"g.ethnicity\", \"sre\"))\n",
    "        \n",
    "        df.tmp.diff=df.tmp.pairing.prob.obs[,1:3]\n",
    "        df.tmp.diff$prob.diff=summary.pairing.prob.obs$pairing.status - df.tmp.pairing.prob.obs$pairing.status\n",
    "        l_diff[[paste(\"obs.rnd.diff\", x, sep=\".\")]]=df.tmp.diff\n",
    "    }\n",
    "\n",
    "    df.pairing.prob.diff=do.call(rbind.data.frame, l_diff)\n",
    "\n",
    "    summary.pairing.prob.diff=summarySE(df.pairing.prob.diff, measurevar=\"prob.diff\",\n",
    "                                        groupvars=c(\"h.ethnicity\", \"g.ethnicity\", \"sre\"))\n",
    "    summary.pairing.prob.diff$ci=summary.pairing.prob.diff$sd*1.96\n",
    "    summary.pairing.prob.diff$neighborhood=n\n",
    "    l_summary_diff[[n]]=summary.pairing.prob.diff\n",
    "    \n",
    "    #-For Fig. 3\n",
    "    tmp.binary.obs=df.obs.ctf[df.obs.ctf$h.ethnicity!=\"RA\",]\n",
    "    tmp.binary.obs$h.ethnicity=ifelse(tmp.binary.obs$h.ethnicity==tmp.binary.obs$g.ethnicity,\n",
    "                                      \"Same-Race\", \"Other-Race\")\n",
    "    summary.pairing.prob.diff=summarySE(tmp.binary.obs, measurevar=\"pairing.status\",\n",
    "                                        groupvars=c(\"h.ethnicity\", \"g.ethnicity\", \"sre\"))\n",
    "    summary.pairing.prob.diff$ci=summary.pairing.prob.diff$sd*1.96\n",
    "    summary.pairing.prob.diff$neighborhood=n\n",
    "    l_summary_obs_binary[[n]]=summary.pairing.prob.diff\n",
    "    \n",
    "    tmp.binary.diff=df.pairing.prob.diff[df.pairing.prob.diff$h.ethnicity!=\"RA\",]\n",
    "    tmp.binary.diff$h.ethnicity=ifelse(tmp.binary.diff$h.ethnicity==tmp.binary.diff$g.ethnicity,\n",
    "                                       \"Same-Race\", \"Other-Race\")\n",
    "    summary.pairing.prob.diff=summarySE(tmp.binary.diff, measurevar=\"prob.diff\",\n",
    "                                        groupvars=c(\"h.ethnicity\", \"g.ethnicity\", \"sre\"))\n",
    "    summary.pairing.prob.diff$ci=summary.pairing.prob.diff$sd*1.96\n",
    "    summary.pairing.prob.diff$neighborhood=n\n",
    "    l_summary_diff_binary[[n]]=summary.pairing.prob.diff\n",
    "}\n",
    "\n",
    "end_time=Sys.time()\n",
    "end_time - start_time\n",
    "options(warn=0)"
   ]
  },
  {
   "cell_type": "code",
   "execution_count": 32,
   "id": "94d236fb",
   "metadata": {},
   "outputs": [],
   "source": [
    "tmp_obs=do.call(rbind.data.frame, l_summary_obs)\n",
    "tmp_normed=do.call(rbind.data.frame, l_summary_diff)"
   ]
  },
  {
   "cell_type": "markdown",
   "id": "7ff321d1",
   "metadata": {},
   "source": [
    "### 1.2 Visualize normed probabilities by race of guest and host"
   ]
  },
  {
   "cell_type": "code",
   "execution_count": 33,
   "id": "58c74614",
   "metadata": {},
   "outputs": [],
   "source": [
    "filename_obs=\"supp_fig_s9b_pairing.prob.obs_2018_neighborhood-based.RDS\"\n",
    "filename_diff=\"supp_fig_s9b_pairing.prob.diff_2018_neighborhood-based.RDS\"\n",
    "filename_pdf=\"supp_fig_s9b.pdf\""
   ]
  },
  {
   "cell_type": "code",
   "execution_count": 146,
   "id": "8af69eb5",
   "metadata": {},
   "outputs": [],
   "source": [
    "#-Read\n",
    "tmp_obs=readRDS(paste0(DIR,filename_obs))\n",
    "tmp_normed=readRDS(paste0(DIR,filename_diff))"
   ]
  },
  {
   "cell_type": "code",
   "execution_count": 35,
   "id": "8eb7d91c",
   "metadata": {},
   "outputs": [
    {
     "data": {
      "text/plain": [
       "Time difference of 1.012948 secs"
      ]
     },
     "metadata": {},
     "output_type": "display_data"
    }
   ],
   "source": [
    "samplewmean <- function(data, d) {\n",
    "  return(weighted.mean(x=data[d,1], w=data[d,2]))\n",
    "}\n",
    "\n",
    "start_time=Sys.time()\n",
    "\n",
    "l_boot_mean=list()\n",
    "for (x in unique(tmp_obs$h.ethnicity)) {\n",
    "    for (y in unique(tmp_obs$g.ethnicity)) {\n",
    "        for (z in unique(tmp_obs$sre)) {\n",
    "            df.tmp.obs=tmp_obs[((tmp_obs$h.ethnicity==x)&\n",
    "                               (tmp_obs$g.ethnicity==y)&\n",
    "                               (tmp_obs$sre==z)),]\n",
    "            l.weight=df.tmp.obs$N/sum(tmp_obs$N)\n",
    "            df.tmp.normed=tmp_normed[((tmp_normed$h.ethnicity==x)&\n",
    "                                      (tmp_normed$g.ethnicity==y)&\n",
    "                                      (tmp_normed$sre==z)),]\n",
    "            l.normed.prob=df.tmp.normed$prob.diff\n",
    "\n",
    "            boot_mean=boot(data=cbind(l.normed.prob, l.weight), \n",
    "                           statistic=samplewmean, \n",
    "                           R=1000)\n",
    "\n",
    "            l_boot_mean[[paste(\"boot_mean\", x, y, z, sep=\".\")]]=data.frame(matrix(c(boot_mean$t0,sd(boot_mean$t),x,y,z), 1))\n",
    "        }    \n",
    "    }\n",
    "}\n",
    "\n",
    "end_time=Sys.time()\n",
    "end_time - start_time\n",
    "\n",
    "tmp_boot=do.call(rbind.data.frame, l_boot_mean)\n",
    "colnames(tmp_boot)=c(\"prob.diff\", \"sd\", \"h.ethnicity\", \"g.ethnicity\", \"sre\")\n",
    "tmp_boot$ci=as.numeric(tmp_boot$sd)*1.96\n",
    "tmp_boot$prob.diff=as.numeric(tmp_boot$prob.diff)"
   ]
  },
  {
   "cell_type": "code",
   "execution_count": 36,
   "id": "f6a69079",
   "metadata": {},
   "outputs": [],
   "source": [
    "summary.pairing.prob.diff=tmp_boot\n",
    "\n",
    "summary.pairing.prob.diff$h.ethnicity=ifelse(summary.pairing.prob.diff$h.ethnicity==\"RA\",\n",
    "                                             \"Racially Unidentified\", summary.pairing.prob.diff$h.ethnicity)\n",
    "\n",
    "re_from=\"\\\\b([[:alpha:]])([[:alpha:]]+)\"\n",
    "summary.pairing.prob.diff$h.ethnicity=gsub(re_from, \"\\\\U\\\\1\\\\L\\\\2\", summary.pairing.prob.diff$h.ethnicity, perl=TRUE)\n",
    "summary.pairing.prob.diff$h.ethnicity=ifelse(summary.pairing.prob.diff$h.ethnicity==\"RA\",\n",
    "                                             \"Racially Unidentified\", summary.pairing.prob.diff$h.ethnicity)\n",
    "\n",
    "summary.pairing.prob.diff$h.ethnicity=factor(summary.pairing.prob.diff$h.ethnicity,\n",
    "                                             levels=c(\"Racially Unidentified\",\"White\",\"Asian\",\"Black\"),\n",
    "                                             ordered=TRUE)\n",
    "\n",
    "summary.pairing.prob.diff$g.ethnicity=factor(summary.pairing.prob.diff$g.ethnicity,\n",
    "                                             levels=c(\"WHITE\",\"ASIAN\",\"BLACK\"),\n",
    "                                             ordered=TRUE)\n",
    "\n",
    "summary.pairing.prob.diff$sre=factor(summary.pairing.prob.diff$sre)"
   ]
  },
  {
   "cell_type": "code",
   "execution_count": 37,
   "id": "20bcfd7f",
   "metadata": {},
   "outputs": [
    {
     "data": {
      "text/html": [
       "<strong>pdf:</strong> 2"
      ],
      "text/latex": [
       "\\textbf{pdf:} 2"
      ],
      "text/markdown": [
       "**pdf:** 2"
      ],
      "text/plain": [
       "pdf \n",
       "  2 "
      ]
     },
     "metadata": {},
     "output_type": "display_data"
    }
   ],
   "source": [
    "tmp = summary.pairing.prob.diff[summary.pairing.prob.diff$h.ethnicity==\"Racially Unidentified\",]\n",
    "\n",
    "l_guest.race.label=c(\n",
    "    \"BLACK\"=\"Black Guest\",\n",
    "    \"WHITE\"=\"White Guest\",\n",
    "    \"ASIAN\"=\"Asian Guest\")\n",
    "cc=c(\"#899da4\",\"#f1aa00\",\"#be5d05\",\"#2c2d4a\")\n",
    "\n",
    "dodge=position_dodge(width=0.5)\n",
    "pdf(paste0(\"../output/\",filename_pdf), width=3.17, height=4)\n",
    "g = ggplot(tmp, aes(x=sre, y=prob.diff)) + \n",
    "  geom_line(position=dodge, size=0.75, aes(color=h.ethnicity, group=h.ethnicity)) +\n",
    "  xlab(\"Number of Same-Race Endorsements\\n(Out of 5 or More Front-Page Reviews)\") + \n",
    "  # ylab(\"Pairing Probability Compared to Random\") +\n",
    "  ylab(\"\") +\n",
    "  geom_point(position=dodge, aes(color=h.ethnicity, group=h.ethnicity), size=2.5) +\n",
    "  geom_errorbar(aes(ymin=prob.diff-ci, ymax=prob.diff+ci, color=h.ethnicity),\n",
    "                size=0.75, width=0.15, position=dodge) +\n",
    "  scale_color_manual(values=cc) +\n",
    "  scale_x_discrete(labels=c(\"0\",\"1\",\"2\",\"3\",\"4\",\"5+\")) +\n",
    "  facet_grid(g.ethnicity~., margins=FALSE, switch=\"y\", scales=\"free_y\",\n",
    "             labeller=as_labeller(l_guest.race.label)) + labs(color=\"Host Race\") +\n",
    "             theme_classic() + theme(panel.border=element_rect(fill=NA, size=0.3)) +\n",
    "  # coord_cartesian(ylim=c(-0.3,0.35)) +\n",
    "  geom_hline(yintercept=0, linetype=\"dashed\", color=\"#D55E00\") +\n",
    "  theme(legend.position=\"none\",\n",
    "        panel.grid.major=element_blank(),\n",
    "        text=element_text(size=10))\n",
    "plot(g)\n",
    "dev.off()"
   ]
  },
  {
   "cell_type": "code",
   "execution_count": 38,
   "id": "1dabb579",
   "metadata": {},
   "outputs": [],
   "source": [
    "fig_b=g"
   ]
  },
  {
   "cell_type": "markdown",
   "id": "0c3bd3dc",
   "metadata": {},
   "source": [
    "## Fig. S9C"
   ]
  },
  {
   "cell_type": "markdown",
   "id": "e360c7ae",
   "metadata": {},
   "source": [
    "### 1.1 Compute normed probabilities for guest-host pairing combinations\n",
    "\n",
    "- Normed probabilities are computed in the previous section (with **Fig. S9B**)."
   ]
  },
  {
   "cell_type": "code",
   "execution_count": 39,
   "id": "203f1ded",
   "metadata": {},
   "outputs": [],
   "source": [
    "tmp_obs=do.call(rbind.data.frame, l_summary_obs_binary)\n",
    "tmp_normed=do.call(rbind.data.frame, l_summary_diff_binary)"
   ]
  },
  {
   "cell_type": "markdown",
   "id": "883ae711",
   "metadata": {},
   "source": [
    "### 1.2 Visualize normed probabilities by race of guest and host"
   ]
  },
  {
   "cell_type": "code",
   "execution_count": 40,
   "id": "0e7f48bd",
   "metadata": {},
   "outputs": [],
   "source": [
    "filename_obs=\"supp_fig_s9c_pairing.prob.obs_2018_neighborhood-based.RDS\"\n",
    "filename_diff=\"supp_fig_s9c_pairing.prob.diff_2018_neighborhood-based.RDS\"\n",
    "filename_pdf=\"supp_fig_s9c.pdf\""
   ]
  },
  {
   "cell_type": "code",
   "execution_count": 152,
   "id": "b016e2a2",
   "metadata": {},
   "outputs": [],
   "source": [
    "#-Read\n",
    "tmp_obs=readRDS(paste0(DIR,filename_obs))\n",
    "tmp_normed=readRDS(paste0(DIR,filename_diff))"
   ]
  },
  {
   "cell_type": "code",
   "execution_count": 42,
   "id": "8cbd9895",
   "metadata": {},
   "outputs": [],
   "source": [
    "l_boot_mean=list()\n",
    "for (x in unique(tmp_obs$h.ethnicity)) {\n",
    "    for (y in unique(tmp_obs$g.ethnicity)) {\n",
    "        for (z in unique(tmp_obs$sre)) {\n",
    "            df.tmp.obs=tmp_obs[((tmp_obs$h.ethnicity==x)&\n",
    "                               (tmp_obs$g.ethnicity==y)&\n",
    "                               (tmp_obs$sre==z)),]\n",
    "            l.weight=df.tmp.obs$N/sum(tmp_obs$N)\n",
    "            df.tmp.normed=tmp_normed[((tmp_normed$h.ethnicity==x)&\n",
    "                                      (tmp_normed$g.ethnicity==y)&\n",
    "                                      (tmp_normed$sre==z)),]\n",
    "            l.normed.prob=df.tmp.normed$prob.diff\n",
    "\n",
    "            boot_mean=boot(data=cbind(l.normed.prob, l.weight), \n",
    "                           statistic=samplewmean, \n",
    "                           R=1000)\n",
    "\n",
    "            l_boot_mean[[paste(\"boot_mean\", x, y, z, sep=\".\")]]=data.frame(matrix(c(boot_mean$t0,sd(boot_mean$t),x,y,z), 1))\n",
    "        }    \n",
    "    }\n",
    "}\n",
    "\n",
    "tmp_boot=do.call(rbind.data.frame, l_boot_mean)\n",
    "colnames(tmp_boot)=c(\"prob.diff\", \"sd\", \"h.ethnicity\", \"g.ethnicity\", \"sre\")\n",
    "tmp_boot$ci=as.numeric(tmp_boot$sd)*1.96\n",
    "tmp_boot$prob.diff=as.numeric(tmp_boot$prob.diff)\n",
    "\n",
    "summary.pairing.prob.diff=tmp_boot\n",
    "summary.pairing.prob.diff$h.ethnicity=factor(summary.pairing.prob.diff$h.ethnicity,\n",
    "                                             levels=c(\"Same-Race\",\"Other-Race\"),\n",
    "                                             ordered=TRUE)\n",
    "summary.pairing.prob.diff$g.ethnicity=factor(summary.pairing.prob.diff$g.ethnicity,\n",
    "                                             levels=c(\"WHITE\",\"ASIAN\",\"BLACK\"),\n",
    "                                             ordered=TRUE)\n",
    "summary.pairing.prob.diff$sre=factor(summary.pairing.prob.diff$sre)"
   ]
  },
  {
   "cell_type": "code",
   "execution_count": 44,
   "id": "519fd55b",
   "metadata": {},
   "outputs": [
    {
     "data": {
      "text/html": [
       "<strong>pdf:</strong> 2"
      ],
      "text/latex": [
       "\\textbf{pdf:} 2"
      ],
      "text/markdown": [
       "**pdf:** 2"
      ],
      "text/plain": [
       "pdf \n",
       "  2 "
      ]
     },
     "metadata": {},
     "output_type": "display_data"
    }
   ],
   "source": [
    "l_guest.race.label=c(\n",
    "    \"BLACK\"=\"Black Guest\",\n",
    "    \"WHITE\"=\"White Guest\",\n",
    "    \"ASIAN\"=\"Asian Guest\")\n",
    "\n",
    "cc=c(\"#be5d05\",\"#2c2d4a\")\n",
    "\n",
    "dodge=position_dodge(width=0.5)\n",
    "pdf(paste0(\"../output/\",filename_pdf), width=3.17, height=4)\n",
    "g = ggplot(summary.pairing.prob.diff, aes(x=sre, y=prob.diff)) + \n",
    "  geom_line(position=dodge, size=0.75, aes(color=h.ethnicity, group=h.ethnicity)) +\n",
    "  xlab(\"Number of Same-Race Endorsements\\n(Out of 5 or More Front-Page Reviews)\") + \n",
    "  # ylab(\"Pairing Probability Compared to Random\") +\n",
    "  ylab(\"\") +\n",
    "  geom_point(position=dodge, aes(color=h.ethnicity, group=h.ethnicity), size=2.5) +\n",
    "  geom_errorbar(aes(ymin=prob.diff-ci, ymax=prob.diff+ci, color=h.ethnicity),\n",
    "                size=0.9, width=0.25, position=dodge) +\n",
    "  scale_color_manual(values=cc) +\n",
    "  scale_x_discrete(labels=c(\"0\",\"1\",\"2\",\"3\",\"4\",\"5+\")) +\n",
    "  facet_grid(g.ethnicity~., margins=FALSE, switch=\"y\", scales=\"free_y\",\n",
    "             labeller=as_labeller(l_guest.race.label)) + labs(color=\"Host Race\") +\n",
    "             theme_classic() + theme(panel.border=element_rect(fill=NA, size=0.3)) +\n",
    "  # coord_cartesian(ylim=c(-0.3,0.4)) +\n",
    "  geom_hline(yintercept=0, linetype=\"dashed\", color=\"#D55E00\") +\n",
    "  theme(legend.direction=\"vertical\",\n",
    "        legend.position=c(0.6,0.77),\n",
    "        legend.justification=\"left\",\n",
    "        legend.margin=margin(0, unit=\"cm\"),\n",
    "        legend.spacing.y=unit(0.1,\"cm\"),\n",
    "        legend.key.size=unit(0.85,\"lines\"),\n",
    "        panel.grid.major=element_blank(),\n",
    "        text=element_text(size=10))\n",
    "plot(g)\n",
    "dev.off()"
   ]
  },
  {
   "cell_type": "code",
   "execution_count": 45,
   "id": "4627ffdb",
   "metadata": {},
   "outputs": [],
   "source": [
    "fig_c=g"
   ]
  },
  {
   "cell_type": "markdown",
   "id": "52f532d6",
   "metadata": {},
   "source": [
    "# ----------------------------------------------------------------------------------------"
   ]
  },
  {
   "cell_type": "code",
   "execution_count": 46,
   "id": "9bd788b2",
   "metadata": {},
   "outputs": [],
   "source": [
    "library(cowplot)\n",
    "\n",
    "g <- plot_grid(fig_a,fig_b,fig_c,\n",
    "               labels=\"AUTO\", label_size=12,\n",
    "               ncol=3)"
   ]
  },
  {
   "cell_type": "code",
   "execution_count": 49,
   "id": "b3d2e9cb",
   "metadata": {},
   "outputs": [
    {
     "data": {
      "text/html": [
       "<strong>pdf:</strong> 2"
      ],
      "text/latex": [
       "\\textbf{pdf:} 2"
      ],
      "text/markdown": [
       "**pdf:** 2"
      ],
      "text/plain": [
       "pdf \n",
       "  2 "
      ]
     },
     "metadata": {},
     "output_type": "display_data"
    }
   ],
   "source": [
    "pdf(file=\"../output/supp_fig_s9.pdf\", width=9.5, height=4)\n",
    "print(g)\n",
    "dev.off()"
   ]
  }
 ],
 "metadata": {
  "kernelspec": {
   "display_name": "R",
   "language": "R",
   "name": "ir"
  },
  "language_info": {
   "codemirror_mode": "r",
   "file_extension": ".r",
   "mimetype": "text/x-r-source",
   "name": "R",
   "pygments_lexer": "r",
   "version": "4.1.2"
  }
 },
 "nbformat": 4,
 "nbformat_minor": 5
}
