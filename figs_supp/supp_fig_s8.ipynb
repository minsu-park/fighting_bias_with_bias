{
 "cells": [
  {
   "cell_type": "code",
   "execution_count": 2,
   "id": "4976820a",
   "metadata": {},
   "outputs": [],
   "source": [
    "library(data.table)\n",
    "library(Rmisc)\n",
    "library(ggplot2)\n",
    "library(dplyr)\n",
    "library(reshape2)\n",
    "library(bit)\n",
    "library(zoo)"
   ]
  },
  {
   "cell_type": "markdown",
   "id": "e64969c9",
   "metadata": {},
   "source": [
    "## 1. Read raw data and merge them"
   ]
  },
  {
   "cell_type": "code",
   "execution_count": 3,
   "id": "ea90bb86",
   "metadata": {},
   "outputs": [],
   "source": [
    "DIR = \"../data/\"\n",
    "\n",
    "rws=fread(paste0(DIR,\"rws.all.csv\"))\n",
    "ls.hn.ner=fread(paste0(DIR,\"df_listings_host_name_extended.csv\"))\n",
    "rws=merge(rws,ls.hn.ner, by=\"listing_id\",type=\"left\")\n",
    "\n",
    "guest=fread(paste0(DIR,\"guest.attribute.csv\"))\n",
    "colnames(guest)[c(8)]=c(\"g.ethnicity\")\n",
    "guest=guest[,c(\"guest_id\",\"g.ethnicity\")]\n",
    "rws.gh=left_join(rws,guest, by=\"guest_id\")\n",
    "\n",
    "#-Note that h.num_face==0 represents hots without any human face in their profile photos.\n",
    "#-In this case, h.ethnicity is empty string.\n",
    "#-Additional filtering is required depending on analysis,\n",
    "#-since profile photos with more than 1 human face also have empty string in the h.ethnicity column.\n",
    "host=fread(paste0(DIR,\"host.attribute.csv\"))\n",
    "colnames(host)[c(5,8)]=c(\"h.num_face\",\"h.ethnicity\")\n",
    "host=host[,c(\"listing_id\",\"host_id\",\"h.num_face\",\"h.ethnicity\")]\n",
    "rws.gh=left_join(rws.gh,host, by=c(\"listing_id\",\"host_id\"))\n",
    "\n",
    "tmp_host=host\n",
    "tmp_host$h.ethnicity=ifelse(tmp_host$h.num_face==0, \"RA\", tmp_host$h.ethnicity)\n",
    "\n",
    "#-Remove those racially unidentified guests\n",
    "rws.gh=rws.gh[rws.gh$g.ethnicity!=\"\",]\n",
    "\n",
    "#-Label RA for racially ambiguous hosts\n",
    "rws.gh$h.ethnicity=ifelse(rws.gh$h.num_face==0, \"RA\", rws.gh$h.ethnicity)\n",
    "\n",
    "#-Remove those racially unidentified hosts (with multiple human faces in their profile photos)\n",
    "rws.gh=rws.gh[rws.gh$h.ethnicity!=\"\",]"
   ]
  },
  {
   "cell_type": "markdown",
   "id": "4bffff23",
   "metadata": {},
   "source": [
    "## 2. Process reputation and endorsement signals"
   ]
  },
  {
   "cell_type": "code",
   "execution_count": 4,
   "id": "ebf9b0ff",
   "metadata": {},
   "outputs": [],
   "source": [
    "df=rws.gh\n",
    "\n",
    "df=df %>% group_by(listing_id) %>% arrange(date) %>%\n",
    "  mutate(cum.cnt=row_number()-1,\n",
    "         rws.race=lag(g.ethnicity, n = 1, default = NA))\n",
    "\n",
    "#-Create column and add counter\n",
    "df$g.W.cnt=ifelse(df$rws.race==\"WHITE\", 1, 0)\n",
    "df$g.B.cnt=ifelse(df$rws.race==\"BLACK\", 1, 0)\n",
    "df$g.A.cnt=ifelse(df$rws.race==\"ASIAN\", 1, 0)\n",
    "\n",
    "#-Sort reviews for each listing by date\n",
    "#-Then roll sum racial compositions in the most recent 6 reviews for each booking\n",
    "#-Note that the most 6 reviews are the proxy of front-page reviews\n",
    "df = df %>% group_by(listing_id) %>% arrange(date) %>%\n",
    "    mutate(top6.W=rollsumr(g.W.cnt==1, 6, fill=NA),\n",
    "           top6.B=rollsumr(g.B.cnt==1, 6, fill=NA),\n",
    "           top6.A=rollsumr(g.A.cnt==1, 6, fill=NA))\n",
    "\n",
    "#-Code the first review's the most recent previous reviewer's race as 0\n",
    "#-and then count all the previous reviewers' races cumulatively\n",
    "df$rws.race[which(is.na(df$rws.race))]=0\n",
    "\n",
    "df = df %>% group_by(listing_id) %>% arrange(date) %>% \n",
    "    mutate(g.W.cnt=cumsum(rws.race==\"WHITE\"),\n",
    "           g.B.cnt=cumsum(rws.race==\"BLACK\"),\n",
    "           g.A.cnt=cumsum(rws.race==\"ASIAN\"))"
   ]
  },
  {
   "cell_type": "markdown",
   "id": "ffa558f0",
   "metadata": {},
   "source": [
    "## 3. Screen instant bookings and split data into different time periods"
   ]
  },
  {
   "cell_type": "code",
   "execution_count": 5,
   "id": "660e5f35",
   "metadata": {},
   "outputs": [],
   "source": [
    "df=as.data.table(df)\n",
    "\n",
    "#-Extract only listings that allow instant booking\n",
    "df=df[which(df$instant_bookable==\"t\"),]"
   ]
  },
  {
   "cell_type": "code",
   "execution_count": 6,
   "id": "0fc70d5c",
   "metadata": {},
   "outputs": [],
   "source": [
    "#-Booking in 2017 and later among listings that appeared in 2017 and later\n",
    "df.recent.by.new=df\n",
    "df.recent.by.new$first.date=with(df, ave(date, listing_id, FUN = function(x) x[1]))\n",
    "                                  \n",
    "l.listing.recent=df.recent.by.new[df.recent.by.new$first.date >= as.Date(\"2017-01-01\")]$listing_id\n",
    "df.recent.by.new=df.recent.by.new[df.recent.by.new$listing_id %in% l.listing.recent,]"
   ]
  },
  {
   "cell_type": "code",
   "execution_count": 7,
   "id": "6c5f2dac",
   "metadata": {},
   "outputs": [],
   "source": [
    "#-Booking in 2017 and later among listings that appeared before 2017\n",
    "df.recent.by.old=df\n",
    "df.recent.by.old$first.date=with(df, ave(date, listing_id, FUN = function(x) x[1]))\n",
    "\n",
    "l.listing.old=df.recent.by.old[df.recent.by.old$first.date < as.Date(\"2017-01-01\")]$listing_id\n",
    "df.recent.by.old=df.recent.by.old[df.recent.by.old$listing_id %in% l.listing.old,]\n",
    "df.recent.by.old=df.recent.by.old[df.recent.by.old$date >= as.Date(\"2017-01-01\")]"
   ]
  },
  {
   "cell_type": "code",
   "execution_count": 9,
   "id": "cccef79f",
   "metadata": {},
   "outputs": [
    {
     "data": {
      "text/plain": [
       "\n",
       "\tWilcoxon rank sum test with continuity correction\n",
       "\n",
       "data:  df.recent.by.old$cum.cnt and df.recent.by.new$cum.cnt\n",
       "W = 3035884340, p-value < 2.2e-16\n",
       "alternative hypothesis: true location shift is not equal to 0\n"
      ]
     },
     "metadata": {},
     "output_type": "display_data"
    },
    {
     "data": {
      "text/html": [
       "49.575983042167"
      ],
      "text/latex": [
       "49.575983042167"
      ],
      "text/markdown": [
       "49.575983042167"
      ],
      "text/plain": [
       "[1] 49.57598"
      ]
     },
     "metadata": {},
     "output_type": "display_data"
    },
    {
     "data": {
      "text/html": [
       "11.3590804967247"
      ],
      "text/latex": [
       "11.3590804967247"
      ],
      "text/markdown": [
       "11.3590804967247"
      ],
      "text/plain": [
       "[1] 11.35908"
      ]
     },
     "metadata": {},
     "output_type": "display_data"
    }
   ],
   "source": [
    "wilcox.test(df.recent.by.old$cum.cnt, df.recent.by.new$cum.cnt, alternative=\"two.sided\")\n",
    "\n",
    "mean(df.recent.by.old$cum.cnt)\n",
    "mean(df.recent.by.new$cum.cnt)"
   ]
  },
  {
   "cell_type": "code",
   "execution_count": 10,
   "id": "84671d6d",
   "metadata": {},
   "outputs": [
    {
     "data": {
      "text/html": [
       "<time datetime=\"2016-12-31\">2016-12-31</time>"
      ],
      "text/latex": [
       "2016-12-31"
      ],
      "text/markdown": [
       "2016-12-31"
      ],
      "text/plain": [
       "[1] \"2016-12-31\""
      ]
     },
     "metadata": {},
     "output_type": "display_data"
    },
    {
     "data": {
      "text/html": [
       "<time datetime=\"2017-01-01\">2017-01-01</time>"
      ],
      "text/latex": [
       "2017-01-01"
      ],
      "text/markdown": [
       "2017-01-01"
      ],
      "text/plain": [
       "[1] \"2017-01-01\""
      ]
     },
     "metadata": {},
     "output_type": "display_data"
    }
   ],
   "source": [
    "#-Bookings before 2017 & in 2017 and after\n",
    "tmp_before.2017 = df[df$date < as.Date(\"2017-01-01\")]\n",
    "max(tmp_before.2017$date)\n",
    "tmp_2017_and_after = df[df$date >= as.Date(\"2017-01-01\")]\n",
    "min(tmp_2017_and_after$date)"
   ]
  },
  {
   "cell_type": "markdown",
   "id": "1ce2ccbb",
   "metadata": {},
   "source": [
    "# ----------------------------------------------------------------------------------------"
   ]
  },
  {
   "cell_type": "code",
   "execution_count": 11,
   "id": "bbd787ed",
   "metadata": {},
   "outputs": [],
   "source": [
    "create_ctf_1 = function(df.x) {\n",
    "    df.tmp.ctf=df.x\n",
    "    df.tmp.ctf$pairing.status=0\n",
    "    df.tmp.ctf$g.ethnicity=ifelse(df.tmp.ctf$g.ethnicity==\"BLACK\" |\n",
    "                                  df.tmp.ctf$g.ethnicity==\"ASIAN\",\n",
    "                                  \"WHITE\", \"BLACK\")\n",
    "    return(df.tmp.ctf)\n",
    "}\n",
    "\n",
    "create_ctf_2 = function(df.x) {\n",
    "    df.tmp.ctf=df.x\n",
    "    df.tmp.ctf$pairing.status=0\n",
    "    df.tmp.ctf$g.ethnicity=ifelse(df.tmp.ctf$g.ethnicity==\"BLACK\" |\n",
    "                                  df.tmp.ctf$g.ethnicity==\"WHITE\",\n",
    "                                  \"ASIAN\", \"BLACK\")\n",
    "    return(df.tmp.ctf)\n",
    "}\n",
    "\n",
    "create_ctf = function(df.x) {\n",
    "    return(rbind(create_ctf_1(df.x),create_ctf_2(df.x)))\n",
    "}"
   ]
  },
  {
   "cell_type": "markdown",
   "id": "3c7161b0",
   "metadata": {},
   "source": [
    "## Fig. S8A,D,G\n",
    "\n",
    "- Replications of **Fig. 1** in the main"
   ]
  },
  {
   "cell_type": "markdown",
   "id": "bf2f3f1f",
   "metadata": {},
   "source": [
    "### 1.1 Choose sample\n",
    "\n",
    "- Fully computed normed probabilities are available (check ***1.3*** without running code in ***1.2***)"
   ]
  },
  {
   "cell_type": "code",
   "execution_count": 65,
   "id": "9e898e81",
   "metadata": {},
   "outputs": [],
   "source": [
    "df.tmp.obs=tmp_before.2017[, c(\"h.ethnicity\", \"g.ethnicity\"), with=FALSE]\n",
    "filename_obs=\"supp_fig_s8a_pairing.prob.obs_before_2017.RDS\"\n",
    "filename_diff=\"supp_fig_s8a_pairing.prob.diff_before_2017.RDS\"\n",
    "filename_pdf=\"supp_fig_s8a.pdf\"\n",
    "\n",
    "# df.tmp.obs=df.recent.by.old[, c(\"h.ethnicity\", \"g.ethnicity\"), with=FALSE]\n",
    "# filename_obs=\"supp_fig_s8d_pairing.prob.obs_recent_by_old.RDS\"\n",
    "# filename_diff=\"supp_fig_s8d_pairing.prob.diff_recent_by_old.RDS\"\n",
    "# filename_pdf=\"supp_fig_s8d.pdf\"\n",
    "\n",
    "# df.tmp.obs=df.recent.by.new[, c(\"h.ethnicity\", \"g.ethnicity\"), with=FALSE]\n",
    "# filename_obs=\"supp_fig_s8g_pairing.prob.obs_recent_by_new.RDS\"\n",
    "# filename_diff=\"supp_fig_s8g_pairing.prob.diff_recent_by_new.RDS\"\n",
    "# filename_pdf=\"supp_fig_s8g.pdf\""
   ]
  },
  {
   "cell_type": "markdown",
   "id": "2fde334d",
   "metadata": {},
   "source": [
    "### 1.2 Compute normed probabilities for guest-host pairing combinations"
   ]
  },
  {
   "cell_type": "code",
   "execution_count": 40,
   "id": "4fba965c",
   "metadata": {},
   "outputs": [
    {
     "data": {
      "text/plain": [
       "Time difference of 1.463654 mins"
      ]
     },
     "metadata": {},
     "output_type": "display_data"
    }
   ],
   "source": [
    "df.tmp.obs$pairing.status=1\n",
    "df.tmp.ctf=create_ctf(df.tmp.obs)\n",
    "\n",
    "df.obs.ctf=rbind(df.tmp.obs,df.tmp.ctf)\n",
    "summary.pairing.prob.obs=summarySE(df.obs.ctf, measurevar=\"pairing.status\",\n",
    "                                   groupvars=c(\"h.ethnicity\", \"g.ethnicity\"))\n",
    "\n",
    "df.tmp.rnd=df.tmp.obs\n",
    "\n",
    "#-Permutate g.ethnicity for n times to create a random baseline\n",
    "#-to compare the difference between obeservations and random chances\n",
    "#-as well as to create standard errors... .\n",
    "\n",
    "start_time=Sys.time()\n",
    "\n",
    "shuffle_time=1000\n",
    "l_rand=list()\n",
    "l_diff=list()\n",
    "for(x in 1:shuffle_time){\n",
    "    df.tmp=df.tmp.rnd\n",
    "    df.tmp$g.ethnicity=df.tmp.rnd[sample(nrow(df.tmp.rnd), replace=FALSE),]$g.ethnicity\n",
    "        \n",
    "    df.tmp.ctf=create_ctf(df.tmp)\n",
    "    df.tmp.rnd.ctf=rbind(df.tmp,df.tmp.ctf)\n",
    "    \n",
    "    df.tmp.pairing.prob.obs=summarySE(df.tmp.rnd.ctf, measurevar=\"pairing.status\",\n",
    "                                      groupvars=c(\"h.ethnicity\", \"g.ethnicity\"))\n",
    "    l_rand[[paste(\"g.rnd.ethnicity\", x, sep=\".\")]]=df.tmp.pairing.prob.obs\n",
    "    df.tmp.diff=df.tmp.pairing.prob.obs[,1:2]\n",
    "    df.tmp.diff$prob.diff=summary.pairing.prob.obs$pairing.status - df.tmp.pairing.prob.obs$pairing.status\n",
    "    l_diff[[paste(\"obs.rnd.diff\", x, sep=\".\")]]=df.tmp.diff\n",
    "}\n",
    "\n",
    "df.pairing.prob.diff=do.call(rbind.data.frame, l_diff)\n",
    "\n",
    "#-Save\n",
    "saveRDS(summary.pairing.prob.obs, paste0(DIR,filename_obs))\n",
    "saveRDS(df.pairing.prob.diff, paste0(DIR,filename_diff))\n",
    "\n",
    "end_time=Sys.time()\n",
    "end_time - start_time"
   ]
  },
  {
   "cell_type": "markdown",
   "id": "835139ce",
   "metadata": {},
   "source": [
    "### 1.3 Visualize normed probabilities by race of guest and host"
   ]
  },
  {
   "cell_type": "code",
   "execution_count": 66,
   "id": "b94c1d3e",
   "metadata": {},
   "outputs": [],
   "source": [
    "df.pairing.prob.diff=readRDS(paste0(DIR,filename_diff))"
   ]
  },
  {
   "cell_type": "code",
   "execution_count": 67,
   "id": "b5339807",
   "metadata": {},
   "outputs": [],
   "source": [
    "summary.pairing.prob.diff=summarySE(df.pairing.prob.diff, measurevar=\"prob.diff\",\n",
    "                                    groupvars=c(\"h.ethnicity\", \"g.ethnicity\"))\n",
    "\n",
    "summary.pairing.prob.diff$ci=summary.pairing.prob.diff$sd*1.96\n",
    "\n",
    "summary.pairing.prob.diff$h.ethnicity=ifelse(summary.pairing.prob.diff$h.ethnicity==\"RA\",\n",
    "                                             \"Racially\\nUnidentified\", summary.pairing.prob.diff$h.ethnicity)\n",
    "\n",
    "re_from=\"\\\\b([[:alpha:]])([[:alpha:]]+)\"\n",
    "summary.pairing.prob.diff$h.ethnicity=gsub(re_from, \"\\\\U\\\\1\\\\L\\\\2\", summary.pairing.prob.diff$h.ethnicity, perl=TRUE)\n",
    "\n",
    "summary.pairing.prob.diff$h.ethnicity=factor(summary.pairing.prob.diff$h.ethnicity,\n",
    "                                             levels=c(\"Racially\\nUnidentified\",\"White\",\"Asian\",\"Black\"),\n",
    "                                             ordered=TRUE)\n",
    "\n",
    "summary.pairing.prob.diff$g.ethnicity=factor(summary.pairing.prob.diff$g.ethnicity,\n",
    "                                             levels=c(\"WHITE\",\"ASIAN\",\"BLACK\"),\n",
    "                                             ordered=TRUE)"
   ]
  },
  {
   "cell_type": "code",
   "execution_count": 68,
   "id": "39c05fc5",
   "metadata": {},
   "outputs": [
    {
     "data": {
      "text/html": [
       "<strong>pdf:</strong> 2"
      ],
      "text/latex": [
       "\\textbf{pdf:} 2"
      ],
      "text/markdown": [
       "**pdf:** 2"
      ],
      "text/plain": [
       "pdf \n",
       "  2 "
      ]
     },
     "metadata": {},
     "output_type": "display_data"
    }
   ],
   "source": [
    "l_guest.race.label=c(\n",
    "    \"BLACK\"=\"Black Guest\",\n",
    "    \"WHITE\"=\"White Guest\",\n",
    "    \"ASIAN\"=\"Asian Guest\")\n",
    "\n",
    "dodge=position_dodge(width=0.5)\n",
    "pdf(paste0(\"../output/\",filename_pdf), width=3.17, height=5)\n",
    "g = ggplot(summary.pairing.prob.diff, aes(x=h.ethnicity, y=prob.diff)) + \n",
    "  xlab(\"Host Race\") + \n",
    "  ylab(\"Pairing Probability Compared to Random\") +\n",
    "  geom_point(position=dodge, size=2.5) +\n",
    "  geom_errorbar(aes(ymin=prob.diff-ci, ymax=prob.diff+ci),\n",
    "                size=0.75, width=0.25, position=dodge) +\n",
    "  facet_grid(~g.ethnicity, margins=FALSE, switch=\"y\",\n",
    "             labeller=as_labeller(l_guest.race.label)) + theme_classic() +\n",
    "  scale_y_continuous(limits=c(-0.08,0.08), breaks=seq(-0.08,0.08,0.02),\n",
    "                     labels=c(seq(-0.08,0.08,0.02))) +\n",
    "  theme(panel.border=element_rect(fill=NA, size=0.3),\n",
    "        panel.grid.major=element_blank(),\n",
    "        axis.text.x=element_text(angle=90, hjust=1, vjust=0.4)) +\n",
    "  geom_hline(yintercept=0, linetype=\"dashed\", color=\"#D55E00\") +\n",
    "  scale_color_grey(start=0.5, end=0.5) + theme(text=element_text(size=10))\n",
    "plot(g)\n",
    "dev.off()"
   ]
  },
  {
   "cell_type": "code",
   "execution_count": 69,
   "id": "d94a08ab",
   "metadata": {},
   "outputs": [],
   "source": [
    "fig_a = g\n",
    "# fig_d = g\n",
    "# fig_g = g"
   ]
  },
  {
   "cell_type": "markdown",
   "id": "eb25ad87",
   "metadata": {},
   "source": [
    "### The same analysis with a simpler approach!\n",
    "\n",
    "- We used above method to check more details of the distributional information for each shuffling iteration.\n",
    "- Below approach is much faster and easier to implement!"
   ]
  },
  {
   "cell_type": "code",
   "execution_count": 27,
   "id": "bb6ed513",
   "metadata": {},
   "outputs": [],
   "source": [
    "df.tmp.obs=tmp_before.2017[, c(\"h.ethnicity\", \"g.ethnicity\"), with=FALSE]\n",
    "# df.tmp.obs=df.recent.by.old[, c(\"h.ethnicity\", \"g.ethnicity\"), with=FALSE]\n",
    "# df.tmp.obs=df.recent.by.new[, c(\"h.ethnicity\", \"g.ethnicity\"), with=FALSE]"
   ]
  },
  {
   "cell_type": "code",
   "execution_count": 28,
   "id": "479f1ae1",
   "metadata": {},
   "outputs": [
    {
     "data": {
      "text/html": [
       "<table class=\"dataframe\">\n",
       "<caption>A data.frame: 12 × 3</caption>\n",
       "<thead>\n",
       "\t<tr><th scope=col>h.ethnicity</th><th scope=col>g.ethnicity</th><th scope=col>Freq</th></tr>\n",
       "\t<tr><th scope=col>&lt;fct&gt;</th><th scope=col>&lt;fct&gt;</th><th scope=col>&lt;dbl&gt;</th></tr>\n",
       "</thead>\n",
       "<tbody>\n",
       "\t<tr><td>ASIAN</td><td>ASIAN</td><td>0.2599042</td></tr>\n",
       "\t<tr><td>BLACK</td><td>ASIAN</td><td>0.2218076</td></tr>\n",
       "\t<tr><td>RA   </td><td>ASIAN</td><td>0.2201639</td></tr>\n",
       "\t<tr><td>WHITE</td><td>ASIAN</td><td>0.2213843</td></tr>\n",
       "\t<tr><td>ASIAN</td><td>BLACK</td><td>0.1316565</td></tr>\n",
       "\t<tr><td>BLACK</td><td>BLACK</td><td>0.1922333</td></tr>\n",
       "\t<tr><td>RA   </td><td>BLACK</td><td>0.1495547</td></tr>\n",
       "\t<tr><td>WHITE</td><td>BLACK</td><td>0.1302721</td></tr>\n",
       "\t<tr><td>ASIAN</td><td>WHITE</td><td>0.6084393</td></tr>\n",
       "\t<tr><td>BLACK</td><td>WHITE</td><td>0.5859591</td></tr>\n",
       "\t<tr><td>RA   </td><td>WHITE</td><td>0.6302814</td></tr>\n",
       "\t<tr><td>WHITE</td><td>WHITE</td><td>0.6483437</td></tr>\n",
       "</tbody>\n",
       "</table>\n"
      ],
      "text/latex": [
       "A data.frame: 12 × 3\n",
       "\\begin{tabular}{lll}\n",
       " h.ethnicity & g.ethnicity & Freq\\\\\n",
       " <fct> & <fct> & <dbl>\\\\\n",
       "\\hline\n",
       "\t ASIAN & ASIAN & 0.2599042\\\\\n",
       "\t BLACK & ASIAN & 0.2218076\\\\\n",
       "\t RA    & ASIAN & 0.2201639\\\\\n",
       "\t WHITE & ASIAN & 0.2213843\\\\\n",
       "\t ASIAN & BLACK & 0.1316565\\\\\n",
       "\t BLACK & BLACK & 0.1922333\\\\\n",
       "\t RA    & BLACK & 0.1495547\\\\\n",
       "\t WHITE & BLACK & 0.1302721\\\\\n",
       "\t ASIAN & WHITE & 0.6084393\\\\\n",
       "\t BLACK & WHITE & 0.5859591\\\\\n",
       "\t RA    & WHITE & 0.6302814\\\\\n",
       "\t WHITE & WHITE & 0.6483437\\\\\n",
       "\\end{tabular}\n"
      ],
      "text/markdown": [
       "\n",
       "A data.frame: 12 × 3\n",
       "\n",
       "| h.ethnicity &lt;fct&gt; | g.ethnicity &lt;fct&gt; | Freq &lt;dbl&gt; |\n",
       "|---|---|---|\n",
       "| ASIAN | ASIAN | 0.2599042 |\n",
       "| BLACK | ASIAN | 0.2218076 |\n",
       "| RA    | ASIAN | 0.2201639 |\n",
       "| WHITE | ASIAN | 0.2213843 |\n",
       "| ASIAN | BLACK | 0.1316565 |\n",
       "| BLACK | BLACK | 0.1922333 |\n",
       "| RA    | BLACK | 0.1495547 |\n",
       "| WHITE | BLACK | 0.1302721 |\n",
       "| ASIAN | WHITE | 0.6084393 |\n",
       "| BLACK | WHITE | 0.5859591 |\n",
       "| RA    | WHITE | 0.6302814 |\n",
       "| WHITE | WHITE | 0.6483437 |\n",
       "\n"
      ],
      "text/plain": [
       "   h.ethnicity g.ethnicity Freq     \n",
       "1  ASIAN       ASIAN       0.2599042\n",
       "2  BLACK       ASIAN       0.2218076\n",
       "3  RA          ASIAN       0.2201639\n",
       "4  WHITE       ASIAN       0.2213843\n",
       "5  ASIAN       BLACK       0.1316565\n",
       "6  BLACK       BLACK       0.1922333\n",
       "7  RA          BLACK       0.1495547\n",
       "8  WHITE       BLACK       0.1302721\n",
       "9  ASIAN       WHITE       0.6084393\n",
       "10 BLACK       WHITE       0.5859591\n",
       "11 RA          WHITE       0.6302814\n",
       "12 WHITE       WHITE       0.6483437"
      ]
     },
     "metadata": {},
     "output_type": "display_data"
    }
   ],
   "source": [
    "t_obs=table(df.tmp.obs)\n",
    "t_obs_prob=t(apply(t_obs, 1, function(x) x/sum(x)))\n",
    "t_obs_prob=as.data.frame(as.table(t_obs_prob))\n",
    "t_obs_prob"
   ]
  },
  {
   "cell_type": "code",
   "execution_count": 29,
   "id": "99f7dd95",
   "metadata": {},
   "outputs": [
    {
     "data": {
      "text/html": [
       "<table class=\"dataframe\">\n",
       "<caption>A data.frame: 12 × 3</caption>\n",
       "<thead>\n",
       "\t<tr><th scope=col>h.ethnicity</th><th scope=col>g.ethnicity</th><th scope=col>Freq</th></tr>\n",
       "\t<tr><th scope=col>&lt;fct&gt;</th><th scope=col>&lt;fct&gt;</th><th scope=col>&lt;dbl&gt;</th></tr>\n",
       "</thead>\n",
       "<tbody>\n",
       "\t<tr><td>ASIAN</td><td>ASIAN</td><td>0.2274737</td></tr>\n",
       "\t<tr><td>BLACK</td><td>ASIAN</td><td>0.2297540</td></tr>\n",
       "\t<tr><td>RA   </td><td>ASIAN</td><td>0.2268614</td></tr>\n",
       "\t<tr><td>WHITE</td><td>ASIAN</td><td>0.2253785</td></tr>\n",
       "\t<tr><td>ASIAN</td><td>BLACK</td><td>0.1473190</td></tr>\n",
       "\t<tr><td>BLACK</td><td>BLACK</td><td>0.1449696</td></tr>\n",
       "\t<tr><td>RA   </td><td>BLACK</td><td>0.1454934</td></tr>\n",
       "\t<tr><td>WHITE</td><td>BLACK</td><td>0.1462209</td></tr>\n",
       "\t<tr><td>ASIAN</td><td>WHITE</td><td>0.6252073</td></tr>\n",
       "\t<tr><td>BLACK</td><td>WHITE</td><td>0.6252764</td></tr>\n",
       "\t<tr><td>RA   </td><td>WHITE</td><td>0.6276452</td></tr>\n",
       "\t<tr><td>WHITE</td><td>WHITE</td><td>0.6284006</td></tr>\n",
       "</tbody>\n",
       "</table>\n"
      ],
      "text/latex": [
       "A data.frame: 12 × 3\n",
       "\\begin{tabular}{lll}\n",
       " h.ethnicity & g.ethnicity & Freq\\\\\n",
       " <fct> & <fct> & <dbl>\\\\\n",
       "\\hline\n",
       "\t ASIAN & ASIAN & 0.2274737\\\\\n",
       "\t BLACK & ASIAN & 0.2297540\\\\\n",
       "\t RA    & ASIAN & 0.2268614\\\\\n",
       "\t WHITE & ASIAN & 0.2253785\\\\\n",
       "\t ASIAN & BLACK & 0.1473190\\\\\n",
       "\t BLACK & BLACK & 0.1449696\\\\\n",
       "\t RA    & BLACK & 0.1454934\\\\\n",
       "\t WHITE & BLACK & 0.1462209\\\\\n",
       "\t ASIAN & WHITE & 0.6252073\\\\\n",
       "\t BLACK & WHITE & 0.6252764\\\\\n",
       "\t RA    & WHITE & 0.6276452\\\\\n",
       "\t WHITE & WHITE & 0.6284006\\\\\n",
       "\\end{tabular}\n"
      ],
      "text/markdown": [
       "\n",
       "A data.frame: 12 × 3\n",
       "\n",
       "| h.ethnicity &lt;fct&gt; | g.ethnicity &lt;fct&gt; | Freq &lt;dbl&gt; |\n",
       "|---|---|---|\n",
       "| ASIAN | ASIAN | 0.2274737 |\n",
       "| BLACK | ASIAN | 0.2297540 |\n",
       "| RA    | ASIAN | 0.2268614 |\n",
       "| WHITE | ASIAN | 0.2253785 |\n",
       "| ASIAN | BLACK | 0.1473190 |\n",
       "| BLACK | BLACK | 0.1449696 |\n",
       "| RA    | BLACK | 0.1454934 |\n",
       "| WHITE | BLACK | 0.1462209 |\n",
       "| ASIAN | WHITE | 0.6252073 |\n",
       "| BLACK | WHITE | 0.6252764 |\n",
       "| RA    | WHITE | 0.6276452 |\n",
       "| WHITE | WHITE | 0.6284006 |\n",
       "\n"
      ],
      "text/plain": [
       "   h.ethnicity g.ethnicity Freq     \n",
       "1  ASIAN       ASIAN       0.2274737\n",
       "2  BLACK       ASIAN       0.2297540\n",
       "3  RA          ASIAN       0.2268614\n",
       "4  WHITE       ASIAN       0.2253785\n",
       "5  ASIAN       BLACK       0.1473190\n",
       "6  BLACK       BLACK       0.1449696\n",
       "7  RA          BLACK       0.1454934\n",
       "8  WHITE       BLACK       0.1462209\n",
       "9  ASIAN       WHITE       0.6252073\n",
       "10 BLACK       WHITE       0.6252764\n",
       "11 RA          WHITE       0.6276452\n",
       "12 WHITE       WHITE       0.6284006"
      ]
     },
     "metadata": {},
     "output_type": "display_data"
    }
   ],
   "source": [
    "df.tmp=df.tmp.obs\n",
    "df.tmp$g.ethnicity=df.tmp[sample(nrow(df.tmp), replace=FALSE),]$g.ethnicity\n",
    "t_rnd=table(df.tmp)\n",
    "t_rnd_prob=t(apply(t_rnd, 1, function(x) x/sum(x)))\n",
    "t_rnd_prob=as.data.frame(as.table(t_rnd_prob))\n",
    "t_rnd_prob"
   ]
  },
  {
   "cell_type": "code",
   "execution_count": 30,
   "id": "3ed61a04",
   "metadata": {},
   "outputs": [
    {
     "data": {
      "text/plain": [
       "Time difference of 20.51085 secs"
      ]
     },
     "metadata": {},
     "output_type": "display_data"
    }
   ],
   "source": [
    "t_obs=table(df.tmp.obs)\n",
    "t_obs_prob=t(apply(t_obs, 1, function(x) x/sum(x)))\n",
    "t_obs_prob=as.data.frame(as.table(t_obs_prob))\n",
    "summary.pairing.prob.obs=t_obs_prob\n",
    "\n",
    "df.tmp.rnd=df.tmp.obs\n",
    "\n",
    "#-Permutate g.ethnicity for n times to create a random baseline\n",
    "#-to compare the difference between obeservations and random chances\n",
    "#-as well as to create standard errors... .\n",
    "\n",
    "start_time=Sys.time()\n",
    "\n",
    "shuffle_time=1000\n",
    "l_diff=list()\n",
    "for(x in 1:shuffle_time){\n",
    "    df.tmp=df.tmp.rnd\n",
    "    df.tmp$g.ethnicity=df.tmp.rnd[sample(nrow(df.tmp.rnd), replace=FALSE),]$g.ethnicity\n",
    "    t_rnd=table(df.tmp)\n",
    "    t_rnd_prob=t(apply(t_rnd, 1, function(x) x/sum(x)))\n",
    "    t_rnd_prob=as.data.frame(as.table(t_rnd_prob))\n",
    "    df.tmp.pairing.prob.obs=t_rnd_prob\n",
    "                       \n",
    "    df.tmp.diff=df.tmp.pairing.prob.obs[,1:2]\n",
    "    df.tmp.diff$prob.diff=summary.pairing.prob.obs$Freq - df.tmp.pairing.prob.obs$Freq\n",
    "    l_diff[[paste(\"obs.rnd.diff\", x, sep=\".\")]]=df.tmp.diff\n",
    "}\n",
    "\n",
    "df.pairing.prob.diff=do.call(rbind.data.frame, l_diff)\n",
    "\n",
    "end_time=Sys.time()\n",
    "end_time - start_time"
   ]
  },
  {
   "cell_type": "code",
   "execution_count": 32,
   "id": "f55ac6f1",
   "metadata": {},
   "outputs": [],
   "source": [
    "summary.pairing.prob.diff=summarySE(df.pairing.prob.diff, measurevar=\"prob.diff\",\n",
    "                                    groupvars=c(\"h.ethnicity\", \"g.ethnicity\"))\n",
    "\n",
    "summary.pairing.prob.diff$ci=summary.pairing.prob.diff$sd*1.96\n",
    "\n",
    "re_from=\"\\\\b([[:alpha:]])([[:alpha:]]+)\"\n",
    "summary.pairing.prob.diff$h.ethnicity=gsub(re_from, \"\\\\U\\\\1\\\\L\\\\2\", summary.pairing.prob.diff$h.ethnicity, perl=TRUE)\n",
    "\n",
    "summary.pairing.prob.diff$h.ethnicity=ifelse(summary.pairing.prob.diff$h.ethnicity==\"Ra\",\n",
    "                                             \"Racially\\nUnidentified\", summary.pairing.prob.diff$h.ethnicity)\n",
    "\n",
    "summary.pairing.prob.diff$h.ethnicity=factor(summary.pairing.prob.diff$h.ethnicity,\n",
    "                                             levels=c(\"Racially\\nUnidentified\",\"White\",\"Asian\",\"Black\"),\n",
    "                                             ordered=TRUE)\n",
    "\n",
    "summary.pairing.prob.diff$g.ethnicity=factor(summary.pairing.prob.diff$g.ethnicity,\n",
    "                                             levels=c(\"WHITE\",\"ASIAN\",\"BLACK\"),\n",
    "                                             ordered=TRUE)\n",
    "\n",
    "l_guest.race.label=c(\n",
    "    \"BLACK\"=\"Black Guest\",\n",
    "    \"WHITE\"=\"White Guest\",\n",
    "    \"ASIAN\"=\"Asian Guest\")\n",
    "\n",
    "dodge=position_dodge(width=0.5)\n",
    "g = ggplot(summary.pairing.prob.diff, aes(x=h.ethnicity, y=prob.diff)) + \n",
    "  xlab(\"Host Race\") + \n",
    "  ylab(\"Pairing Probability Compared to Random\") +\n",
    "  geom_point(position=dodge, size=2.5) +\n",
    "  geom_errorbar(aes(ymin=prob.diff-ci, ymax=prob.diff+ci),\n",
    "                size=0.75, width=0.25, position=dodge) +\n",
    "  facet_grid(~g.ethnicity, margins=FALSE, switch=\"y\",\n",
    "             labeller=as_labeller(l_guest.race.label)) + theme_classic() +\n",
    "  scale_y_continuous(limits=c(-0.08,0.08), breaks=seq(-0.08,0.08,0.02),\n",
    "                     labels=c(seq(-0.08,0.08,0.02))) +\n",
    "  theme(panel.border=element_rect(fill=NA, size=0.3),\n",
    "        panel.grid.major=element_blank(),\n",
    "        axis.text.x=element_text(angle=90, hjust=1, vjust=0.4)) +\n",
    "  geom_hline(yintercept=0, linetype=\"dashed\", color=\"#D55E00\") +\n",
    "  scale_color_grey(start=0.5, end=0.5) + theme(text=element_text(size=15))"
   ]
  },
  {
   "cell_type": "code",
   "execution_count": 33,
   "id": "edd85186",
   "metadata": {},
   "outputs": [
    {
     "data": {
      "image/png": "[encoded data removed]",
      "text/plain": [
       "plot without title"
      ]
     },
     "metadata": {
      "image/png": {
       "height": 420,
       "width": 420
      }
     },
     "output_type": "display_data"
    }
   ],
   "source": [
    "g"
   ]
  },
  {
   "cell_type": "markdown",
   "id": "bb4d0e31",
   "metadata": {},
   "source": [
    "## Fig. S8B,E,H\n",
    "\n",
    "- Replications of **Fig. 2** in the main"
   ]
  },
  {
   "cell_type": "markdown",
   "id": "91070267",
   "metadata": {},
   "source": [
    "### 1.1 Choose sample\n",
    "\n",
    "- Fully computed normed probabilities are available (check ***1.3*** without running code in ***1.2***)"
   ]
  },
  {
   "cell_type": "code",
   "execution_count": 75,
   "id": "b1b83aff",
   "metadata": {},
   "outputs": [],
   "source": [
    "df.tmp.obs=tmp_before.2017[, c(\"h.ethnicity\", \"g.ethnicity\",\n",
    "                               \"top6.A\", \"top6.B\", \"top6.W\"), with=FALSE]\n",
    "df.tmp.obs$pairing.status=1\n",
    "filename_obs=\"supp_fig_s8b_pairing.prob.obs_before_2017.RDS\"\n",
    "filename_diff=\"supp_fig_s8b_pairing.prob.diff_before_2017.RDS\"\n",
    "filename_pdf=\"supp_fig_s8b.pdf\"\n",
    "\n",
    "# df.tmp.obs=df.recent.by.old[, c(\"h.ethnicity\", \"g.ethnicity\",\n",
    "#                                 \"top6.A\", \"top6.B\", \"top6.W\"), with=FALSE]\n",
    "# df.tmp.obs$pairing.status=1\n",
    "# filename_obs=\"supp_fig_s8e_pairing.prob.obs_recent_by_old.RDS\"\n",
    "# filename_diff=\"supp_fig_s8e_pairing.prob.diff_recent_by_old.RDS\"\n",
    "# filename_pdf=\"supp_fig_s8e.pdf\"\n",
    "\n",
    "# df.tmp.obs=df.recent.by.new[, c(\"h.ethnicity\", \"g.ethnicity\",\n",
    "#                                 \"top6.A\", \"top6.B\", \"top6.W\"), with=FALSE]\n",
    "# df.tmp.obs$pairing.status=1\n",
    "# filename_obs=\"supp_fig_s8h_pairing.prob.obs_recent_by_new.RDS\"\n",
    "# filename_diff=\"supp_fig_s8h_pairing.prob.diff_recent_by_new.RDS\"\n",
    "# filename_pdf=\"supp_fig_s8h.pdf\""
   ]
  },
  {
   "cell_type": "markdown",
   "id": "53d318cf",
   "metadata": {},
   "source": [
    "### 1.2 Compute normed probabilities for guest-host pairing combinations"
   ]
  },
  {
   "cell_type": "code",
   "execution_count": 76,
   "id": "abedaedf",
   "metadata": {},
   "outputs": [
    {
     "data": {
      "text/plain": [
       "Time difference of 2.230551 mins"
      ]
     },
     "metadata": {},
     "output_type": "display_data"
    }
   ],
   "source": [
    "#-Cap to 5 due to small N for Asian and Black guests on SRE 5 and 6\n",
    "df.tmp.obs$top6.A=ifelse(df.tmp.obs$top6.A>5, 5, df.tmp.obs$top6.A)\n",
    "df.tmp.obs$top6.B=ifelse(df.tmp.obs$top6.B>5, 5, df.tmp.obs$top6.B)\n",
    "df.tmp.obs$top6.W=ifelse(df.tmp.obs$top6.W>5, 5, df.tmp.obs$top6.W)\n",
    "\n",
    "df.tmp.ctf=create_ctf(df.tmp.obs)\n",
    "df.obs.ctf=rbind(df.tmp.obs,df.tmp.ctf)\n",
    "\n",
    "df.obs.ctf$sre[df.obs.ctf$g.ethnicity==\"WHITE\"]=df.obs.ctf$top6.W[df.obs.ctf$g.ethnicity==\"WHITE\"]\n",
    "df.obs.ctf$sre[df.obs.ctf$g.ethnicity==\"ASIAN\"]=df.obs.ctf$top6.A[df.obs.ctf$g.ethnicity==\"ASIAN\"]\n",
    "df.obs.ctf$sre[df.obs.ctf$g.ethnicity==\"BLACK\"]=df.obs.ctf$top6.B[df.obs.ctf$g.ethnicity==\"BLACK\"]\n",
    "df.obs.ctf=df.obs.ctf[complete.cases(df.obs.ctf), ]\n",
    "\n",
    "summary.pairing.prob.obs=summarySE(df.obs.ctf, measurevar=\"pairing.status\",\n",
    "                                   groupvars=c(\"h.ethnicity\",\n",
    "                                               \"g.ethnicity\",\n",
    "                                               \"sre\"))\n",
    "\n",
    "df.tmp.rnd=df.tmp.obs\n",
    "\n",
    "#-Permutate g.ethnicity for n times to create a random baseline\n",
    "#-to compare the difference between obeservations and random chances\n",
    "#-as well as to create standard errors... .\n",
    "\n",
    "start_time=Sys.time()\n",
    "\n",
    "shuffle_time=1000\n",
    "l_rand=list()\n",
    "l_diff=list()\n",
    "for(x in 1:shuffle_time){\n",
    "    df.tmp=df.tmp.rnd\n",
    "    df.tmp$g.ethnicity=df.tmp.rnd[sample(nrow(df.tmp.rnd)),]$g.ethnicity\n",
    "    \n",
    "    df.tmp.ctf=create_ctf(df.tmp)\n",
    "    df.tmp.rnd.ctf=rbind(df.tmp,df.tmp.ctf)\n",
    "    \n",
    "    df.tmp.rnd.ctf$sre[df.tmp.rnd.ctf$g.ethnicity==\"WHITE\"]=df.tmp.rnd.ctf$top6.W[df.tmp.rnd.ctf$g.ethnicity==\"WHITE\"]\n",
    "    df.tmp.rnd.ctf$sre[df.tmp.rnd.ctf$g.ethnicity==\"ASIAN\"]=df.tmp.rnd.ctf$top6.A[df.tmp.rnd.ctf$g.ethnicity==\"ASIAN\"]\n",
    "    df.tmp.rnd.ctf$sre[df.tmp.rnd.ctf$g.ethnicity==\"BLACK\"]=df.tmp.rnd.ctf$top6.B[df.tmp.rnd.ctf$g.ethnicity==\"BLACK\"]\n",
    "    \n",
    "    df.tmp.rnd.ctf=df.tmp.rnd.ctf[complete.cases(df.tmp.rnd.ctf), ]\n",
    "    \n",
    "    df.tmp.pairing.prob.obs=summarySE(df.tmp.rnd.ctf, measurevar=\"pairing.status\",\n",
    "                                      groupvars=c(\"h.ethnicity\", \"g.ethnicity\", \"sre\"))\n",
    "    l_rand[[paste(\"g.rnd.ethnicity\", x, sep=\".\")]]=df.tmp.pairing.prob.obs\n",
    "    df.tmp.diff=df.tmp.pairing.prob.obs[,1:3]\n",
    "    df.tmp.diff$prob.diff=summary.pairing.prob.obs$pairing.status - df.tmp.pairing.prob.obs$pairing.status\n",
    "    l_diff[[paste(\"obs.rnd.diff\", x, sep=\".\")]]=df.tmp.diff\n",
    "}\n",
    "\n",
    "df.pairing.prob.diff=do.call(rbind.data.frame, l_diff)\n",
    "\n",
    "#-Save\n",
    "saveRDS(summary.pairing.prob.obs, paste0(DIR,filename_obs))\n",
    "saveRDS(df.pairing.prob.diff, paste0(DIR,filename_diff))\n",
    "\n",
    "end_time=Sys.time()\n",
    "end_time - start_time"
   ]
  },
  {
   "cell_type": "markdown",
   "id": "d4ace2e7",
   "metadata": {},
   "source": [
    "### 1.3 Visualize normed probabilities by race of guest and host"
   ]
  },
  {
   "cell_type": "code",
   "execution_count": 71,
   "id": "3d4c94e1",
   "metadata": {},
   "outputs": [],
   "source": [
    "#-Read\n",
    "summary.pairing.prob.obs=readRDS(paste0(DIR,filename_obs))\n",
    "df.pairing.prob.diff=readRDS(paste0(DIR,filename_diff))"
   ]
  },
  {
   "cell_type": "code",
   "execution_count": 77,
   "id": "b5bac517",
   "metadata": {},
   "outputs": [],
   "source": [
    "summary.pairing.prob.diff=summarySE(df.pairing.prob.diff, measurevar=\"prob.diff\",\n",
    "                                    groupvars=c(\"h.ethnicity\", \"g.ethnicity\", \"sre\"))\n",
    "\n",
    "summary.pairing.prob.diff$ci=summary.pairing.prob.diff$sd*1.96\n",
    "\n",
    "summary.pairing.prob.diff$h.ethnicity=ifelse(summary.pairing.prob.diff$h.ethnicity==\"RA\",\n",
    "                                             \"Racially Unidentified\", summary.pairing.prob.diff$h.ethnicity)\n",
    "\n",
    "re_from=\"\\\\b([[:alpha:]])([[:alpha:]]+)\"\n",
    "summary.pairing.prob.diff$h.ethnicity=gsub(re_from, \"\\\\U\\\\1\\\\L\\\\2\", summary.pairing.prob.diff$h.ethnicity, perl=TRUE)\n",
    "\n",
    "summary.pairing.prob.diff$h.ethnicity=factor(summary.pairing.prob.diff$h.ethnicity,\n",
    "                                             levels=c(\"Racially Unidentified\",\"White\",\"Asian\",\"Black\"),\n",
    "                                             ordered=TRUE)\n",
    "\n",
    "summary.pairing.prob.diff$g.ethnicity=factor(summary.pairing.prob.diff$g.ethnicity,\n",
    "                                             levels=c(\"WHITE\",\"ASIAN\",\"BLACK\"),\n",
    "                                             ordered=TRUE)\n",
    "\n",
    "summary.pairing.prob.diff$sre=factor(summary.pairing.prob.diff$sre)"
   ]
  },
  {
   "cell_type": "code",
   "execution_count": 78,
   "id": "85cbed11",
   "metadata": {},
   "outputs": [
    {
     "data": {
      "text/html": [
       "<strong>pdf:</strong> 2"
      ],
      "text/latex": [
       "\\textbf{pdf:} 2"
      ],
      "text/markdown": [
       "**pdf:** 2"
      ],
      "text/plain": [
       "pdf \n",
       "  2 "
      ]
     },
     "metadata": {},
     "output_type": "display_data"
    }
   ],
   "source": [
    "tmp = summary.pairing.prob.diff[summary.pairing.prob.diff$h.ethnicity==\"Racially Unidentified\",]\n",
    "\n",
    "l_guest.race.label=c(\n",
    "    \"BLACK\"=\"Black Guest\",\n",
    "    \"WHITE\"=\"White Guest\",\n",
    "    \"ASIAN\"=\"Asian Guest\")\n",
    "cc=c(\"#899da4\",\"#f1aa00\",\"#be5d05\",\"#2c2d4a\")\n",
    "\n",
    "dodge=position_dodge(width=0.5)\n",
    "pdf(paste0(\"../output/\",filename_pdf), width=3.17, height=5)\n",
    "g = ggplot(tmp, aes(x=sre, y=prob.diff)) + \n",
    "  geom_line(position=dodge, size=0.75, aes(color=h.ethnicity, group=h.ethnicity)) +\n",
    "  xlab(\"Number of Same-Race Endorsements\\n(Out of 5 or More Front-Page Reviews)\") + \n",
    "  # ylab(\"Pairing Probability Compared to Random\") +\n",
    "  ylab(\"\") +\n",
    "  geom_point(position=dodge, aes(color=h.ethnicity, group=h.ethnicity), size=2.5) +\n",
    "  geom_errorbar(aes(ymin=prob.diff-ci, ymax=prob.diff+ci, color=h.ethnicity),\n",
    "                size=0.75, width=0.15, position=dodge) +\n",
    "  scale_color_manual(values=cc) +\n",
    "  scale_x_discrete(labels=c(\"0\",\"1\",\"2\",\"3\",\"4\",\"5+\")) +\n",
    "  facet_grid(g.ethnicity~., margins=FALSE, switch=\"y\", scales=\"free_y\",\n",
    "             labeller=as_labeller(l_guest.race.label)) + labs(color=\"Host Race\") +\n",
    "             theme_classic() + theme(panel.border=element_rect(fill=NA, size=0.3)) +\n",
    "  geom_hline(yintercept=0, linetype=\"dashed\", color=\"#D55E00\") +\n",
    "  theme(legend.position=\"none\",\n",
    "        panel.grid.major=element_blank(),\n",
    "        text=element_text(size=10))\n",
    "plot(g)\n",
    "dev.off()"
   ]
  },
  {
   "cell_type": "code",
   "execution_count": 79,
   "id": "2e8ab297",
   "metadata": {},
   "outputs": [],
   "source": [
    "fig_b = g\n",
    "# fig_e = g\n",
    "# fig_h = g"
   ]
  },
  {
   "cell_type": "markdown",
   "id": "e5a39377",
   "metadata": {},
   "source": [
    "## Fig. S8C,F,I\n",
    "\n",
    "- Replications of **Fig. 3** in the main"
   ]
  },
  {
   "cell_type": "markdown",
   "id": "36a5e496",
   "metadata": {},
   "source": [
    "### 1.1 Choose sample\n",
    "\n",
    "- Fully computed normed probabilities are available (check ***1.3*** without running code in ***1.2***)"
   ]
  },
  {
   "cell_type": "code",
   "execution_count": 101,
   "id": "bad4968a",
   "metadata": {},
   "outputs": [],
   "source": [
    "df.tmp.obs=tmp_before.2017[, c(\"h.ethnicity\", \"g.ethnicity\",\n",
    "                               \"top6.A\", \"top6.B\", \"top6.W\"), with=FALSE]\n",
    "df.tmp.obs$pairing.status=1\n",
    "filename_obs=\"supp_fig_s8c_pairing.prob.obs_before_2017.RDS\"\n",
    "filename_diff=\"supp_fig_s8c_pairing.prob.diff_before_2017.RDS\"\n",
    "filename_pdf=\"supp_fig_s8c.pdf\"\n",
    "\n",
    "# df.tmp.obs=df.recent.by.old[, c(\"h.ethnicity\", \"g.ethnicity\",\n",
    "#                                 \"top6.A\", \"top6.B\", \"top6.W\"), with=FALSE]\n",
    "# df.tmp.obs$pairing.status=1\n",
    "# filename_obs=\"supp_fig_s8f_pairing.prob.obs_recent_by_old.RDS\"\n",
    "# filename_diff=\"supp_fig_s8f_pairing.prob.diff_recent_by_old.RDS\"\n",
    "# filename_pdf=\"supp_fig_s8f.pdf\"\n",
    "\n",
    "# df.tmp.obs=df.recent.by.new[, c(\"h.ethnicity\", \"g.ethnicity\",\n",
    "#                                 \"top6.A\", \"top6.B\", \"top6.W\"), with=FALSE]\n",
    "# df.tmp.obs$pairing.status=1\n",
    "# filename_obs=\"supp_fig_s8i_pairing.prob.obs_recent_by_new.RDS\"\n",
    "# filename_diff=\"supp_fig_s8i_pairing.prob.diff_recent_by_new.RDS\"\n",
    "# filename_pdf=\"supp_fig_s8i.pdf\""
   ]
  },
  {
   "cell_type": "markdown",
   "id": "03bcda2f",
   "metadata": {},
   "source": [
    "### 1.2 Compute normed probabilities for guest-host pairing combinations"
   ]
  },
  {
   "cell_type": "code",
   "execution_count": 94,
   "id": "2cd82673",
   "metadata": {},
   "outputs": [
    {
     "data": {
      "text/plain": [
       "Time difference of 2.155234 mins"
      ]
     },
     "metadata": {},
     "output_type": "display_data"
    }
   ],
   "source": [
    "#-Cap to 5 due to small N for Asian and Black guests on SRE 5 and 6\n",
    "df.tmp.obs$top6.A=ifelse(df.tmp.obs$top6.A>5, 5, df.tmp.obs$top6.A)\n",
    "df.tmp.obs$top6.B=ifelse(df.tmp.obs$top6.B>5, 5, df.tmp.obs$top6.B)\n",
    "df.tmp.obs$top6.W=ifelse(df.tmp.obs$top6.W>5, 5, df.tmp.obs$top6.W)\n",
    "\n",
    "df.tmp.ctf=create_ctf(df.tmp.obs)\n",
    "df.obs.ctf=rbind(df.tmp.obs,df.tmp.ctf)\n",
    "\n",
    "df.obs.ctf$sre[df.obs.ctf$g.ethnicity==\"WHITE\"]=df.obs.ctf$top6.W[df.obs.ctf$g.ethnicity==\"WHITE\"]\n",
    "df.obs.ctf$sre[df.obs.ctf$g.ethnicity==\"ASIAN\"]=df.obs.ctf$top6.A[df.obs.ctf$g.ethnicity==\"ASIAN\"]\n",
    "df.obs.ctf$sre[df.obs.ctf$g.ethnicity==\"BLACK\"]=df.obs.ctf$top6.B[df.obs.ctf$g.ethnicity==\"BLACK\"]\n",
    "df.obs.ctf=df.obs.ctf[complete.cases(df.obs.ctf), ]\n",
    "\n",
    "summary.pairing.prob.obs=summarySE(df.obs.ctf, measurevar=\"pairing.status\",\n",
    "                                   groupvars=c(\"h.ethnicity\",\n",
    "                                               \"g.ethnicity\",\n",
    "                                               \"sre\"))\n",
    "\n",
    "df.tmp.rnd=df.tmp.obs\n",
    "\n",
    "#-Permutate g.ethnicity for n times to create a random baseline\n",
    "#-to compare the difference between obeservations and random chances\n",
    "#-as well as to create standard errors... .\n",
    "\n",
    "start_time=Sys.time()\n",
    "\n",
    "shuffle_time=1000\n",
    "l_rand=list()\n",
    "l_diff=list()\n",
    "for(x in 1:shuffle_time){\n",
    "    df.tmp=df.tmp.rnd\n",
    "    df.tmp$g.ethnicity=df.tmp.rnd[sample(nrow(df.tmp.rnd)),]$g.ethnicity\n",
    "    \n",
    "    df.tmp.ctf=create_ctf(df.tmp)\n",
    "    df.tmp.rnd.ctf=rbind(df.tmp,df.tmp.ctf)\n",
    "    \n",
    "    df.tmp.rnd.ctf$sre[df.tmp.rnd.ctf$g.ethnicity==\"WHITE\"]=df.tmp.rnd.ctf$top6.W[df.tmp.rnd.ctf$g.ethnicity==\"WHITE\"]\n",
    "    df.tmp.rnd.ctf$sre[df.tmp.rnd.ctf$g.ethnicity==\"ASIAN\"]=df.tmp.rnd.ctf$top6.A[df.tmp.rnd.ctf$g.ethnicity==\"ASIAN\"]\n",
    "    df.tmp.rnd.ctf$sre[df.tmp.rnd.ctf$g.ethnicity==\"BLACK\"]=df.tmp.rnd.ctf$top6.B[df.tmp.rnd.ctf$g.ethnicity==\"BLACK\"]\n",
    "    \n",
    "    df.tmp.rnd.ctf=df.tmp.rnd.ctf[complete.cases(df.tmp.rnd.ctf), ]\n",
    "    \n",
    "    df.tmp.pairing.prob.obs=summarySE(df.tmp.rnd.ctf, measurevar=\"pairing.status\",\n",
    "                                      groupvars=c(\"h.ethnicity\", \"g.ethnicity\", \"sre\"))\n",
    "    l_rand[[paste(\"g.rnd.ethnicity\", x, sep=\".\")]]=df.tmp.pairing.prob.obs\n",
    "    df.tmp.diff=df.tmp.pairing.prob.obs[,1:3]\n",
    "    df.tmp.diff$prob.diff=summary.pairing.prob.obs$pairing.status - df.tmp.pairing.prob.obs$pairing.status\n",
    "    l_diff[[paste(\"obs.rnd.diff\", x, sep=\".\")]]=df.tmp.diff\n",
    "}\n",
    "\n",
    "df.pairing.prob.diff=do.call(rbind.data.frame, l_diff)\n",
    "\n",
    "#-Save\n",
    "saveRDS(summary.pairing.prob.obs, paste0(DIR,filename_obs))\n",
    "saveRDS(df.pairing.prob.diff, paste0(DIR,filename_diff))\n",
    "\n",
    "end_time=Sys.time()\n",
    "end_time - start_time"
   ]
  },
  {
   "cell_type": "markdown",
   "id": "878e00d3",
   "metadata": {},
   "source": [
    "### 1.3 Visualize normed probabilities by race of guest and host"
   ]
  },
  {
   "cell_type": "code",
   "execution_count": 102,
   "id": "74ac973a",
   "metadata": {},
   "outputs": [],
   "source": [
    "#-Read\n",
    "summary.pairing.prob.obs=readRDS(paste0(DIR,filename_obs))\n",
    "df.pairing.prob.diff=readRDS(paste0(DIR,filename_diff))"
   ]
  },
  {
   "cell_type": "code",
   "execution_count": 103,
   "id": "642c4037",
   "metadata": {},
   "outputs": [],
   "source": [
    "summary.pairing.prob.diff=summarySE(df.pairing.prob.diff, measurevar=\"prob.diff\",\n",
    "                                    groupvars=c(\"h.ethnicity\", \"g.ethnicity\", \"sre\"))\n",
    "\n",
    "summary.pairing.prob.diff$ci=summary.pairing.prob.diff$sd*1.96\n",
    "\n",
    "#-Only for the binary visualization!\n",
    "tmp = df.pairing.prob.diff[df.pairing.prob.diff$h.ethnicity!=\"RA\",]\n",
    "\n",
    "tmp$h.ethnicity=ifelse(tmp$h.ethnicity==tmp$g.ethnicity,\n",
    "                       \"Same-Race\", \"Other-Race\")\n",
    "\n",
    "summary.pairing.prob.diff=summarySE(tmp, measurevar=\"prob.diff\",\n",
    "                                    groupvars=c(\"h.ethnicity\", \"g.ethnicity\", \"sre\"))\n",
    "\n",
    "summary.pairing.prob.diff$ci=summary.pairing.prob.diff$sd*1.96\n",
    "\n",
    "summary.pairing.prob.diff$h.ethnicity=factor(summary.pairing.prob.diff$h.ethnicity,\n",
    "                                             levels=c(\"Same-Race\",\"Other-Race\"),\n",
    "                                             ordered=TRUE)\n",
    "\n",
    "summary.pairing.prob.diff$g.ethnicity=factor(summary.pairing.prob.diff$g.ethnicity,\n",
    "                                             levels=c(\"WHITE\",\"ASIAN\",\"BLACK\"),\n",
    "                                             ordered=TRUE)\n",
    "\n",
    "summary.pairing.prob.diff$sre=factor(summary.pairing.prob.diff$sre)"
   ]
  },
  {
   "cell_type": "code",
   "execution_count": 104,
   "id": "6a4e5731",
   "metadata": {},
   "outputs": [
    {
     "data": {
      "text/html": [
       "<strong>pdf:</strong> 2"
      ],
      "text/latex": [
       "\\textbf{pdf:} 2"
      ],
      "text/markdown": [
       "**pdf:** 2"
      ],
      "text/plain": [
       "pdf \n",
       "  2 "
      ]
     },
     "metadata": {},
     "output_type": "display_data"
    }
   ],
   "source": [
    "l_guest.race.label=c(\n",
    "    \"BLACK\"=\"Black Guest\",\n",
    "    \"WHITE\"=\"White Guest\",\n",
    "    \"ASIAN\"=\"Asian Guest\")\n",
    "\n",
    "cc=c(\"#be5d05\",\"#2c2d4a\")\n",
    "\n",
    "dodge=position_dodge(width=0.5)\n",
    "pdf(paste0(\"../output/\",filename_pdf), width=3.17, height=4)\n",
    "g = ggplot(summary.pairing.prob.diff, aes(x=sre, y=prob.diff)) + \n",
    "  geom_line(position=dodge, size=0.75, aes(color=h.ethnicity, group=h.ethnicity)) +\n",
    "  xlab(\"Number of Same-Race Endorsements\\n(Out of 5 or More Front-Page Reviews)\") + \n",
    "  # ylab(\"Pairing Probability Compared to Random\") +\n",
    "  ylab(\"\") +\n",
    "  geom_point(position=dodge, aes(color=h.ethnicity, group=h.ethnicity), size=2.5) +\n",
    "  geom_errorbar(aes(ymin=prob.diff-ci, ymax=prob.diff+ci, color=h.ethnicity),\n",
    "                size=0.9, width=0.25, position=dodge) +\n",
    "  scale_color_manual(values=cc) +\n",
    "  scale_x_discrete(labels=c(\"0\",\"1\",\"2\",\"3\",\"4\",\"5+\")) +\n",
    "  facet_grid(g.ethnicity~., margins=FALSE, switch=\"y\", scales=\"free_y\",\n",
    "             labeller=as_labeller(l_guest.race.label)) + labs(color=\"Host Race\") +\n",
    "             theme_classic() + theme(panel.border=element_rect(fill=NA, size=0.3)) +\n",
    "  # coord_cartesian(ylim=c(-0.3,0.4)) +\n",
    "  geom_hline(yintercept=0, linetype=\"dashed\", color=\"#D55E00\") +\n",
    "  theme(legend.direction=\"vertical\",\n",
    "        # legend.position=c(0.6,0.77),\n",
    "        legend.position=\"none\",\n",
    "        legend.justification=\"left\",\n",
    "        legend.margin=margin(0, unit=\"cm\"),\n",
    "        legend.spacing.y=unit(0.1,\"cm\"),\n",
    "        legend.key.size=unit(0.85,\"lines\"),\n",
    "        panel.grid.major=element_blank(),\n",
    "        text=element_text(size=10))\n",
    "plot(g)\n",
    "dev.off()"
   ]
  },
  {
   "cell_type": "code",
   "execution_count": 105,
   "id": "d372b9f6",
   "metadata": {},
   "outputs": [],
   "source": [
    "fig_c = g\n",
    "# fig_f = g\n",
    "# fig_i = g"
   ]
  },
  {
   "cell_type": "markdown",
   "id": "8347dba1",
   "metadata": {},
   "source": [
    "## Compile all the figures"
   ]
  },
  {
   "cell_type": "code",
   "execution_count": 107,
   "id": "26cfbd04",
   "metadata": {},
   "outputs": [],
   "source": [
    "library(cowplot)\n",
    "\n",
    "g <- plot_grid(fig_a,fig_b,fig_c,\n",
    "               fig_d,fig_e,fig_f,\n",
    "               fig_g,fig_h,fig_i,\n",
    "               labels=\"AUTO\", label_size=12,\n",
    "               ncol=3)"
   ]
  },
  {
   "cell_type": "code",
   "execution_count": 108,
   "id": "98d6199f",
   "metadata": {},
   "outputs": [
    {
     "data": {
      "text/html": [
       "<strong>pdf:</strong> 2"
      ],
      "text/latex": [
       "\\textbf{pdf:} 2"
      ],
      "text/markdown": [
       "**pdf:** 2"
      ],
      "text/plain": [
       "pdf \n",
       "  2 "
      ]
     },
     "metadata": {},
     "output_type": "display_data"
    }
   ],
   "source": [
    "pdf(file=\"../output/supp_fig_s8.pdf\", width=9.5, height=4*3)\n",
    "print(g)\n",
    "dev.off()"
   ]
  }
 ],
 "metadata": {
  "kernelspec": {
   "display_name": "R",
   "language": "R",
   "name": "ir"
  },
  "language_info": {
   "codemirror_mode": "r",
   "file_extension": ".r",
   "mimetype": "text/x-r-source",
   "name": "R",
   "pygments_lexer": "r",
   "version": "4.1.2"
  }
 },
 "nbformat": 4,
 "nbformat_minor": 5
}
