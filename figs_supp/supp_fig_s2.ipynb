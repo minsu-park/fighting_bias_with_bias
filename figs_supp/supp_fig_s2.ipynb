{
 "cells": [
  {
   "cell_type": "code",
   "execution_count": 2,
   "metadata": {},
   "outputs": [],
   "source": [
    "library(data.table)\n",
    "library(Rmisc)\n",
    "library(ggplot2)\n",
    "library(dplyr)\n",
    "library(reshape2)\n",
    "library(bit)\n",
    "library(zoo)"
   ]
  },
  {
   "cell_type": "markdown",
   "metadata": {},
   "source": [
    "## Data Preperation"
   ]
  },
  {
   "cell_type": "markdown",
   "metadata": {},
   "source": [
    "### 1. Read raw data (i.e., reviews)"
   ]
  },
  {
   "cell_type": "code",
   "execution_count": 3,
   "metadata": {},
   "outputs": [],
   "source": [
    "DIR = \"../data/\"\n",
    "rws=fread(paste0(DIR,\"rws.all.csv\"))"
   ]
  },
  {
   "cell_type": "markdown",
   "metadata": {},
   "source": [
    "### 2. Read facial attributes for both hosts and guests and merge those attributes with the review data"
   ]
  },
  {
   "cell_type": "code",
   "execution_count": 4,
   "metadata": {},
   "outputs": [],
   "source": [
    "guest=fread(paste0(DIR,\"guest.attribute.csv\"))\n",
    "colnames(guest)[c(8)]=c(\"g.ethnicity\")\n",
    "guest=guest[,c(\"guest_id\",\"g.ethnicity\")]\n",
    "rws.gh=left_join(rws,guest, by=\"guest_id\",type='left')"
   ]
  },
  {
   "cell_type": "code",
   "execution_count": 5,
   "metadata": {},
   "outputs": [],
   "source": [
    "#-Note that h.num_face==0 represents hots without any human face in their profile photos.\n",
    "#-In this case, h.ethnicity is empty string.\n",
    "#-Additional filtering is required depending on analysis,\n",
    "#-since profile photos with more than 1 human face also have empty string in the h.ethnicity column.\n",
    "host=fread(paste0(DIR,\"host.attribute.csv\"))\n",
    "colnames(host)[c(5,8)]=c(\"h.num_face\",\"h.ethnicity\")\n",
    "host=host[,c(\"listing_id\",\"host_id\",\"h.num_face\",\"h.ethnicity\")]\n",
    "rws.gh=left_join(rws.gh,host, by=c(\"listing_id\",\"host_id\"))"
   ]
  },
  {
   "cell_type": "code",
   "execution_count": 6,
   "metadata": {},
   "outputs": [],
   "source": [
    "tmp_host=host\n",
    "tmp_host$h.ethnicity=ifelse(tmp_host$h.num_face==0, \"RA\", tmp_host$h.ethnicity)"
   ]
  },
  {
   "cell_type": "code",
   "execution_count": 7,
   "metadata": {},
   "outputs": [],
   "source": [
    "#-Remove those racially unidentified guests\n",
    "rws.gh=rws.gh[rws.gh$g.ethnicity!=\"\",]"
   ]
  },
  {
   "cell_type": "code",
   "execution_count": 8,
   "metadata": {},
   "outputs": [],
   "source": [
    "#-Label RA for racially ambiguous hosts\n",
    "rws.gh$h.ethnicity=ifelse(rws.gh$h.num_face==0, \"RA\", rws.gh$h.ethnicity)"
   ]
  },
  {
   "cell_type": "code",
   "execution_count": 9,
   "metadata": {},
   "outputs": [],
   "source": [
    "#-Remove those racially unidentified hosts (with multiple human faces in their profile photos)\n",
    "rws.gh=rws.gh[rws.gh$h.ethnicity!=\"\",]"
   ]
  },
  {
   "cell_type": "markdown",
   "metadata": {},
   "source": [
    "### 3. Create booking- / staying-level reputation and endorsement signals\n",
    "\n",
    "#### 3.1. Create columns for # of previous reviews and race of previous reviewers for each booking/staying"
   ]
  },
  {
   "cell_type": "code",
   "execution_count": 10,
   "metadata": {},
   "outputs": [],
   "source": [
    "df=rws.gh"
   ]
  },
  {
   "cell_type": "code",
   "execution_count": 11,
   "metadata": {},
   "outputs": [],
   "source": [
    "df=df %>% group_by(listing_id) %>% arrange(date) %>%\n",
    "  mutate(cum.cnt=row_number()-1,\n",
    "         rws.race=lag(g.ethnicity, n = 1, default = NA))"
   ]
  },
  {
   "cell_type": "markdown",
   "metadata": {},
   "source": [
    "#### 3.2. Count the previous guest race for each booking"
   ]
  },
  {
   "cell_type": "code",
   "execution_count": 12,
   "metadata": {},
   "outputs": [],
   "source": [
    "#-Create column and add counter\n",
    "df$g.W.cnt=ifelse(df$rws.race==\"WHITE\", 1, 0)\n",
    "df$g.B.cnt=ifelse(df$rws.race==\"BLACK\", 1, 0)\n",
    "df$g.A.cnt=ifelse(df$rws.race==\"ASIAN\", 1, 0)"
   ]
  },
  {
   "cell_type": "code",
   "execution_count": 13,
   "metadata": {},
   "outputs": [],
   "source": [
    "#-Sort reviews for each listing by date\n",
    "#-Then roll sum racial compositions in the most recent 6 reviews for each booking\n",
    "#-Note that the most 6 reviews are the proxy of front-page reviews\n",
    "df = df %>% group_by(listing_id) %>% arrange(date) %>%\n",
    "    mutate(top6.W=rollsumr(g.W.cnt==1, 6, fill=NA),\n",
    "           top6.B=rollsumr(g.B.cnt==1, 6, fill=NA),\n",
    "           top6.A=rollsumr(g.A.cnt==1, 6, fill=NA))"
   ]
  },
  {
   "cell_type": "code",
   "execution_count": 14,
   "metadata": {},
   "outputs": [],
   "source": [
    "#-Code the first review's the most recent previous reviewer's race as 0\n",
    "#-and then count all the previous reviewers' races cumulatively\n",
    "df$rws.race[which(is.na(df$rws.race))]=0\n",
    "\n",
    "df = df %>% group_by(listing_id) %>% arrange(date) %>% \n",
    "    mutate(g.W.cnt=cumsum(rws.race==\"WHITE\"),\n",
    "           g.B.cnt=cumsum(rws.race==\"BLACK\"),\n",
    "           g.A.cnt=cumsum(rws.race==\"ASIAN\"))"
   ]
  },
  {
   "cell_type": "code",
   "execution_count": 15,
   "metadata": {},
   "outputs": [],
   "source": [
    "df=as.data.table(df)"
   ]
  },
  {
   "cell_type": "code",
   "execution_count": 16,
   "metadata": {},
   "outputs": [],
   "source": [
    "#-Extract only listings that allow instant booking\n",
    "df=df[which(df$instant_bookable==\"t\"),]"
   ]
  },
  {
   "cell_type": "code",
   "execution_count": 17,
   "metadata": {},
   "outputs": [],
   "source": [
    "create_ctf_1 = function(df.x) {\n",
    "    df.tmp.ctf=df.x\n",
    "    df.tmp.ctf$pairing.status=0\n",
    "    df.tmp.ctf$g.ethnicity=ifelse(df.tmp.ctf$g.ethnicity==\"BLACK\" |\n",
    "                                  df.tmp.ctf$g.ethnicity==\"ASIAN\",\n",
    "                                  \"WHITE\", \"BLACK\")\n",
    "    return(df.tmp.ctf)\n",
    "}\n",
    "\n",
    "create_ctf_2 = function(df.x) {\n",
    "    df.tmp.ctf=df.x\n",
    "    df.tmp.ctf$pairing.status=0\n",
    "    df.tmp.ctf$g.ethnicity=ifelse(df.tmp.ctf$g.ethnicity==\"BLACK\" |\n",
    "                                  df.tmp.ctf$g.ethnicity==\"WHITE\",\n",
    "                                  \"ASIAN\", \"BLACK\")\n",
    "    return(df.tmp.ctf)\n",
    "}\n",
    "\n",
    "create_ctf = function(df.x) {\n",
    "    return(rbind(create_ctf_1(df.x),create_ctf_2(df.x)))\n",
    "}"
   ]
  },
  {
   "cell_type": "markdown",
   "metadata": {},
   "source": [
    "# ----------------------------------------------------------------------------------------"
   ]
  },
  {
   "cell_type": "markdown",
   "metadata": {},
   "source": [
    "## Pairing probabilities between non-racially-identified hosts and guests with a racial identity conditional on same-race reviews\n",
    "\n",
    "- Fig. 2\n",
    "- No-human-face & no-person-name\n",
    "- No-human-face & no-person-name + racially-unidentifiable-person-name\n",
    "- No-human-face"
   ]
  },
  {
   "cell_type": "markdown",
   "metadata": {},
   "source": [
    "### 1. Compute paring probabilities across different race combinations\n",
    "\n",
    "#### 1.1. Extract only relevant columns and create counterfactuals"
   ]
  },
  {
   "cell_type": "code",
   "execution_count": 18,
   "metadata": {},
   "outputs": [],
   "source": [
    "df.tmp.obs=df[, c(\"h.ethnicity\", \"g.ethnicity\",\n",
    "                  \"top6.A\", \"top6.B\", \"top6.W\"), with=FALSE]\n",
    "df.tmp.obs$pairing.status=1"
   ]
  },
  {
   "cell_type": "code",
   "execution_count": 19,
   "metadata": {},
   "outputs": [],
   "source": [
    "#-Cap to 5 due to small N for Asian and Black guests on SRE 5 and 6\n",
    "df.tmp.obs$top6.A=ifelse(df.tmp.obs$top6.A>5, 5, df.tmp.obs$top6.A)\n",
    "df.tmp.obs$top6.B=ifelse(df.tmp.obs$top6.B>5, 5, df.tmp.obs$top6.B)\n",
    "df.tmp.obs$top6.W=ifelse(df.tmp.obs$top6.W>5, 5, df.tmp.obs$top6.W)"
   ]
  },
  {
   "cell_type": "code",
   "execution_count": 20,
   "metadata": {},
   "outputs": [],
   "source": [
    "df.tmp.ctf=create_ctf(df.tmp.obs)"
   ]
  },
  {
   "cell_type": "markdown",
   "metadata": {},
   "source": [
    "#### 1.2. Combine counterfactuals with observations and compute average pairing probabilities "
   ]
  },
  {
   "cell_type": "code",
   "execution_count": 21,
   "metadata": {},
   "outputs": [],
   "source": [
    "df.obs.ctf=rbind(df.tmp.obs,df.tmp.ctf)"
   ]
  },
  {
   "cell_type": "code",
   "execution_count": 22,
   "metadata": {},
   "outputs": [],
   "source": [
    "df.obs.ctf$sre[df.obs.ctf$g.ethnicity==\"WHITE\"]=df.obs.ctf$top6.W[df.obs.ctf$g.ethnicity==\"WHITE\"]\n",
    "df.obs.ctf$sre[df.obs.ctf$g.ethnicity==\"ASIAN\"]=df.obs.ctf$top6.A[df.obs.ctf$g.ethnicity==\"ASIAN\"]\n",
    "df.obs.ctf$sre[df.obs.ctf$g.ethnicity==\"BLACK\"]=df.obs.ctf$top6.B[df.obs.ctf$g.ethnicity==\"BLACK\"]"
   ]
  },
  {
   "cell_type": "code",
   "execution_count": 23,
   "metadata": {},
   "outputs": [],
   "source": [
    "df.obs.ctf=df.obs.ctf[complete.cases(df.obs.ctf), ]"
   ]
  },
  {
   "cell_type": "markdown",
   "metadata": {},
   "source": [
    "### 2. Compute the gaps between same- and other-race booking probabilities"
   ]
  },
  {
   "cell_type": "code",
   "execution_count": 24,
   "metadata": {},
   "outputs": [
    {
     "data": {
      "text/plain": [
       "Time difference of 1.027195 secs"
      ]
     },
     "metadata": {},
     "output_type": "display_data"
    }
   ],
   "source": [
    "start_time=Sys.time()\n",
    "\n",
    "l_tukey=list()\n",
    "l_g.ethnicity=unique(df.obs.ctf$g.ethnicity)\n",
    "l_h.ethnicity=unique(df.obs.ctf$h.ethnicity)\n",
    "l_sre=unique(df.obs.ctf$sre)\n",
    "for(x in l_g.ethnicity){\n",
    "    for(y in l_sre){\n",
    "        df.tmp=df.obs.ctf[(df.obs.ctf$g.ethnicity==x)&\n",
    "                          (df.obs.ctf$sre==y),]\n",
    "        df.tmp$h.ethnicity=factor(df.tmp$h.ethnicity,\n",
    "                                  levels=c(setdiff(l_h.ethnicity,x),x),\n",
    "                                  ordered=TRUE)\n",
    "        a=aov(pairing.status~h.ethnicity, data=df.tmp)\n",
    "        df.tukey=as.data.table(TukeyHSD(a)$h.ethnicity, keep.rownames=\"h.ethnicity\")\n",
    "        df.tukey=df.tukey[grepl(x, df.tukey$h.ethnicity),]\n",
    "        df.tukey$h.ethnicity=sapply(strsplit(df.tukey$h.ethnicity, split='-', fixed=TRUE),\n",
    "                                    function(x) (x[2]))\n",
    "        df.tukey$g.ethnicity=x\n",
    "        df.tukey$sre=y\n",
    "        l_tukey[[paste(\"h.pair.diff\", x, y, sep=\".\")]]=df.tukey\n",
    "    }\n",
    "}\n",
    "\n",
    "end_time=Sys.time()\n",
    "end_time - start_time"
   ]
  },
  {
   "cell_type": "code",
   "execution_count": 25,
   "metadata": {},
   "outputs": [],
   "source": [
    "df.pairing.prob.diff=do.call(rbind.data.frame, l_tukey)"
   ]
  },
  {
   "cell_type": "code",
   "execution_count": 26,
   "metadata": {},
   "outputs": [],
   "source": [
    "df.pairing.prob.diff$sre=factor(df.pairing.prob.diff$sre)"
   ]
  },
  {
   "cell_type": "code",
   "execution_count": 27,
   "metadata": {},
   "outputs": [],
   "source": [
    "df.pairing.prob.diff$h.ethnicity=ifelse(df.pairing.prob.diff$h.ethnicity==\"RA\",\n",
    "                                        \"Racially Unidentified\", df.pairing.prob.diff$h.ethnicity)\n",
    "\n",
    "re_from=\"\\\\b([[:alpha:]])([[:alpha:]]+)\"\n",
    "df.pairing.prob.diff$h.ethnicity=gsub(re_from, \"\\\\U\\\\1\\\\L\\\\2\", df.pairing.prob.diff$h.ethnicity, perl=TRUE)\n",
    "\n",
    "df.pairing.prob.diff$h.ethnicity=factor(df.pairing.prob.diff$h.ethnicity,\n",
    "                                        levels=c(\"Racially Unidentified\",\"White\",\"Asian\",\"Black\"),\n",
    "                                        ordered=TRUE)"
   ]
  },
  {
   "cell_type": "code",
   "execution_count": 28,
   "metadata": {},
   "outputs": [],
   "source": [
    "df.pairing.prob.diff$g.ethnicity=factor(df.pairing.prob.diff$g.ethnicity,\n",
    "                                        levels=c(\"WHITE\",\"ASIAN\",\"BLACK\"),\n",
    "                                        ordered=TRUE)"
   ]
  },
  {
   "cell_type": "code",
   "execution_count": 30,
   "metadata": {},
   "outputs": [
    {
     "data": {
      "text/html": [
       "<strong>pdf:</strong> 2"
      ],
      "text/latex": [
       "\\textbf{pdf:} 2"
      ],
      "text/markdown": [
       "**pdf:** 2"
      ],
      "text/plain": [
       "pdf \n",
       "  2 "
      ]
     },
     "metadata": {},
     "output_type": "display_data"
    }
   ],
   "source": [
    "l_guest.race.label=c(\n",
    "    \"BLACK\"=\"Black Guest\",\n",
    "    \"WHITE\"=\"White Guest\",\n",
    "    \"ASIAN\"=\"Asian Guest\")\n",
    "cc=c(\"#899da4\",\"#2c2d4a\",\"#be5d05\",\"#f1aa00\")\n",
    "\n",
    "dodge=position_dodge(width=0.5)\n",
    "pdf(\"../output/supp_fig_s2a.pdf\", width=4.5, height=5.5)\n",
    "g = ggplot(df.pairing.prob.diff, aes(x=sre, y=diff)) + \n",
    "  geom_line(position=dodge, size=1, aes(color=h.ethnicity, group=h.ethnicity)) +\n",
    "  xlab(\"Number of Same-Race Endorsements\\n(Out of 5 or More Front-Page Reviews)\") + \n",
    "  ylab(\"Difference in Pairing Probability for Same- vs. Other-Race Hosts\") +\n",
    "  geom_point(position=dodge, aes(color=h.ethnicity, group=h.ethnicity), size=2) +\n",
    "  geom_errorbar(aes(ymin=lwr, ymax=upr, color=h.ethnicity),\n",
    "                size=0.75, width=0.25, position=dodge) +\n",
    "  scale_color_manual(values=cc) +\n",
    "  scale_x_discrete(labels=c(\"0\",\"1\",\"2\",\"3\",\"4\",\"5+\")) +\n",
    "  facet_grid(g.ethnicity~., margins=FALSE, switch=\"y\", scales=\"free_y\",\n",
    "             labeller=as_labeller(l_guest.race.label)) + labs(color=\"Host Race\") + \n",
    "             theme_classic() + theme(panel.border=element_rect(fill=NA, size=0.3)) +\n",
    "  coord_cartesian(ylim=c(-0.12,0.31)) +\n",
    "  geom_hline(yintercept=0, linetype=\"dashed\", color=\"#D55E00\") +\n",
    "  theme(legend.direction=\"vertical\",\n",
    "        legend.position=c(0.98,0.94),\n",
    "        legend.justification=\"right\",\n",
    "        legend.margin=margin(0, unit=\"cm\"),\n",
    "        legend.spacing.y=unit(0.1,\"cm\"),\n",
    "        legend.key.size=unit(0.4,\"lines\"),\n",
    "        panel.grid.major=element_blank(),\n",
    "        text=element_text(size=12),\n",
    "        legend.title=element_text(size=11)) + guides(color=guide_legend(nrow=2,byrow=TRUE))\n",
    "plot(g)\n",
    "dev.off()"
   ]
  },
  {
   "cell_type": "code",
   "execution_count": 31,
   "metadata": {},
   "outputs": [],
   "source": [
    "fig_s2_a=g"
   ]
  },
  {
   "cell_type": "markdown",
   "metadata": {},
   "source": [
    "### BINARY"
   ]
  },
  {
   "cell_type": "code",
   "execution_count": 32,
   "metadata": {},
   "outputs": [
    {
     "data": {
      "text/plain": [
       "Time difference of 1.035484 secs"
      ]
     },
     "metadata": {},
     "output_type": "display_data"
    }
   ],
   "source": [
    "start_time=Sys.time()\n",
    "\n",
    "df.tmp.obs.ctf=df.obs.ctf\n",
    "df.tmp.obs.ctf$h.ethnicity.binary=df.tmp.obs.ctf$h.ethnicity\n",
    "df.tmp.obs.ctf$h.ethnicity.binary=ifelse(df.tmp.obs.ctf$h.ethnicity.binary==df.tmp.obs.ctf$g.ethnicity,\n",
    "                                         \"SameRace\", \"OtherRace\")\n",
    "\n",
    "l_tukey=list()\n",
    "l_g.ethnicity=unique(df.tmp.obs.ctf$g.ethnicity)\n",
    "l_h.ethnicity=unique(df.tmp.obs.ctf$h.ethnicity)\n",
    "l_sre=unique(df.tmp.obs.ctf$sre)\n",
    "for(x in l_g.ethnicity){\n",
    "    for(y in l_sre){\n",
    "        df.tmp=df.tmp.obs.ctf[(df.tmp.obs.ctf$g.ethnicity==x)&\n",
    "                              (df.tmp.obs.ctf$sre==y),]\n",
    "        df.tmp$h.ethnicity.binary=factor(df.tmp$h.ethnicity.binary,\n",
    "                                         levels=c(\"OtherRace\", \"SameRace\"),\n",
    "                                         ordered=TRUE)\n",
    "        a=aov(pairing.status~h.ethnicity.binary, data=df.tmp)\n",
    "        df.tukey=as.data.table(TukeyHSD(a)$h.ethnicity.binary, keep.rownames=\"h.ethnicity\")\n",
    "        df.tukey$h.ethnicity=sapply(strsplit(df.tukey$h.ethnicity, split='-', fixed=TRUE),\n",
    "                                    function(x) (x[2]))\n",
    "        df.tukey$g.ethnicity=x\n",
    "        df.tukey$sre=y\n",
    "        l_tukey[[paste(\"h.pair.diff\", x, y, sep=\".\")]]=df.tukey\n",
    "    }\n",
    "}\n",
    "\n",
    "end_time=Sys.time()\n",
    "end_time - start_time"
   ]
  },
  {
   "cell_type": "code",
   "execution_count": 33,
   "metadata": {},
   "outputs": [],
   "source": [
    "df.pairing.prob.diff=do.call(rbind.data.frame, l_tukey)"
   ]
  },
  {
   "cell_type": "code",
   "execution_count": 34,
   "metadata": {},
   "outputs": [],
   "source": [
    "df.pairing.prob.diff$sre=factor(df.pairing.prob.diff$sre)"
   ]
  },
  {
   "cell_type": "code",
   "execution_count": 35,
   "metadata": {},
   "outputs": [],
   "source": [
    "df.pairing.prob.diff$g.ethnicity=factor(df.pairing.prob.diff$g.ethnicity,\n",
    "                                        levels=c(\"WHITE\",\"ASIAN\",\"BLACK\"),\n",
    "                                        ordered=TRUE)"
   ]
  },
  {
   "cell_type": "code",
   "execution_count": 38,
   "metadata": {},
   "outputs": [
    {
     "data": {
      "text/html": [
       "<strong>pdf:</strong> 2"
      ],
      "text/latex": [
       "\\textbf{pdf:} 2"
      ],
      "text/markdown": [
       "**pdf:** 2"
      ],
      "text/plain": [
       "pdf \n",
       "  2 "
      ]
     },
     "metadata": {},
     "output_type": "display_data"
    }
   ],
   "source": [
    "l_guest.race.label=c(\n",
    "    \"BLACK\"=\"Black Guest\",\n",
    "    \"WHITE\"=\"White Guest\",\n",
    "    \"ASIAN\"=\"Asian Guest\")\n",
    "\n",
    "dodge=position_dodge(width=0.5)\n",
    "pdf(\"../output/supp_fig_s2b.pdf\", width=4.5, height=5.5)\n",
    "g = ggplot(df.pairing.prob.diff, aes(x=sre, y=diff)) + \n",
    "  geom_hline(yintercept=0, linetype=\"dashed\", color=\"#D55E00\") +\n",
    "  geom_line(position=dodge, size=1, group=1) +\n",
    "  xlab(\"Number of Same-Race Endorsements\\n(Out of 5 or More Front-Page Reviews)\") + \n",
    "  ylab(\"\") +\n",
    "  geom_point(position=dodge, size=2) +\n",
    "  geom_errorbar(aes(ymin=lwr, ymax=upr),\n",
    "                size=0.75, width=0.15, position=dodge) +\n",
    "  scale_x_discrete(labels=c(\"0\",\"1\",\"2\",\"3\",\"4\",\"5+\")) +\n",
    "  scale_y_continuous(limits=c(-0.05,0.2), expand=c(0,0), breaks=seq(-0.05,0.2,0.05),\n",
    "                     labels=c(\"\",seq(0,0.2,0.05))) +\n",
    "  facet_grid(g.ethnicity~., margins=FALSE, switch=\"y\", scales=\"free_y\",\n",
    "             labeller=as_labeller(l_guest.race.label)) + \n",
    "             theme_classic() + theme(panel.border=element_rect(fill=NA, size=0.3)) +\n",
    "  theme(panel.spacing = unit(1, \"lines\"),\n",
    "        panel.grid.major=element_blank(),\n",
    "        text=element_text(size=12))\n",
    "plot(g)\n",
    "dev.off()"
   ]
  },
  {
   "cell_type": "code",
   "execution_count": 39,
   "metadata": {},
   "outputs": [],
   "source": [
    "fig_s2_b=g"
   ]
  },
  {
   "cell_type": "code",
   "execution_count": 40,
   "metadata": {},
   "outputs": [],
   "source": [
    "library(cowplot)\n",
    "\n",
    "g <- plot_grid(fig_s2_a,fig_s2_b,\n",
    "               align=\"hv\", \n",
    "               labels=\"AUTO\", label_size=12,\n",
    "               ncol=2)"
   ]
  },
  {
   "cell_type": "code",
   "execution_count": 42,
   "metadata": {},
   "outputs": [
    {
     "data": {
      "text/html": [
       "<strong>pdf:</strong> 2"
      ],
      "text/latex": [
       "\\textbf{pdf:} 2"
      ],
      "text/markdown": [
       "**pdf:** 2"
      ],
      "text/plain": [
       "pdf \n",
       "  2 "
      ]
     },
     "metadata": {},
     "output_type": "display_data"
    }
   ],
   "source": [
    "pdf(file=\"../output/supp_fig_s2.pdf\", width=9, height=6)\n",
    "print(g)\n",
    "dev.off()"
   ]
  }
 ],
 "metadata": {
  "kernelspec": {
   "display_name": "R",
   "language": "R",
   "name": "ir"
  },
  "language_info": {
   "codemirror_mode": "r",
   "file_extension": ".r",
   "mimetype": "text/x-r-source",
   "name": "R",
   "pygments_lexer": "r",
   "version": "4.1.2"
  }
 },
 "nbformat": 4,
 "nbformat_minor": 4
}
