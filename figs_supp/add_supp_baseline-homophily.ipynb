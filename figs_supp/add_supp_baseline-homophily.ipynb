{
 "cells": [
  {
   "cell_type": "code",
   "execution_count": 2,
   "metadata": {},
   "outputs": [],
   "source": [
    "library(data.table)\n",
    "library(Rmisc)\n",
    "library(ggplot2)"
   ]
  },
  {
   "cell_type": "code",
   "execution_count": 3,
   "metadata": {},
   "outputs": [],
   "source": [
    "#-Read the file that contains only instant bookable listings\n",
    "DIR = \"../data/\"\n",
    "rws.gh.t=fread(paste0(DIR,\"df_processed-rws_instant_bookings.csv\"))"
   ]
  },
  {
   "cell_type": "markdown",
   "metadata": {},
   "source": [
    "### 1. Compute paring probabilities across different race combinations\n",
    "\n",
    "#### 1.1. Extract only FIRST bookings and create counterfactuals"
   ]
  },
  {
   "cell_type": "code",
   "execution_count": 4,
   "metadata": {},
   "outputs": [],
   "source": [
    "df.first.guest=rws.gh.t[rws.gh.t$cum.cnt==0]"
   ]
  },
  {
   "cell_type": "code",
   "execution_count": 5,
   "metadata": {},
   "outputs": [],
   "source": [
    "create_ctf_1 = function(df.x) {\n",
    "    df.tmp.ctf=df.x\n",
    "    df.tmp.ctf$pairing.status=0\n",
    "    df.tmp.ctf$g.ethnicity=ifelse(df.tmp.ctf$g.ethnicity==\"BLACK\" |\n",
    "                                  df.tmp.ctf$g.ethnicity==\"ASIAN\",\n",
    "                                  \"WHITE\", \"BLACK\")\n",
    "    return(df.tmp.ctf)\n",
    "}\n",
    "\n",
    "create_ctf_2 = function(df.x) {\n",
    "    df.tmp.ctf=df.x\n",
    "    df.tmp.ctf$pairing.status=0\n",
    "    df.tmp.ctf$g.ethnicity=ifelse(df.tmp.ctf$g.ethnicity==\"BLACK\" |\n",
    "                                  df.tmp.ctf$g.ethnicity==\"WHITE\",\n",
    "                                  \"ASIAN\", \"BLACK\")\n",
    "    return(df.tmp.ctf)\n",
    "}\n",
    "\n",
    "create_ctf = function(df.x) {\n",
    "    return(rbind(create_ctf_1(df.x),create_ctf_2(df.x)))\n",
    "}"
   ]
  },
  {
   "cell_type": "code",
   "execution_count": 6,
   "metadata": {},
   "outputs": [],
   "source": [
    "df.tmp.obs=df.first.guest[, c(\"h.ethnicity\", \"g.ethnicity\"), with=FALSE]\n",
    "df.tmp.obs$pairing.status=1"
   ]
  },
  {
   "cell_type": "code",
   "execution_count": 7,
   "metadata": {},
   "outputs": [],
   "source": [
    "df.tmp.ctf=create_ctf(df.tmp.obs)"
   ]
  },
  {
   "cell_type": "markdown",
   "metadata": {},
   "source": [
    "#### 1.2. Combine counterfactuals with observations and compute average pairing probabilities "
   ]
  },
  {
   "cell_type": "code",
   "execution_count": 8,
   "metadata": {},
   "outputs": [],
   "source": [
    "df.obs.ctf=rbind(df.tmp.obs,df.tmp.ctf)"
   ]
  },
  {
   "cell_type": "code",
   "execution_count": 9,
   "metadata": {},
   "outputs": [],
   "source": [
    "#-Re-labeling racial categories into binary categories\n",
    "df.obs.ctf$h.ethnicity.binary=\"BLACK\"\n",
    "df.obs.ctf=df.obs.ctf[h.ethnicity !=\"BLACK\", h.ethnicity.binary := \"WHITE/ASIAN\"]\n",
    "\n",
    "df.obs.ctf$g.ethnicity.binary=\"BLACK\"\n",
    "df.obs.ctf=df.obs.ctf[g.ethnicity !=\"BLACK\", g.ethnicity.binary := \"WHITE/ASIAN\"]"
   ]
  },
  {
   "cell_type": "code",
   "execution_count": 10,
   "metadata": {},
   "outputs": [],
   "source": [
    "summary.pairing.prob.obs=summarySE(df.obs.ctf, measurevar=\"pairing.status\",\n",
    "                                   groupvars=c(\"h.ethnicity.binary\", \"g.ethnicity.binary\"))"
   ]
  },
  {
   "cell_type": "code",
   "execution_count": 11,
   "metadata": {},
   "outputs": [
    {
     "data": {
      "text/html": [
       "<table class=\"dataframe\">\n",
       "<caption>A data.frame: 4 × 7</caption>\n",
       "<thead>\n",
       "\t<tr><th scope=col>h.ethnicity.binary</th><th scope=col>g.ethnicity.binary</th><th scope=col>N</th><th scope=col>pairing.status</th><th scope=col>sd</th><th scope=col>se</th><th scope=col>ci</th></tr>\n",
       "\t<tr><th scope=col>&lt;chr&gt;</th><th scope=col>&lt;chr&gt;</th><th scope=col>&lt;dbl&gt;</th><th scope=col>&lt;dbl&gt;</th><th scope=col>&lt;dbl&gt;</th><th scope=col>&lt;dbl&gt;</th><th scope=col>&lt;dbl&gt;</th></tr>\n",
       "</thead>\n",
       "<tbody>\n",
       "\t<tr><td>BLACK      </td><td>BLACK      </td><td> 1769</td><td>0.285472</td><td>0.4517667</td><td>0.010741137</td><td>0.021066664</td></tr>\n",
       "\t<tr><td>BLACK      </td><td>WHITE/ASIAN</td><td> 3538</td><td>0.357264</td><td>0.4792613</td><td>0.008057372</td><td>0.015797565</td></tr>\n",
       "\t<tr><td>WHITE/ASIAN</td><td>BLACK      </td><td> 6134</td><td>0.171014</td><td>0.3765519</td><td>0.004807873</td><td>0.009425118</td></tr>\n",
       "\t<tr><td>WHITE/ASIAN</td><td>WHITE/ASIAN</td><td>12268</td><td>0.414493</td><td>0.4926544</td><td>0.004447905</td><td>0.008718593</td></tr>\n",
       "</tbody>\n",
       "</table>\n"
      ],
      "text/latex": [
       "A data.frame: 4 × 7\n",
       "\\begin{tabular}{lllllll}\n",
       " h.ethnicity.binary & g.ethnicity.binary & N & pairing.status & sd & se & ci\\\\\n",
       " <chr> & <chr> & <dbl> & <dbl> & <dbl> & <dbl> & <dbl>\\\\\n",
       "\\hline\n",
       "\t BLACK       & BLACK       &  1769 & 0.285472 & 0.4517667 & 0.010741137 & 0.021066664\\\\\n",
       "\t BLACK       & WHITE/ASIAN &  3538 & 0.357264 & 0.4792613 & 0.008057372 & 0.015797565\\\\\n",
       "\t WHITE/ASIAN & BLACK       &  6134 & 0.171014 & 0.3765519 & 0.004807873 & 0.009425118\\\\\n",
       "\t WHITE/ASIAN & WHITE/ASIAN & 12268 & 0.414493 & 0.4926544 & 0.004447905 & 0.008718593\\\\\n",
       "\\end{tabular}\n"
      ],
      "text/markdown": [
       "\n",
       "A data.frame: 4 × 7\n",
       "\n",
       "| h.ethnicity.binary &lt;chr&gt; | g.ethnicity.binary &lt;chr&gt; | N &lt;dbl&gt; | pairing.status &lt;dbl&gt; | sd &lt;dbl&gt; | se &lt;dbl&gt; | ci &lt;dbl&gt; |\n",
       "|---|---|---|---|---|---|---|\n",
       "| BLACK       | BLACK       |  1769 | 0.285472 | 0.4517667 | 0.010741137 | 0.021066664 |\n",
       "| BLACK       | WHITE/ASIAN |  3538 | 0.357264 | 0.4792613 | 0.008057372 | 0.015797565 |\n",
       "| WHITE/ASIAN | BLACK       |  6134 | 0.171014 | 0.3765519 | 0.004807873 | 0.009425118 |\n",
       "| WHITE/ASIAN | WHITE/ASIAN | 12268 | 0.414493 | 0.4926544 | 0.004447905 | 0.008718593 |\n",
       "\n"
      ],
      "text/plain": [
       "  h.ethnicity.binary g.ethnicity.binary N     pairing.status sd       \n",
       "1 BLACK              BLACK               1769 0.285472       0.4517667\n",
       "2 BLACK              WHITE/ASIAN         3538 0.357264       0.4792613\n",
       "3 WHITE/ASIAN        BLACK               6134 0.171014       0.3765519\n",
       "4 WHITE/ASIAN        WHITE/ASIAN        12268 0.414493       0.4926544\n",
       "  se          ci         \n",
       "1 0.010741137 0.021066664\n",
       "2 0.008057372 0.015797565\n",
       "3 0.004807873 0.009425118\n",
       "4 0.004447905 0.008718593"
      ]
     },
     "metadata": {},
     "output_type": "display_data"
    }
   ],
   "source": [
    "summary.pairing.prob.obs"
   ]
  },
  {
   "cell_type": "markdown",
   "metadata": {},
   "source": [
    "### 2. Compute the pairing probabilities compared to the random baseline and plot the results\n",
    "\n",
    "#### 2.1. Create n random baselines (for standard errors) and compute the difference with the observations"
   ]
  },
  {
   "cell_type": "code",
   "execution_count": 12,
   "metadata": {},
   "outputs": [],
   "source": [
    "df.tmp.rnd=df.tmp.obs"
   ]
  },
  {
   "cell_type": "code",
   "execution_count": 13,
   "metadata": {},
   "outputs": [
    {
     "data": {
      "text/plain": [
       "Time difference of 17.77234 secs"
      ]
     },
     "metadata": {},
     "output_type": "display_data"
    }
   ],
   "source": [
    "#-Permutate g.ethnicity for n times to create a random baseline\n",
    "#-to compare the difference between obeservations and random chances\n",
    "#-as well as to create standard errors... .\n",
    "\n",
    "start_time=Sys.time()\n",
    "\n",
    "shuffle_time=1000\n",
    "l_rand=list()\n",
    "l_diff=list()\n",
    "for(x in 1:shuffle_time){\n",
    "    df.tmp=df.tmp.rnd\n",
    "    df.tmp$g.ethnicity=df.tmp.rnd[sample(nrow(df.tmp.rnd)),]$g.ethnicity\n",
    "    \n",
    "    df.tmp.ctf=create_ctf(df.tmp)\n",
    "    df.tmp.rnd.ctf=rbind(df.tmp,df.tmp.ctf)\n",
    "    \n",
    "    df.tmp.rnd.ctf$h.ethnicity.binary=\"BLACK\"\n",
    "    df.tmp.rnd.ctf=df.tmp.rnd.ctf[h.ethnicity !=\"BLACK\", h.ethnicity.binary := \"WHITE/ASIAN\"]\n",
    "    df.tmp.rnd.ctf$g.ethnicity.binary=\"BLACK\"\n",
    "    df.tmp.rnd.ctf=df.tmp.rnd.ctf[g.ethnicity !=\"BLACK\", g.ethnicity.binary := \"WHITE/ASIAN\"]\n",
    "    \n",
    "    df.tmp.pairing.prob.obs=summarySE(df.tmp.rnd.ctf, measurevar=\"pairing.status\",\n",
    "                                      groupvars=c(\"h.ethnicity.binary\", \"g.ethnicity.binary\"))\n",
    "    l_rand[[paste(\"g.rnd.ethnicity\", x, sep=\".\")]]=df.tmp.pairing.prob.obs\n",
    "    df.tmp.diff=df.tmp.pairing.prob.obs[,1:2]\n",
    "    df.tmp.diff$prob.diff=summary.pairing.prob.obs$pairing.status - df.tmp.pairing.prob.obs$pairing.status\n",
    "    l_diff[[paste(\"obs.rnd.diff\", x, sep=\".\")]]=df.tmp.diff\n",
    "}\n",
    "\n",
    "end_time=Sys.time()\n",
    "end_time - start_time"
   ]
  },
  {
   "cell_type": "code",
   "execution_count": 14,
   "metadata": {},
   "outputs": [],
   "source": [
    "df.pairing.prob.diff=do.call(rbind.data.frame, l_diff)"
   ]
  },
  {
   "cell_type": "markdown",
   "metadata": {},
   "source": [
    "#### 2.2. Compute the mean (and CI) of the probability difference"
   ]
  },
  {
   "cell_type": "code",
   "execution_count": 15,
   "metadata": {},
   "outputs": [],
   "source": [
    "summary.pairing.prob.diff=summarySE(df.pairing.prob.diff, measurevar=\"prob.diff\",\n",
    "                                    groupvars=c(\"h.ethnicity.binary\", \"g.ethnicity.binary\"))"
   ]
  },
  {
   "cell_type": "code",
   "execution_count": 16,
   "metadata": {},
   "outputs": [],
   "source": [
    "summary.pairing.prob.diff$ci=summary.pairing.prob.diff$sd*1.96"
   ]
  },
  {
   "cell_type": "code",
   "execution_count": 17,
   "metadata": {},
   "outputs": [
    {
     "data": {
      "text/html": [
       "<table class=\"dataframe\">\n",
       "<caption>A data.frame: 4 × 7</caption>\n",
       "<thead>\n",
       "\t<tr><th scope=col>h.ethnicity.binary</th><th scope=col>g.ethnicity.binary</th><th scope=col>N</th><th scope=col>prob.diff</th><th scope=col>sd</th><th scope=col>se</th><th scope=col>ci</th></tr>\n",
       "\t<tr><th scope=col>&lt;chr&gt;</th><th scope=col>&lt;chr&gt;</th><th scope=col>&lt;dbl&gt;</th><th scope=col>&lt;dbl&gt;</th><th scope=col>&lt;dbl&gt;</th><th scope=col>&lt;dbl&gt;</th><th scope=col>&lt;dbl&gt;</th></tr>\n",
       "</thead>\n",
       "<tbody>\n",
       "\t<tr><td>BLACK      </td><td>BLACK      </td><td>1000</td><td> 0.08914924</td><td>0.008095930</td><td>2.560158e-04</td><td>0.015868022</td></tr>\n",
       "\t<tr><td>BLACK      </td><td>WHITE/ASIAN</td><td>1000</td><td>-0.04457462</td><td>0.004047965</td><td>1.280079e-04</td><td>0.007934011</td></tr>\n",
       "\t<tr><td>WHITE/ASIAN</td><td>BLACK      </td><td>1000</td><td>-0.02570998</td><td>0.002334806</td><td>7.383305e-05</td><td>0.004576220</td></tr>\n",
       "\t<tr><td>WHITE/ASIAN</td><td>WHITE/ASIAN</td><td>1000</td><td> 0.01285499</td><td>0.001167403</td><td>3.691652e-05</td><td>0.002288110</td></tr>\n",
       "</tbody>\n",
       "</table>\n"
      ],
      "text/latex": [
       "A data.frame: 4 × 7\n",
       "\\begin{tabular}{lllllll}\n",
       " h.ethnicity.binary & g.ethnicity.binary & N & prob.diff & sd & se & ci\\\\\n",
       " <chr> & <chr> & <dbl> & <dbl> & <dbl> & <dbl> & <dbl>\\\\\n",
       "\\hline\n",
       "\t BLACK       & BLACK       & 1000 &  0.08914924 & 0.008095930 & 2.560158e-04 & 0.015868022\\\\\n",
       "\t BLACK       & WHITE/ASIAN & 1000 & -0.04457462 & 0.004047965 & 1.280079e-04 & 0.007934011\\\\\n",
       "\t WHITE/ASIAN & BLACK       & 1000 & -0.02570998 & 0.002334806 & 7.383305e-05 & 0.004576220\\\\\n",
       "\t WHITE/ASIAN & WHITE/ASIAN & 1000 &  0.01285499 & 0.001167403 & 3.691652e-05 & 0.002288110\\\\\n",
       "\\end{tabular}\n"
      ],
      "text/markdown": [
       "\n",
       "A data.frame: 4 × 7\n",
       "\n",
       "| h.ethnicity.binary &lt;chr&gt; | g.ethnicity.binary &lt;chr&gt; | N &lt;dbl&gt; | prob.diff &lt;dbl&gt; | sd &lt;dbl&gt; | se &lt;dbl&gt; | ci &lt;dbl&gt; |\n",
       "|---|---|---|---|---|---|---|\n",
       "| BLACK       | BLACK       | 1000 |  0.08914924 | 0.008095930 | 2.560158e-04 | 0.015868022 |\n",
       "| BLACK       | WHITE/ASIAN | 1000 | -0.04457462 | 0.004047965 | 1.280079e-04 | 0.007934011 |\n",
       "| WHITE/ASIAN | BLACK       | 1000 | -0.02570998 | 0.002334806 | 7.383305e-05 | 0.004576220 |\n",
       "| WHITE/ASIAN | WHITE/ASIAN | 1000 |  0.01285499 | 0.001167403 | 3.691652e-05 | 0.002288110 |\n",
       "\n"
      ],
      "text/plain": [
       "  h.ethnicity.binary g.ethnicity.binary N    prob.diff   sd         \n",
       "1 BLACK              BLACK              1000  0.08914924 0.008095930\n",
       "2 BLACK              WHITE/ASIAN        1000 -0.04457462 0.004047965\n",
       "3 WHITE/ASIAN        BLACK              1000 -0.02570998 0.002334806\n",
       "4 WHITE/ASIAN        WHITE/ASIAN        1000  0.01285499 0.001167403\n",
       "  se           ci         \n",
       "1 2.560158e-04 0.015868022\n",
       "2 1.280079e-04 0.007934011\n",
       "3 7.383305e-05 0.004576220\n",
       "4 3.691652e-05 0.002288110"
      ]
     },
     "metadata": {},
     "output_type": "display_data"
    }
   ],
   "source": [
    "summary.pairing.prob.diff"
   ]
  },
  {
   "cell_type": "markdown",
   "metadata": {},
   "source": [
    "#### 2.3. Plot the results"
   ]
  },
  {
   "cell_type": "code",
   "execution_count": 18,
   "metadata": {},
   "outputs": [],
   "source": [
    "summary.pairing.prob.diff$h.ethnicity.binary=ifelse(summary.pairing.prob.diff$h.ethnicity.binary==summary.pairing.prob.diff$g.ethnicity.binary,\n",
    "                                                    \"Same-Race\", \"Other-Race\")"
   ]
  },
  {
   "cell_type": "code",
   "execution_count": 19,
   "metadata": {},
   "outputs": [],
   "source": [
    "l_guest.race.label=c(\n",
    "    \"BLACK\"=\"Black Guest\",\n",
    "    \"WHITE/ASIAN\"=\"White/Asian Guest\")\n",
    "\n",
    "dodge=position_dodge(width=0.5)\n",
    "g = ggplot(summary.pairing.prob.diff, aes(x=h.ethnicity.binary, y=prob.diff)) + \n",
    "  xlab(\"Host Race\") + \n",
    "  scale_x_discrete(limits=c(\"Same-Race\", \"Other-Race\")) +\n",
    "  ylab(\"Pairing Probability Compared to Random\") +\n",
    "  geom_point(position=dodge, size=2.5) +\n",
    "  geom_errorbar(aes(ymin=prob.diff-ci, ymax=prob.diff+ci),\n",
    "                size=0.9, width=0.05, position=dodge) +\n",
    "  facet_grid(~g.ethnicity.binary, margins=FALSE,\n",
    "             switch=\"y\", labeller=as_labeller(l_guest.race.label)) + labs(color=\"Host Race\") + theme_classic() +\n",
    "  theme(panel.border=element_rect(fill=NA, size=0.3),\n",
    "        panel.grid.major=element_blank()) +\n",
    "  geom_hline(yintercept=0, linetype=\"dashed\", color=\"#D55E00\") +\n",
    "  scale_color_grey(start=0.5, end=0.5) + theme(text=element_text(size=15))"
   ]
  },
  {
   "cell_type": "code",
   "execution_count": 20,
   "metadata": {},
   "outputs": [
    {
     "data": {
      "image/png": "[encoded data removed]",
      "text/plain": [
       "plot without title"
      ]
     },
     "metadata": {
      "image/png": {
       "height": 420,
       "width": 420
      }
     },
     "output_type": "display_data"
    }
   ],
   "source": [
    "g"
   ]
  }
 ],
 "metadata": {
  "kernelspec": {
   "display_name": "R",
   "language": "R",
   "name": "ir"
  },
  "language_info": {
   "codemirror_mode": "r",
   "file_extension": ".r",
   "mimetype": "text/x-r-source",
   "name": "R",
   "pygments_lexer": "r",
   "version": "4.1.2"
  }
 },
 "nbformat": 4,
 "nbformat_minor": 4
}
