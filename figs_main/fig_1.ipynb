{
 "cells": [
  {
   "cell_type": "code",
   "execution_count": 2,
   "metadata": {},
   "outputs": [],
   "source": [
    "library(data.table)\n",
    "library(Rmisc)\n",
    "library(ggplot2)\n",
    "library(dplyr)\n",
    "library(reshape2)\n",
    "library(bit)\n",
    "library(zoo)"
   ]
  },
  {
   "cell_type": "markdown",
   "metadata": {},
   "source": [
    "## Data Preperation"
   ]
  },
  {
   "cell_type": "markdown",
   "metadata": {},
   "source": [
    "### 1. Read raw data (i.e., reviews)"
   ]
  },
  {
   "cell_type": "code",
   "execution_count": 3,
   "metadata": {},
   "outputs": [],
   "source": [
    "rws=fread(\"../data/rws.all.csv\")"
   ]
  },
  {
   "cell_type": "markdown",
   "metadata": {},
   "source": [
    "### 2. Read facial attributes for both hosts and guests and merge those attributes with the review data"
   ]
  },
  {
   "cell_type": "code",
   "execution_count": 4,
   "metadata": {},
   "outputs": [],
   "source": [
    "guest=fread(\"../data/guest.attribute.csv\")\n",
    "colnames(guest)[c(8)]=c(\"g.ethnicity\")\n",
    "guest=guest[,c(\"guest_id\",\"g.ethnicity\")]\n",
    "rws.gh=left_join(rws,guest, by=\"guest_id\",type='left')"
   ]
  },
  {
   "cell_type": "code",
   "execution_count": 5,
   "metadata": {},
   "outputs": [],
   "source": [
    "#-Note that h.num_face==0 represents hots without any human face in their profile photos.\n",
    "#-In this case, h.ethnicity is empty string.\n",
    "#-Additional filtering is required depending on analysis,\n",
    "#-since profile photos with more than 1 human face also have empty string in the h.ethnicity column.\n",
    "host=fread(\"../data/host.attribute.csv\")\n",
    "colnames(host)[c(5,8)]=c(\"h.num_face\",\"h.ethnicity\")\n",
    "host=host[,c(\"listing_id\",\"host_id\",\"h.num_face\",\"h.ethnicity\")]\n",
    "rws.gh=left_join(rws.gh,host, by=c(\"listing_id\",\"host_id\"))"
   ]
  },
  {
   "cell_type": "code",
   "execution_count": 6,
   "metadata": {},
   "outputs": [
    {
     "data": {
      "text/plain": [
       "\n",
       "      ASIAN BLACK    RA WHITE \n",
       " 4217  4717  4621  6112 12731 "
      ]
     },
     "metadata": {},
     "output_type": "display_data"
    }
   ],
   "source": [
    "tmp_host=host\n",
    "tmp_host$h.ethnicity=ifelse(tmp_host$h.num_face==0, \"RA\", tmp_host$h.ethnicity)\n",
    "\n",
    "table(unique(tmp_host[,c(\"listing_id\", \"host_id\", \"h.ethnicity\")])$h.ethnicity)"
   ]
  },
  {
   "cell_type": "code",
   "execution_count": 7,
   "metadata": {},
   "outputs": [],
   "source": [
    "#-Remove those racially unidentified guests\n",
    "rws.gh=rws.gh[rws.gh$g.ethnicity!=\"\",]"
   ]
  },
  {
   "cell_type": "code",
   "execution_count": 8,
   "metadata": {},
   "outputs": [],
   "source": [
    "#-Label RA for racially ambiguous hosts\n",
    "rws.gh$h.ethnicity=ifelse(rws.gh$h.num_face==0, \"RA\", rws.gh$h.ethnicity)"
   ]
  },
  {
   "cell_type": "code",
   "execution_count": 9,
   "metadata": {},
   "outputs": [],
   "source": [
    "#-Remove those racially unidentified hosts (with multiple human faces in their profile photos)\n",
    "rws.gh=rws.gh[rws.gh$h.ethnicity!=\"\",]"
   ]
  },
  {
   "cell_type": "markdown",
   "metadata": {},
   "source": [
    "### 3. Create booking- / staying-level reputation and endorsement signals\n",
    "\n",
    "#### 3.1. Create columns for # of previous reviews and race of previous reviewers for each booking/staying"
   ]
  },
  {
   "cell_type": "code",
   "execution_count": 10,
   "metadata": {},
   "outputs": [],
   "source": [
    "df=rws.gh"
   ]
  },
  {
   "cell_type": "code",
   "execution_count": 11,
   "metadata": {},
   "outputs": [],
   "source": [
    "df=df %>% group_by(listing_id) %>% arrange(date) %>%\n",
    "  mutate(cum.cnt=row_number()-1,\n",
    "         rws.race=lag(g.ethnicity, n = 1, default = NA))"
   ]
  },
  {
   "cell_type": "markdown",
   "metadata": {},
   "source": [
    "#### 3.2. Count the previous guest race for each booking"
   ]
  },
  {
   "cell_type": "code",
   "execution_count": 12,
   "metadata": {},
   "outputs": [],
   "source": [
    "#-Create column and add counter\n",
    "df$g.W.cnt=ifelse(df$rws.race==\"WHITE\", 1, 0)\n",
    "df$g.B.cnt=ifelse(df$rws.race==\"BLACK\", 1, 0)\n",
    "df$g.A.cnt=ifelse(df$rws.race==\"ASIAN\", 1, 0)"
   ]
  },
  {
   "cell_type": "code",
   "execution_count": 13,
   "metadata": {},
   "outputs": [],
   "source": [
    "#-Sort reviews for each listing by date\n",
    "#-Then roll sum racial compositions in the most recent 6 reviews for each booking\n",
    "#-Note that the most 6 reviews are the proxy of front-page reviews\n",
    "df = df %>% group_by(listing_id) %>% arrange(date) %>%\n",
    "    mutate(top6.W=rollsumr(g.W.cnt==1, 6, fill=NA),\n",
    "           top6.B=rollsumr(g.B.cnt==1, 6, fill=NA),\n",
    "           top6.A=rollsumr(g.A.cnt==1, 6, fill=NA))"
   ]
  },
  {
   "cell_type": "code",
   "execution_count": 14,
   "metadata": {},
   "outputs": [],
   "source": [
    "#-Code the first review's the most recent previous reviewer's race as 0\n",
    "#-and then count all the previous reviewers' races cumulatively\n",
    "df$rws.race[which(is.na(df$rws.race))]=0\n",
    "\n",
    "df = df %>% group_by(listing_id) %>% arrange(date) %>% \n",
    "    mutate(g.W.cnt=cumsum(rws.race==\"WHITE\"),\n",
    "           g.B.cnt=cumsum(rws.race==\"BLACK\"),\n",
    "           g.A.cnt=cumsum(rws.race==\"ASIAN\"))"
   ]
  },
  {
   "cell_type": "code",
   "execution_count": 15,
   "metadata": {},
   "outputs": [],
   "source": [
    "df=as.data.table(df)"
   ]
  },
  {
   "cell_type": "code",
   "execution_count": 16,
   "metadata": {},
   "outputs": [],
   "source": [
    "#-Extract only listings that allow instant booking\n",
    "df=df[which(df$instant_bookable==\"t\"),]"
   ]
  },
  {
   "cell_type": "code",
   "execution_count": 17,
   "metadata": {},
   "outputs": [
    {
     "data": {
      "text/html": [
       "9861"
      ],
      "text/latex": [
       "9861"
      ],
      "text/markdown": [
       "9861"
      ],
      "text/plain": [
       "[1] 9861"
      ]
     },
     "metadata": {},
     "output_type": "display_data"
    }
   ],
   "source": [
    "length(unique(df$listing_id))"
   ]
  },
  {
   "cell_type": "code",
   "execution_count": 18,
   "metadata": {},
   "outputs": [
    {
     "data": {
      "text/plain": [
       "\n",
       "ASIAN BLACK    RA WHITE \n",
       " 4284  4266  5642 11654 "
      ]
     },
     "metadata": {},
     "output_type": "display_data"
    }
   ],
   "source": [
    "table(unique(rws.gh[,c(\"listing_id\", \"host_id\", \"h.ethnicity\")])$h.ethnicity)"
   ]
  },
  {
   "cell_type": "markdown",
   "metadata": {},
   "source": [
    "# ----------------------------------------------------------------------------------------"
   ]
  },
  {
   "cell_type": "markdown",
   "metadata": {},
   "source": [
    "## In-group racial preference on host selection\n",
    "\n",
    "- Fig. 1\n",
    "- Pairing probability across all possible racial group pairs"
   ]
  },
  {
   "cell_type": "markdown",
   "metadata": {},
   "source": [
    "### 1. Compute paring probabilities across different race combinations\n",
    "\n",
    "#### 1.1. Extract only relevant columns and create counterfactuals"
   ]
  },
  {
   "cell_type": "code",
   "execution_count": 19,
   "metadata": {},
   "outputs": [],
   "source": [
    "create_ctf_1 = function(df.x) {\n",
    "    df.tmp.ctf=df.x\n",
    "    df.tmp.ctf$pairing.status=0\n",
    "    df.tmp.ctf$g.ethnicity=ifelse(df.tmp.ctf$g.ethnicity==\"BLACK\" |\n",
    "                                  df.tmp.ctf$g.ethnicity==\"ASIAN\",\n",
    "                                  \"WHITE\", \"BLACK\")\n",
    "    return(df.tmp.ctf)\n",
    "}\n",
    "\n",
    "create_ctf_2 = function(df.x) {\n",
    "    df.tmp.ctf=df.x\n",
    "    df.tmp.ctf$pairing.status=0\n",
    "    df.tmp.ctf$g.ethnicity=ifelse(df.tmp.ctf$g.ethnicity==\"BLACK\" |\n",
    "                                  df.tmp.ctf$g.ethnicity==\"WHITE\",\n",
    "                                  \"ASIAN\", \"BLACK\")\n",
    "    return(df.tmp.ctf)\n",
    "}\n",
    "\n",
    "create_ctf = function(df.x) {\n",
    "    return(rbind(create_ctf_1(df.x),create_ctf_2(df.x)))\n",
    "}"
   ]
  },
  {
   "cell_type": "code",
   "execution_count": 20,
   "metadata": {},
   "outputs": [],
   "source": [
    "df.tmp.obs=df[, c(\"h.ethnicity\", \"g.ethnicity\"), with=FALSE]\n",
    "df.tmp.obs$pairing.status=1"
   ]
  },
  {
   "cell_type": "code",
   "execution_count": 21,
   "metadata": {},
   "outputs": [],
   "source": [
    "df.tmp.ctf=create_ctf(df.tmp.obs)"
   ]
  },
  {
   "cell_type": "markdown",
   "metadata": {},
   "source": [
    "#### 1.2. Combine counterfactuals with observations and compute average pairing probabilities "
   ]
  },
  {
   "cell_type": "code",
   "execution_count": 22,
   "metadata": {},
   "outputs": [],
   "source": [
    "df.obs.ctf=rbind(df.tmp.obs,df.tmp.ctf)"
   ]
  },
  {
   "cell_type": "code",
   "execution_count": 23,
   "metadata": {},
   "outputs": [],
   "source": [
    "summary.pairing.prob.obs=summarySE(df.obs.ctf, measurevar=\"pairing.status\",\n",
    "                                   groupvars=c(\"h.ethnicity\", \"g.ethnicity\"))"
   ]
  },
  {
   "cell_type": "markdown",
   "metadata": {},
   "source": [
    "### 2. Compute the pairing probabilities compared to the random baseline and plot the results\n",
    "\n",
    "#### 2.1. Create n random baselines (for standard errors) and compute the difference with the observations"
   ]
  },
  {
   "cell_type": "code",
   "execution_count": 24,
   "metadata": {},
   "outputs": [],
   "source": [
    "df.tmp.rnd=df.tmp.obs"
   ]
  },
  {
   "cell_type": "code",
   "execution_count": 25,
   "metadata": {},
   "outputs": [
    {
     "data": {
      "text/plain": [
       "Time difference of 5.332191 mins"
      ]
     },
     "metadata": {},
     "output_type": "display_data"
    }
   ],
   "source": [
    "#-Permutate g.ethnicity for n times to create a random baseline\n",
    "#-to compare the difference between obeservations and random chances\n",
    "#-as well as to create standard errors... .\n",
    "\n",
    "start_time=Sys.time()\n",
    "\n",
    "shuffle_time=1000\n",
    "l_rand=list()\n",
    "l_diff=list()\n",
    "for(x in 1:shuffle_time){\n",
    "    df.tmp=df.tmp.rnd\n",
    "    df.tmp$g.ethnicity=df.tmp.rnd[sample(nrow(df.tmp.rnd), replace=FALSE),]$g.ethnicity\n",
    "        \n",
    "    df.tmp.ctf=create_ctf(df.tmp)\n",
    "    df.tmp.rnd.ctf=rbind(df.tmp,df.tmp.ctf)\n",
    "    \n",
    "    df.tmp.pairing.prob.obs=summarySE(df.tmp.rnd.ctf, measurevar=\"pairing.status\",\n",
    "                                      groupvars=c(\"h.ethnicity\", \"g.ethnicity\"))\n",
    "    l_rand[[paste(\"g.rnd.ethnicity\", x, sep=\".\")]]=df.tmp.pairing.prob.obs\n",
    "    df.tmp.diff=df.tmp.pairing.prob.obs[,1:2]\n",
    "    df.tmp.diff$prob.diff=summary.pairing.prob.obs$pairing.status - df.tmp.pairing.prob.obs$pairing.status\n",
    "    l_diff[[paste(\"obs.rnd.diff\", x, sep=\".\")]]=df.tmp.diff\n",
    "}\n",
    "\n",
    "end_time=Sys.time()\n",
    "end_time - start_time"
   ]
  },
  {
   "cell_type": "code",
   "execution_count": 26,
   "metadata": {},
   "outputs": [],
   "source": [
    "df.pairing.prob.diff=do.call(rbind.data.frame, l_diff)"
   ]
  },
  {
   "cell_type": "code",
   "execution_count": null,
   "metadata": {},
   "outputs": [],
   "source": [
    "#-Save\n",
    "saveRDS(summary.pairing.prob.obs, \"../data/fig_1_summary.pairing.prob.obs.RDS\")\n",
    "saveRDS(df.pairing.prob.diff, \"../data/fig_1_pairing.prob.diff.RDS\")"
   ]
  },
  {
   "cell_type": "code",
   "execution_count": null,
   "metadata": {},
   "outputs": [],
   "source": [
    "#-Read\n",
    "summary.pairing.prob.obs=readRDS(\"../data/fig_1_summary.pairing.prob.obs.RDS\")\n",
    "df.pairing.prob.diff=readRDS(\"../data/fig_1_pairing.prob.diff.RDS\")"
   ]
  },
  {
   "cell_type": "markdown",
   "metadata": {},
   "source": [
    "#### 2.2. Compute the mean (and CI) of the probability difference"
   ]
  },
  {
   "cell_type": "code",
   "execution_count": 27,
   "metadata": {},
   "outputs": [],
   "source": [
    "summary.pairing.prob.diff=summarySE(df.pairing.prob.diff, measurevar=\"prob.diff\",\n",
    "                                    groupvars=c(\"h.ethnicity\", \"g.ethnicity\"))"
   ]
  },
  {
   "cell_type": "code",
   "execution_count": 28,
   "metadata": {},
   "outputs": [],
   "source": [
    "summary.pairing.prob.diff$ci=summary.pairing.prob.diff$sd*1.96"
   ]
  },
  {
   "cell_type": "markdown",
   "metadata": {},
   "source": [
    "#### 2.3. Plot the results"
   ]
  },
  {
   "cell_type": "code",
   "execution_count": 29,
   "metadata": {},
   "outputs": [],
   "source": [
    "summary.pairing.prob.diff$h.ethnicity=ifelse(summary.pairing.prob.diff$h.ethnicity==\"RA\",\n",
    "                                             \"Racially\\nUnidentified\", summary.pairing.prob.diff$h.ethnicity)"
   ]
  },
  {
   "cell_type": "code",
   "execution_count": 30,
   "metadata": {},
   "outputs": [],
   "source": [
    "re_from=\"\\\\b([[:alpha:]])([[:alpha:]]+)\"\n",
    "summary.pairing.prob.diff$h.ethnicity=gsub(re_from, \"\\\\U\\\\1\\\\L\\\\2\", summary.pairing.prob.diff$h.ethnicity, perl=TRUE)"
   ]
  },
  {
   "cell_type": "code",
   "execution_count": 31,
   "metadata": {},
   "outputs": [],
   "source": [
    "summary.pairing.prob.diff$h.ethnicity=factor(summary.pairing.prob.diff$h.ethnicity,\n",
    "                                             levels=c(\"Racially\\nUnidentified\",\"White\",\"Asian\",\"Black\"),\n",
    "                                             ordered=TRUE)"
   ]
  },
  {
   "cell_type": "code",
   "execution_count": 32,
   "metadata": {},
   "outputs": [],
   "source": [
    "summary.pairing.prob.diff$g.ethnicity=factor(summary.pairing.prob.diff$g.ethnicity,\n",
    "                                             levels=c(\"WHITE\",\"ASIAN\",\"BLACK\"),\n",
    "                                             ordered=TRUE)"
   ]
  },
  {
   "cell_type": "code",
   "execution_count": 33,
   "metadata": {},
   "outputs": [
    {
     "data": {
      "text/html": [
       "<table class=\"dataframe\">\n",
       "<caption>A data.frame: 12 × 7</caption>\n",
       "<thead>\n",
       "\t<tr><th scope=col>h.ethnicity</th><th scope=col>g.ethnicity</th><th scope=col>N</th><th scope=col>prob.diff</th><th scope=col>sd</th><th scope=col>se</th><th scope=col>ci</th></tr>\n",
       "\t<tr><th scope=col>&lt;ord&gt;</th><th scope=col>&lt;ord&gt;</th><th scope=col>&lt;dbl&gt;</th><th scope=col>&lt;dbl&gt;</th><th scope=col>&lt;dbl&gt;</th><th scope=col>&lt;dbl&gt;</th><th scope=col>&lt;dbl&gt;</th></tr>\n",
       "</thead>\n",
       "<tbody>\n",
       "\t<tr><td>Asian                 </td><td>ASIAN</td><td>1000</td><td> 0.030422504</td><td>0.0022499777</td><td>7.115054e-05</td><td>0.004409956</td></tr>\n",
       "\t<tr><td>Asian                 </td><td>BLACK</td><td>1000</td><td>-0.014477806</td><td>0.0019637279</td><td>6.209853e-05</td><td>0.003848907</td></tr>\n",
       "\t<tr><td>Asian                 </td><td>WHITE</td><td>1000</td><td>-0.015944697</td><td>0.0025945061</td><td>8.204549e-05</td><td>0.005085232</td></tr>\n",
       "\t<tr><td>Black                 </td><td>ASIAN</td><td>1000</td><td>-0.005940223</td><td>0.0020226090</td><td>6.396051e-05</td><td>0.003964314</td></tr>\n",
       "\t<tr><td>Black                 </td><td>BLACK</td><td>1000</td><td> 0.052389903</td><td>0.0018213345</td><td>5.759565e-05</td><td>0.003569816</td></tr>\n",
       "\t<tr><td>Black                 </td><td>WHITE</td><td>1000</td><td>-0.046449680</td><td>0.0023855298</td><td>7.543708e-05</td><td>0.004675638</td></tr>\n",
       "\t<tr><td>Racially\n",
       "Unidentified</td><td>ASIAN</td><td>1000</td><td>-0.003357484</td><td>0.0017590463</td><td>5.562593e-05</td><td>0.003447731</td></tr>\n",
       "\t<tr><td>Racially\n",
       "Unidentified</td><td>BLACK</td><td>1000</td><td> 0.006934492</td><td>0.0015804559</td><td>4.997840e-05</td><td>0.003097693</td></tr>\n",
       "\t<tr><td>Racially\n",
       "Unidentified</td><td>WHITE</td><td>1000</td><td>-0.003577008</td><td>0.0019930933</td><td>6.302715e-05</td><td>0.003906463</td></tr>\n",
       "\t<tr><td>White                 </td><td>ASIAN</td><td>1000</td><td>-0.006632177</td><td>0.0011382474</td><td>3.599454e-05</td><td>0.002230965</td></tr>\n",
       "\t<tr><td>White                 </td><td>BLACK</td><td>1000</td><td>-0.020807915</td><td>0.0009672596</td><td>3.058743e-05</td><td>0.001895829</td></tr>\n",
       "\t<tr><td>White                 </td><td>WHITE</td><td>1000</td><td> 0.027440092</td><td>0.0013058704</td><td>4.129525e-05</td><td>0.002559506</td></tr>\n",
       "</tbody>\n",
       "</table>\n"
      ],
      "text/latex": [
       "A data.frame: 12 × 7\n",
       "\\begin{tabular}{lllllll}\n",
       " h.ethnicity & g.ethnicity & N & prob.diff & sd & se & ci\\\\\n",
       " <ord> & <ord> & <dbl> & <dbl> & <dbl> & <dbl> & <dbl>\\\\\n",
       "\\hline\n",
       "\t Asian                  & ASIAN & 1000 &  0.030422504 & 0.0022499777 & 7.115054e-05 & 0.004409956\\\\\n",
       "\t Asian                  & BLACK & 1000 & -0.014477806 & 0.0019637279 & 6.209853e-05 & 0.003848907\\\\\n",
       "\t Asian                  & WHITE & 1000 & -0.015944697 & 0.0025945061 & 8.204549e-05 & 0.005085232\\\\\n",
       "\t Black                  & ASIAN & 1000 & -0.005940223 & 0.0020226090 & 6.396051e-05 & 0.003964314\\\\\n",
       "\t Black                  & BLACK & 1000 &  0.052389903 & 0.0018213345 & 5.759565e-05 & 0.003569816\\\\\n",
       "\t Black                  & WHITE & 1000 & -0.046449680 & 0.0023855298 & 7.543708e-05 & 0.004675638\\\\\n",
       "\t Racially\n",
       "Unidentified & ASIAN & 1000 & -0.003357484 & 0.0017590463 & 5.562593e-05 & 0.003447731\\\\\n",
       "\t Racially\n",
       "Unidentified & BLACK & 1000 &  0.006934492 & 0.0015804559 & 4.997840e-05 & 0.003097693\\\\\n",
       "\t Racially\n",
       "Unidentified & WHITE & 1000 & -0.003577008 & 0.0019930933 & 6.302715e-05 & 0.003906463\\\\\n",
       "\t White                  & ASIAN & 1000 & -0.006632177 & 0.0011382474 & 3.599454e-05 & 0.002230965\\\\\n",
       "\t White                  & BLACK & 1000 & -0.020807915 & 0.0009672596 & 3.058743e-05 & 0.001895829\\\\\n",
       "\t White                  & WHITE & 1000 &  0.027440092 & 0.0013058704 & 4.129525e-05 & 0.002559506\\\\\n",
       "\\end{tabular}\n"
      ],
      "text/markdown": [
       "\n",
       "A data.frame: 12 × 7\n",
       "\n",
       "| h.ethnicity &lt;ord&gt; | g.ethnicity &lt;ord&gt; | N &lt;dbl&gt; | prob.diff &lt;dbl&gt; | sd &lt;dbl&gt; | se &lt;dbl&gt; | ci &lt;dbl&gt; |\n",
       "|---|---|---|---|---|---|---|\n",
       "| Asian                  | ASIAN | 1000 |  0.030422504 | 0.0022499777 | 7.115054e-05 | 0.004409956 |\n",
       "| Asian                  | BLACK | 1000 | -0.014477806 | 0.0019637279 | 6.209853e-05 | 0.003848907 |\n",
       "| Asian                  | WHITE | 1000 | -0.015944697 | 0.0025945061 | 8.204549e-05 | 0.005085232 |\n",
       "| Black                  | ASIAN | 1000 | -0.005940223 | 0.0020226090 | 6.396051e-05 | 0.003964314 |\n",
       "| Black                  | BLACK | 1000 |  0.052389903 | 0.0018213345 | 5.759565e-05 | 0.003569816 |\n",
       "| Black                  | WHITE | 1000 | -0.046449680 | 0.0023855298 | 7.543708e-05 | 0.004675638 |\n",
       "| Racially\n",
       "Unidentified | ASIAN | 1000 | -0.003357484 | 0.0017590463 | 5.562593e-05 | 0.003447731 |\n",
       "| Racially\n",
       "Unidentified | BLACK | 1000 |  0.006934492 | 0.0015804559 | 4.997840e-05 | 0.003097693 |\n",
       "| Racially\n",
       "Unidentified | WHITE | 1000 | -0.003577008 | 0.0019930933 | 6.302715e-05 | 0.003906463 |\n",
       "| White                  | ASIAN | 1000 | -0.006632177 | 0.0011382474 | 3.599454e-05 | 0.002230965 |\n",
       "| White                  | BLACK | 1000 | -0.020807915 | 0.0009672596 | 3.058743e-05 | 0.001895829 |\n",
       "| White                  | WHITE | 1000 |  0.027440092 | 0.0013058704 | 4.129525e-05 | 0.002559506 |\n",
       "\n"
      ],
      "text/plain": [
       "   h.ethnicity            g.ethnicity N    prob.diff    sd          \n",
       "1  Asian                  ASIAN       1000  0.030422504 0.0022499777\n",
       "2  Asian                  BLACK       1000 -0.014477806 0.0019637279\n",
       "3  Asian                  WHITE       1000 -0.015944697 0.0025945061\n",
       "4  Black                  ASIAN       1000 -0.005940223 0.0020226090\n",
       "5  Black                  BLACK       1000  0.052389903 0.0018213345\n",
       "6  Black                  WHITE       1000 -0.046449680 0.0023855298\n",
       "7  Racially\\nUnidentified ASIAN       1000 -0.003357484 0.0017590463\n",
       "8  Racially\\nUnidentified BLACK       1000  0.006934492 0.0015804559\n",
       "9  Racially\\nUnidentified WHITE       1000 -0.003577008 0.0019930933\n",
       "10 White                  ASIAN       1000 -0.006632177 0.0011382474\n",
       "11 White                  BLACK       1000 -0.020807915 0.0009672596\n",
       "12 White                  WHITE       1000  0.027440092 0.0013058704\n",
       "   se           ci         \n",
       "1  7.115054e-05 0.004409956\n",
       "2  6.209853e-05 0.003848907\n",
       "3  8.204549e-05 0.005085232\n",
       "4  6.396051e-05 0.003964314\n",
       "5  5.759565e-05 0.003569816\n",
       "6  7.543708e-05 0.004675638\n",
       "7  5.562593e-05 0.003447731\n",
       "8  4.997840e-05 0.003097693\n",
       "9  6.302715e-05 0.003906463\n",
       "10 3.599454e-05 0.002230965\n",
       "11 3.058743e-05 0.001895829\n",
       "12 4.129525e-05 0.002559506"
      ]
     },
     "metadata": {},
     "output_type": "display_data"
    }
   ],
   "source": [
    "summary.pairing.prob.diff"
   ]
  },
  {
   "cell_type": "code",
   "execution_count": 34,
   "metadata": {},
   "outputs": [
    {
     "data": {
      "text/html": [
       "<strong>pdf:</strong> 2"
      ],
      "text/latex": [
       "\\textbf{pdf:} 2"
      ],
      "text/markdown": [
       "**pdf:** 2"
      ],
      "text/plain": [
       "pdf \n",
       "  2 "
      ]
     },
     "metadata": {},
     "output_type": "display_data"
    }
   ],
   "source": [
    "l_guest.race.label=c(\n",
    "    \"BLACK\"=\"Black Guest\",\n",
    "    \"WHITE\"=\"White Guest\",\n",
    "    \"ASIAN\"=\"Asian Guest\")\n",
    "\n",
    "dodge=position_dodge(width=0.5)\n",
    "pdf(\"../output/fig_1.pdf\", width=7.5, height=5)\n",
    "g = ggplot(summary.pairing.prob.diff, aes(x=h.ethnicity, y=prob.diff)) + \n",
    "  xlab(\"Host Race\") + \n",
    "  ylab(\"Pairing Probability Compared to Random\") +\n",
    "  geom_point(position=dodge, size=2.5) +\n",
    "  geom_errorbar(aes(ymin=prob.diff-ci, ymax=prob.diff+ci),\n",
    "                size=0.75, width=0.15, position=dodge) +\n",
    "  scale_y_continuous(limits=c(-0.06,0.06), expand=c(0,0), breaks=seq(-0.06,0.06,0.03),\n",
    "                     labels=seq(-0.06,0.06,0.03)) +\n",
    "  facet_grid(~g.ethnicity, margins=FALSE, switch=\"y\",\n",
    "             labeller=as_labeller(l_guest.race.label)) + theme_classic() +\n",
    "  theme(panel.border=element_rect(fill=NA, size=0.3),\n",
    "        panel.grid.major=element_blank(),\n",
    "        axis.text.x=element_text(angle=45, hjust=1)) +\n",
    "  geom_hline(yintercept=0, linetype=\"dashed\", color=\"#D55E00\") +\n",
    "  scale_color_grey(start=0.5, end=0.5) + theme(text=element_text(size=15))\n",
    "plot(g)\n",
    "dev.off()"
   ]
  },
  {
   "cell_type": "code",
   "execution_count": 35,
   "metadata": {},
   "outputs": [
    {
     "data": {
      "image/png": "[encoded data removed]",
      "text/plain": [
       "plot without title"
      ]
     },
     "metadata": {
      "image/png": {
       "height": 420,
       "width": 420
      }
     },
     "output_type": "display_data"
    }
   ],
   "source": [
    "g"
   ]
  },
  {
   "cell_type": "markdown",
   "metadata": {},
   "source": [
    "# ----------------------------------------------------------------------------------------"
   ]
  },
  {
   "cell_type": "markdown",
   "metadata": {},
   "source": [
    "# The same analysis with another approach\n",
    "\n",
    "- Throughout all the analyses reported in the paper, we used above method to compute the normed probabilities. Using this approach, we could check more details of the distributional information for each shuffling iteration.\n",
    "- However, there are other simpler ways to do the same job. The below is an example, which is much faster and easier to implement!\n",
    "- We confirm that the results are identical, obviously."
   ]
  },
  {
   "cell_type": "code",
   "execution_count": 36,
   "metadata": {},
   "outputs": [],
   "source": [
    "df.tmp.obs=df[, c(\"h.ethnicity\", \"g.ethnicity\"), with=FALSE]"
   ]
  },
  {
   "cell_type": "code",
   "execution_count": 37,
   "metadata": {},
   "outputs": [
    {
     "data": {
      "text/html": [
       "<table class=\"dataframe\">\n",
       "<caption>A data.frame: 12 × 3</caption>\n",
       "<thead>\n",
       "\t<tr><th scope=col>h.ethnicity</th><th scope=col>g.ethnicity</th><th scope=col>Freq</th></tr>\n",
       "\t<tr><th scope=col>&lt;fct&gt;</th><th scope=col>&lt;fct&gt;</th><th scope=col>&lt;dbl&gt;</th></tr>\n",
       "</thead>\n",
       "<tbody>\n",
       "\t<tr><td>ASIAN</td><td>ASIAN</td><td>0.2694236</td></tr>\n",
       "\t<tr><td>BLACK</td><td>ASIAN</td><td>0.2327399</td></tr>\n",
       "\t<tr><td>RA   </td><td>ASIAN</td><td>0.2353811</td></tr>\n",
       "\t<tr><td>WHITE</td><td>ASIAN</td><td>0.2320276</td></tr>\n",
       "\t<tr><td>ASIAN</td><td>BLACK</td><td>0.1495185</td></tr>\n",
       "\t<tr><td>BLACK</td><td>BLACK</td><td>0.2165508</td></tr>\n",
       "\t<tr><td>RA   </td><td>BLACK</td><td>0.1709928</td></tr>\n",
       "\t<tr><td>WHITE</td><td>BLACK</td><td>0.1433045</td></tr>\n",
       "\t<tr><td>ASIAN</td><td>WHITE</td><td>0.5810579</td></tr>\n",
       "\t<tr><td>BLACK</td><td>WHITE</td><td>0.5507093</td></tr>\n",
       "\t<tr><td>RA   </td><td>WHITE</td><td>0.5936261</td></tr>\n",
       "\t<tr><td>WHITE</td><td>WHITE</td><td>0.6246678</td></tr>\n",
       "</tbody>\n",
       "</table>\n"
      ],
      "text/latex": [
       "A data.frame: 12 × 3\n",
       "\\begin{tabular}{lll}\n",
       " h.ethnicity & g.ethnicity & Freq\\\\\n",
       " <fct> & <fct> & <dbl>\\\\\n",
       "\\hline\n",
       "\t ASIAN & ASIAN & 0.2694236\\\\\n",
       "\t BLACK & ASIAN & 0.2327399\\\\\n",
       "\t RA    & ASIAN & 0.2353811\\\\\n",
       "\t WHITE & ASIAN & 0.2320276\\\\\n",
       "\t ASIAN & BLACK & 0.1495185\\\\\n",
       "\t BLACK & BLACK & 0.2165508\\\\\n",
       "\t RA    & BLACK & 0.1709928\\\\\n",
       "\t WHITE & BLACK & 0.1433045\\\\\n",
       "\t ASIAN & WHITE & 0.5810579\\\\\n",
       "\t BLACK & WHITE & 0.5507093\\\\\n",
       "\t RA    & WHITE & 0.5936261\\\\\n",
       "\t WHITE & WHITE & 0.6246678\\\\\n",
       "\\end{tabular}\n"
      ],
      "text/markdown": [
       "\n",
       "A data.frame: 12 × 3\n",
       "\n",
       "| h.ethnicity &lt;fct&gt; | g.ethnicity &lt;fct&gt; | Freq &lt;dbl&gt; |\n",
       "|---|---|---|\n",
       "| ASIAN | ASIAN | 0.2694236 |\n",
       "| BLACK | ASIAN | 0.2327399 |\n",
       "| RA    | ASIAN | 0.2353811 |\n",
       "| WHITE | ASIAN | 0.2320276 |\n",
       "| ASIAN | BLACK | 0.1495185 |\n",
       "| BLACK | BLACK | 0.2165508 |\n",
       "| RA    | BLACK | 0.1709928 |\n",
       "| WHITE | BLACK | 0.1433045 |\n",
       "| ASIAN | WHITE | 0.5810579 |\n",
       "| BLACK | WHITE | 0.5507093 |\n",
       "| RA    | WHITE | 0.5936261 |\n",
       "| WHITE | WHITE | 0.6246678 |\n",
       "\n"
      ],
      "text/plain": [
       "   h.ethnicity g.ethnicity Freq     \n",
       "1  ASIAN       ASIAN       0.2694236\n",
       "2  BLACK       ASIAN       0.2327399\n",
       "3  RA          ASIAN       0.2353811\n",
       "4  WHITE       ASIAN       0.2320276\n",
       "5  ASIAN       BLACK       0.1495185\n",
       "6  BLACK       BLACK       0.2165508\n",
       "7  RA          BLACK       0.1709928\n",
       "8  WHITE       BLACK       0.1433045\n",
       "9  ASIAN       WHITE       0.5810579\n",
       "10 BLACK       WHITE       0.5507093\n",
       "11 RA          WHITE       0.5936261\n",
       "12 WHITE       WHITE       0.6246678"
      ]
     },
     "metadata": {},
     "output_type": "display_data"
    }
   ],
   "source": [
    "t_obs=table(df.tmp.obs)\n",
    "t_obs_prob=t(apply(t_obs, 1, function(x) x/sum(x)))\n",
    "t_obs_prob=as.data.frame(as.table(t_obs_prob))\n",
    "t_obs_prob"
   ]
  },
  {
   "cell_type": "code",
   "execution_count": 38,
   "metadata": {},
   "outputs": [
    {
     "data": {
      "text/html": [
       "<table class=\"dataframe\">\n",
       "<caption>A data.frame: 12 × 3</caption>\n",
       "<thead>\n",
       "\t<tr><th scope=col>h.ethnicity</th><th scope=col>g.ethnicity</th><th scope=col>Freq</th></tr>\n",
       "\t<tr><th scope=col>&lt;fct&gt;</th><th scope=col>&lt;fct&gt;</th><th scope=col>&lt;dbl&gt;</th></tr>\n",
       "</thead>\n",
       "<tbody>\n",
       "\t<tr><td>ASIAN</td><td>ASIAN</td><td>0.2366113</td></tr>\n",
       "\t<tr><td>BLACK</td><td>ASIAN</td><td>0.2346036</td></tr>\n",
       "\t<tr><td>RA   </td><td>ASIAN</td><td>0.2410920</td></tr>\n",
       "\t<tr><td>WHITE</td><td>ASIAN</td><td>0.2400114</td></tr>\n",
       "\t<tr><td>ASIAN</td><td>BLACK</td><td>0.1639955</td></tr>\n",
       "\t<tr><td>BLACK</td><td>BLACK</td><td>0.1657302</td></tr>\n",
       "\t<tr><td>RA   </td><td>BLACK</td><td>0.1656178</td></tr>\n",
       "\t<tr><td>WHITE</td><td>BLACK</td><td>0.1626174</td></tr>\n",
       "\t<tr><td>ASIAN</td><td>WHITE</td><td>0.5993932</td></tr>\n",
       "\t<tr><td>BLACK</td><td>WHITE</td><td>0.5996662</td></tr>\n",
       "\t<tr><td>RA   </td><td>WHITE</td><td>0.5932902</td></tr>\n",
       "\t<tr><td>WHITE</td><td>WHITE</td><td>0.5973712</td></tr>\n",
       "</tbody>\n",
       "</table>\n"
      ],
      "text/latex": [
       "A data.frame: 12 × 3\n",
       "\\begin{tabular}{lll}\n",
       " h.ethnicity & g.ethnicity & Freq\\\\\n",
       " <fct> & <fct> & <dbl>\\\\\n",
       "\\hline\n",
       "\t ASIAN & ASIAN & 0.2366113\\\\\n",
       "\t BLACK & ASIAN & 0.2346036\\\\\n",
       "\t RA    & ASIAN & 0.2410920\\\\\n",
       "\t WHITE & ASIAN & 0.2400114\\\\\n",
       "\t ASIAN & BLACK & 0.1639955\\\\\n",
       "\t BLACK & BLACK & 0.1657302\\\\\n",
       "\t RA    & BLACK & 0.1656178\\\\\n",
       "\t WHITE & BLACK & 0.1626174\\\\\n",
       "\t ASIAN & WHITE & 0.5993932\\\\\n",
       "\t BLACK & WHITE & 0.5996662\\\\\n",
       "\t RA    & WHITE & 0.5932902\\\\\n",
       "\t WHITE & WHITE & 0.5973712\\\\\n",
       "\\end{tabular}\n"
      ],
      "text/markdown": [
       "\n",
       "A data.frame: 12 × 3\n",
       "\n",
       "| h.ethnicity &lt;fct&gt; | g.ethnicity &lt;fct&gt; | Freq &lt;dbl&gt; |\n",
       "|---|---|---|\n",
       "| ASIAN | ASIAN | 0.2366113 |\n",
       "| BLACK | ASIAN | 0.2346036 |\n",
       "| RA    | ASIAN | 0.2410920 |\n",
       "| WHITE | ASIAN | 0.2400114 |\n",
       "| ASIAN | BLACK | 0.1639955 |\n",
       "| BLACK | BLACK | 0.1657302 |\n",
       "| RA    | BLACK | 0.1656178 |\n",
       "| WHITE | BLACK | 0.1626174 |\n",
       "| ASIAN | WHITE | 0.5993932 |\n",
       "| BLACK | WHITE | 0.5996662 |\n",
       "| RA    | WHITE | 0.5932902 |\n",
       "| WHITE | WHITE | 0.5973712 |\n",
       "\n"
      ],
      "text/plain": [
       "   h.ethnicity g.ethnicity Freq     \n",
       "1  ASIAN       ASIAN       0.2366113\n",
       "2  BLACK       ASIAN       0.2346036\n",
       "3  RA          ASIAN       0.2410920\n",
       "4  WHITE       ASIAN       0.2400114\n",
       "5  ASIAN       BLACK       0.1639955\n",
       "6  BLACK       BLACK       0.1657302\n",
       "7  RA          BLACK       0.1656178\n",
       "8  WHITE       BLACK       0.1626174\n",
       "9  ASIAN       WHITE       0.5993932\n",
       "10 BLACK       WHITE       0.5996662\n",
       "11 RA          WHITE       0.5932902\n",
       "12 WHITE       WHITE       0.5973712"
      ]
     },
     "metadata": {},
     "output_type": "display_data"
    }
   ],
   "source": [
    "df.tmp=df.tmp.obs\n",
    "df.tmp$g.ethnicity=df.tmp[sample(nrow(df.tmp), replace=FALSE),]$g.ethnicity\n",
    "t_rnd=table(df.tmp)\n",
    "t_rnd_prob=t(apply(t_rnd, 1, function(x) x/sum(x)))\n",
    "t_rnd_prob=as.data.frame(as.table(t_rnd_prob))\n",
    "t_rnd_prob"
   ]
  },
  {
   "cell_type": "code",
   "execution_count": 39,
   "metadata": {},
   "outputs": [
    {
     "data": {
      "text/plain": [
       "Time difference of 44.78364 secs"
      ]
     },
     "metadata": {},
     "output_type": "display_data"
    }
   ],
   "source": [
    "t_obs=table(df.tmp.obs)\n",
    "t_obs_prob=t(apply(t_obs, 1, function(x) x/sum(x)))\n",
    "t_obs_prob=as.data.frame(as.table(t_obs_prob))\n",
    "summary.pairing.prob.obs=t_obs_prob\n",
    "\n",
    "df.tmp.rnd=df.tmp.obs\n",
    "\n",
    "#-Permutate g.ethnicity for n times to create a random baseline\n",
    "#-to compare the difference between obeservations and random chances\n",
    "#-as well as to create standard errors... .\n",
    "\n",
    "start_time=Sys.time()\n",
    "\n",
    "shuffle_time=1000\n",
    "l_diff=list()\n",
    "for(x in 1:shuffle_time){\n",
    "    df.tmp=df.tmp.rnd\n",
    "    df.tmp$g.ethnicity=df.tmp.rnd[sample(nrow(df.tmp.rnd), replace=FALSE),]$g.ethnicity\n",
    "    t_rnd=table(df.tmp)\n",
    "    t_rnd_prob=t(apply(t_rnd, 1, function(x) x/sum(x)))\n",
    "    t_rnd_prob=as.data.frame(as.table(t_rnd_prob))\n",
    "    df.tmp.pairing.prob.obs=t_rnd_prob\n",
    "                       \n",
    "    df.tmp.diff=df.tmp.pairing.prob.obs[,1:2]\n",
    "    df.tmp.diff$prob.diff=summary.pairing.prob.obs$Freq - df.tmp.pairing.prob.obs$Freq\n",
    "    l_diff[[paste(\"obs.rnd.diff\", x, sep=\".\")]]=df.tmp.diff\n",
    "}\n",
    "\n",
    "df.pairing.prob.diff=do.call(rbind.data.frame, l_diff)\n",
    "\n",
    "end_time=Sys.time()\n",
    "end_time - start_time"
   ]
  },
  {
   "cell_type": "code",
   "execution_count": 40,
   "metadata": {},
   "outputs": [],
   "source": [
    "summary.pairing.prob.diff=summarySE(df.pairing.prob.diff, measurevar=\"prob.diff\",\n",
    "                                    groupvars=c(\"h.ethnicity\", \"g.ethnicity\"))\n",
    "\n",
    "summary.pairing.prob.diff$ci=summary.pairing.prob.diff$sd*1.96\n",
    "\n",
    "re_from=\"\\\\b([[:alpha:]])([[:alpha:]]+)\"\n",
    "summary.pairing.prob.diff$h.ethnicity=gsub(re_from, \"\\\\U\\\\1\\\\L\\\\2\", summary.pairing.prob.diff$h.ethnicity, perl=TRUE)\n",
    "\n",
    "summary.pairing.prob.diff$h.ethnicity=ifelse(summary.pairing.prob.diff$h.ethnicity==\"Ra\",\n",
    "                                             \"Racially\\nUnidentified\", summary.pairing.prob.diff$h.ethnicity)\n",
    "\n",
    "summary.pairing.prob.diff$h.ethnicity=factor(summary.pairing.prob.diff$h.ethnicity,\n",
    "                                             levels=c(\"Racially\\nUnidentified\",\"White\",\"Asian\",\"Black\"),\n",
    "                                             ordered=TRUE)\n",
    "\n",
    "summary.pairing.prob.diff$g.ethnicity=factor(summary.pairing.prob.diff$g.ethnicity,\n",
    "                                             levels=c(\"WHITE\",\"ASIAN\",\"BLACK\"),\n",
    "                                             ordered=TRUE)"
   ]
  },
  {
   "cell_type": "code",
   "execution_count": 43,
   "metadata": {},
   "outputs": [],
   "source": [
    "l_guest.race.label=c(\n",
    "    \"BLACK\"=\"Black Guest\",\n",
    "    \"WHITE\"=\"White Guest\",\n",
    "    \"ASIAN\"=\"Asian Guest\")\n",
    "\n",
    "dodge=position_dodge(width=0.5)\n",
    "g = ggplot(summary.pairing.prob.diff, aes(x=h.ethnicity, y=prob.diff)) + \n",
    "  xlab(\"Host Race\") + \n",
    "  ylab(\"Pairing Probability Compared to Random\") +\n",
    "  geom_point(position=dodge, size=2.5) +\n",
    "  geom_errorbar(aes(ymin=prob.diff-ci, ymax=prob.diff+ci),\n",
    "                size=0.75, width=0.15, position=dodge) +\n",
    "  facet_grid(~g.ethnicity, margins=FALSE, switch=\"y\",\n",
    "             labeller=as_labeller(l_guest.race.label)) + theme_classic() +\n",
    "  scale_y_continuous(limits=c(-0.06,0.06), breaks=seq(-0.06,0.06,0.02),\n",
    "                     labels=c(seq(-0.06,0.06,0.02))) +\n",
    "  theme(panel.border=element_rect(fill=NA, size=0.3),\n",
    "        panel.grid.major=element_blank(),\n",
    "        axis.text.x=element_text(angle=90, hjust=1, vjust=0.4)) +\n",
    "  geom_hline(yintercept=0, linetype=\"dashed\", color=\"#D55E00\") +\n",
    "  scale_color_grey(start=0.5, end=0.5) + theme(text=element_text(size=15))"
   ]
  },
  {
   "cell_type": "code",
   "execution_count": 44,
   "metadata": {},
   "outputs": [
    {
     "data": {
      "image/png": "[encoded data removed]",
      "text/plain": [
       "plot without title"
      ]
     },
     "metadata": {
      "image/png": {
       "height": 420,
       "width": 420
      }
     },
     "output_type": "display_data"
    }
   ],
   "source": [
    "g"
   ]
  }
 ],
 "metadata": {
  "kernelspec": {
   "display_name": "R",
   "language": "R",
   "name": "ir"
  },
  "language_info": {
   "codemirror_mode": "r",
   "file_extension": ".r",
   "mimetype": "text/x-r-source",
   "name": "R",
   "pygments_lexer": "r",
   "version": "4.1.2"
  }
 },
 "nbformat": 4,
 "nbformat_minor": 4
}
