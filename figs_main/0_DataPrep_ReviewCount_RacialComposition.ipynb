{
 "cells": [
  {
   "cell_type": "code",
   "execution_count": 2,
   "metadata": {},
   "outputs": [],
   "source": [
    "library(data.table)\n",
    "library(dplyr)\n",
    "library(bit)\n",
    "library(zoo)"
   ]
  },
  {
   "cell_type": "markdown",
   "metadata": {},
   "source": [
    "## REVIEW COUNT-BASED VARIABLES"
   ]
  },
  {
   "cell_type": "markdown",
   "metadata": {},
   "source": [
    "### 1. Read raw data (i.e., reviews)"
   ]
  },
  {
   "cell_type": "code",
   "execution_count": 3,
   "metadata": {},
   "outputs": [],
   "source": [
    "rws=fread(\"../data/rws.all.csv\")"
   ]
  },
  {
   "cell_type": "code",
   "execution_count": 4,
   "metadata": {},
   "outputs": [
    {
     "data": {
      "text/html": [
       "<table class=\"dataframe\">\n",
       "<caption>A data.frame: 1 × 3</caption>\n",
       "<thead>\n",
       "\t<tr><th scope=col>host.cnt</th><th scope=col>guest.cnt</th><th scope=col>ls.cnt</th></tr>\n",
       "\t<tr><th scope=col>&lt;int&gt;</th><th scope=col>&lt;int&gt;</th><th scope=col>&lt;int&gt;</th></tr>\n",
       "</thead>\n",
       "<tbody>\n",
       "\t<tr><td>31492</td><td>876221</td><td>39322</td></tr>\n",
       "</tbody>\n",
       "</table>\n"
      ],
      "text/latex": [
       "A data.frame: 1 × 3\n",
       "\\begin{tabular}{lll}\n",
       " host.cnt & guest.cnt & ls.cnt\\\\\n",
       " <int> & <int> & <int>\\\\\n",
       "\\hline\n",
       "\t 31492 & 876221 & 39322\\\\\n",
       "\\end{tabular}\n"
      ],
      "text/markdown": [
       "\n",
       "A data.frame: 1 × 3\n",
       "\n",
       "| host.cnt &lt;int&gt; | guest.cnt &lt;int&gt; | ls.cnt &lt;int&gt; |\n",
       "|---|---|---|\n",
       "| 31492 | 876221 | 39322 |\n",
       "\n"
      ],
      "text/plain": [
       "  host.cnt guest.cnt ls.cnt\n",
       "1 31492    876221    39322 "
      ]
     },
     "metadata": {},
     "output_type": "display_data"
    },
    {
     "data": {
      "text/html": [
       "<table class=\"dataframe\">\n",
       "<caption>A tibble: 2 × 5</caption>\n",
       "<thead>\n",
       "\t<tr><th scope=col>instant_bookable</th><th scope=col>ls.cnt</th><th scope=col>host.cnt</th><th scope=col>rws.cnt</th><th scope=col>guest.cnt</th></tr>\n",
       "\t<tr><th scope=col>&lt;chr&gt;</th><th scope=col>&lt;int&gt;</th><th scope=col>&lt;int&gt;</th><th scope=col>&lt;int&gt;</th><th scope=col>&lt;int&gt;</th></tr>\n",
       "</thead>\n",
       "<tbody>\n",
       "\t<tr><td>f</td><td>25846</td><td>21842</td><td>600190</td><td>544136</td></tr>\n",
       "\t<tr><td>t</td><td>13476</td><td>11449</td><td>382973</td><td>366686</td></tr>\n",
       "</tbody>\n",
       "</table>\n"
      ],
      "text/latex": [
       "A tibble: 2 × 5\n",
       "\\begin{tabular}{lllll}\n",
       " instant\\_bookable & ls.cnt & host.cnt & rws.cnt & guest.cnt\\\\\n",
       " <chr> & <int> & <int> & <int> & <int>\\\\\n",
       "\\hline\n",
       "\t f & 25846 & 21842 & 600190 & 544136\\\\\n",
       "\t t & 13476 & 11449 & 382973 & 366686\\\\\n",
       "\\end{tabular}\n"
      ],
      "text/markdown": [
       "\n",
       "A tibble: 2 × 5\n",
       "\n",
       "| instant_bookable &lt;chr&gt; | ls.cnt &lt;int&gt; | host.cnt &lt;int&gt; | rws.cnt &lt;int&gt; | guest.cnt &lt;int&gt; |\n",
       "|---|---|---|---|---|\n",
       "| f | 25846 | 21842 | 600190 | 544136 |\n",
       "| t | 13476 | 11449 | 382973 | 366686 |\n",
       "\n"
      ],
      "text/plain": [
       "  instant_bookable ls.cnt host.cnt rws.cnt guest.cnt\n",
       "1 f                25846  21842    600190  544136   \n",
       "2 t                13476  11449    382973  366686   "
      ]
     },
     "metadata": {},
     "output_type": "display_data"
    }
   ],
   "source": [
    "rws %>% summarise(host.cnt=n_distinct(host_id),\n",
    "                  guest.cnt=n_distinct(guest_id),\n",
    "                  ls.cnt=n_distinct(listing_id))\n",
    "\n",
    "rws %>% group_by(instant_bookable) %>% \n",
    "    summarise(ls.cnt=n_distinct(listing_id),\n",
    "              host.cnt=n_distinct(host_id),\n",
    "              rws.cnt=n_distinct(id),\n",
    "              guest.cnt=n_distinct(guest_id))"
   ]
  },
  {
   "cell_type": "markdown",
   "metadata": {},
   "source": [
    "### 2. Read facial attributes for both hosts and guests and merge those attributes with the review data"
   ]
  },
  {
   "cell_type": "code",
   "execution_count": 5,
   "metadata": {},
   "outputs": [],
   "source": [
    "guest=fread(\"../data/guest.attribute.csv\")\n",
    "colnames(guest)[c(5,8)]=c(\"g.num_face\",\"g.ethnicity\")\n",
    "guest=guest[,c(\"guest_id\",\"g.num_face\",\"g.ethnicity\")]\n",
    "rws.gh=left_join(rws,guest, by=\"guest_id\")"
   ]
  },
  {
   "cell_type": "code",
   "execution_count": 6,
   "metadata": {},
   "outputs": [],
   "source": [
    "host=fread(\"../data/host.attribute.csv\")\n",
    "colnames(host)[c(5,8)]=c(\"h.num_face\",\"h.ethnicity\")\n",
    "host=host[,c(\"listing_id\",\"host_id\",\"h.num_face\",\"h.ethnicity\")]\n",
    "rws.gh=left_join(rws.gh,host, by=c(\"listing_id\",\"host_id\"))"
   ]
  },
  {
   "cell_type": "code",
   "execution_count": 7,
   "metadata": {},
   "outputs": [
    {
     "data": {
      "text/html": [
       "18.4819634902612"
      ],
      "text/latex": [
       "18.4819634902612"
      ],
      "text/markdown": [
       "18.4819634902612"
      ],
      "text/plain": [
       "[1] 18.48196"
      ]
     },
     "metadata": {},
     "output_type": "display_data"
    },
    {
     "data": {
      "text/html": [
       "11.4333129530963"
      ],
      "text/latex": [
       "11.4333129530963"
      ],
      "text/markdown": [
       "11.4333129530963"
      ],
      "text/plain": [
       "[1] 11.43331"
      ]
     },
     "metadata": {},
     "output_type": "display_data"
    },
    {
     "data": {
      "text/html": [
       "7.43606246216109"
      ],
      "text/latex": [
       "7.43606246216109"
      ],
      "text/markdown": [
       "7.43606246216109"
      ],
      "text/plain": [
       "[1] 7.436062"
      ]
     },
     "metadata": {},
     "output_type": "display_data"
    },
    {
     "data": {
      "text/html": [
       "21.2061545845764"
      ],
      "text/latex": [
       "21.2061545845764"
      ],
      "text/markdown": [
       "21.2061545845764"
      ],
      "text/plain": [
       "[1] 21.20615"
      ]
     },
     "metadata": {},
     "output_type": "display_data"
    }
   ],
   "source": [
    "rws.gh.t=rws.gh[which(rws.gh$instant_bookable==\"t\"),]\n",
    "\n",
    "host.ins=rws.gh.t[!duplicated(rws.gh.t$host_id),]\n",
    "# % of host profiles with no face: 18.482%\n",
    "nrow(host.ins[host.ins$h.num_face==0,])/nrow(host.ins)*100\n",
    "# % of host profiles with more than one face: 11.433%\n",
    "nrow(host.ins[host.ins$h.num_face>1,])/nrow(host.ins)*100\n",
    "\n",
    "guest.ins=rws.gh.t[!duplicated(rws.gh.t$guest_id),]\n",
    "# % of guest profiles with no face: 7.436%\n",
    "nrow(guest.ins[guest.ins$g.num_face==0,])/nrow(guest.ins)*100\n",
    "# % of guest profiles with more than one face: 21.206%\n",
    "nrow(guest.ins[guest.ins$g.num_face>1,])/nrow(guest.ins)*100"
   ]
  },
  {
   "cell_type": "markdown",
   "metadata": {},
   "source": [
    "### 3. Take those with only one face in the profile photo"
   ]
  },
  {
   "cell_type": "code",
   "execution_count": 8,
   "metadata": {},
   "outputs": [],
   "source": [
    "rws.gh=rws.gh[rws.gh$g.ethnicity!=\"\",]\n",
    "rws.gh=rws.gh[rws.gh$h.ethnicity!=\"\",]"
   ]
  },
  {
   "cell_type": "code",
   "execution_count": 9,
   "metadata": {},
   "outputs": [
    {
     "data": {
      "text/html": [
       "1"
      ],
      "text/latex": [
       "1"
      ],
      "text/markdown": [
       "1"
      ],
      "text/plain": [
       "[1] 1"
      ]
     },
     "metadata": {},
     "output_type": "display_data"
    }
   ],
   "source": [
    "unique(rws.gh$h.num_face)"
   ]
  },
  {
   "cell_type": "code",
   "execution_count": 10,
   "metadata": {},
   "outputs": [
    {
     "data": {
      "text/plain": [
       "\n",
       "   ASIAN    BLACK    WHITE \n",
       "21.06643 20.92760 58.00596 "
      ]
     },
     "metadata": {},
     "output_type": "display_data"
    },
    {
     "data": {
      "text/plain": [
       "\n",
       "   ASIAN    BLACK    WHITE \n",
       "23.48034 15.98534 60.53432 "
      ]
     },
     "metadata": {},
     "output_type": "display_data"
    }
   ],
   "source": [
    "host.ins=rws.gh[!duplicated(rws.gh$host_id),]\n",
    "table(host.ins$h.ethnicity)/nrow(host.ins)*100\n",
    "# ASIAN    BLACK    WHITE \n",
    "# 21.066   20.928   58.006 \n",
    "guest.ins=rws.gh[!duplicated(rws.gh$guest_id),]\n",
    "table(guest.ins$g.ethnicity)/nrow(guest.ins)*100\n",
    "# ASIAN    BLACK    WHITE \n",
    "# 23.480   15.985   60.534 "
   ]
  },
  {
   "cell_type": "markdown",
   "metadata": {},
   "source": [
    "### 4. Merge with listing vars\n",
    "\n",
    "#### 4.1. Read listing data"
   ]
  },
  {
   "cell_type": "code",
   "execution_count": 12,
   "metadata": {},
   "outputs": [],
   "source": [
    "ls=fread(\"../data/ls.with.rws.csv\")\n",
    "ls=ls[,c(\"listing_id\",\"price\",\"review_scores_rating\",\"room_type\")]\n",
    "ls$price=as.numeric(gsub('[$,]', '', ls$price))"
   ]
  },
  {
   "cell_type": "markdown",
   "metadata": {},
   "source": [
    "#### 4.2. Merge listing vars with the processed instant booking data"
   ]
  },
  {
   "cell_type": "code",
   "execution_count": 13,
   "metadata": {},
   "outputs": [],
   "source": [
    "rws.gh=left_join(rws.gh,ls, by=\"listing_id\")\n",
    "\n",
    "#-Change the column name\n",
    "colnames(rws.gh)[which(colnames(rws.gh)==\"review_scores_rating\")]=\"rating\""
   ]
  },
  {
   "cell_type": "markdown",
   "metadata": {},
   "source": [
    "#### 4.3 Create a copy of the main data table\n",
    "\n",
    "- Keep the main data table as we will create different versions of data, e.g., whether to include negative endorsements."
   ]
  },
  {
   "cell_type": "code",
   "execution_count": 14,
   "metadata": {},
   "outputs": [],
   "source": [
    "df=rws.gh"
   ]
  },
  {
   "cell_type": "markdown",
   "metadata": {},
   "source": [
    "### 5. Create booking- / staying-level reputation and endorsement signals\n",
    "\n",
    "#### 5.1. Create columns for # of previous reviews and race of previous reviewers for each booking/staying"
   ]
  },
  {
   "cell_type": "code",
   "execution_count": 15,
   "metadata": {},
   "outputs": [],
   "source": [
    "df=df %>% group_by(listing_id) %>% arrange(date) %>%\n",
    "  mutate(cum.cnt=row_number()-1,\n",
    "         rws.race=lag(g.ethnicity, n=1, default = NA))"
   ]
  },
  {
   "cell_type": "markdown",
   "metadata": {},
   "source": [
    "- Regarding **df\\\\$rws.race[which(is.na(df\\\\$rws.race))]**,\n",
    "\n",
    "- Should we need to exclude these guests (who probably the first guests to hosts) in the analysis for the same-race endorsement effects? Only those with at least 6 reviews will be included in the main analysis for the effects of the same-race endorsements!\n",
    "\n",
    "- These guests might be good data points for estimating the baseline homophily/discrimination though! See **../figs_supp/add_supp_baseline-homophily.ipynb** for additional robustness checks of our **Fig. 1**."
   ]
  },
  {
   "cell_type": "markdown",
   "metadata": {},
   "source": [
    "#### 5.2. Count the previous guest race for each booking"
   ]
  },
  {
   "cell_type": "code",
   "execution_count": 16,
   "metadata": {},
   "outputs": [],
   "source": [
    "#-Create column and add counter\n",
    "df$g.W.cnt=ifelse(df$rws.race==\"WHITE\", 1, 0)\n",
    "df$g.B.cnt=ifelse(df$rws.race==\"BLACK\", 1, 0)\n",
    "df$g.A.cnt=ifelse(df$rws.race==\"ASIAN\", 1, 0)"
   ]
  },
  {
   "cell_type": "code",
   "execution_count": 17,
   "metadata": {},
   "outputs": [],
   "source": [
    "#-Sort reviews for each listing by date\n",
    "#-Then roll sum racial compositions in the most recent 6 reviews for each booking\n",
    "#-Note that the most 6 reviews are the proxy of front-page reviews\n",
    "df = df %>% group_by(listing_id) %>% arrange(date) %>%\n",
    "    mutate(top6.W=rollsumr(g.W.cnt==1, 6, fill=NA),\n",
    "           top6.B=rollsumr(g.B.cnt==1, 6, fill=NA),\n",
    "           top6.A=rollsumr(g.A.cnt==1, 6, fill=NA))"
   ]
  },
  {
   "cell_type": "code",
   "execution_count": 18,
   "metadata": {},
   "outputs": [],
   "source": [
    "#-Code the first review's the most recent previous reviewer's race as 0\n",
    "#-and then count all the previous reviewers' races cumulatively\n",
    "df$rws.race[which(is.na(df$rws.race))]=0\n",
    "\n",
    "df = df %>% group_by(listing_id) %>% arrange(date) %>% \n",
    "    mutate(g.W.cnt=cumsum(rws.race==\"WHITE\"),\n",
    "           g.B.cnt=cumsum(rws.race==\"BLACK\"),\n",
    "           g.A.cnt=cumsum(rws.race==\"ASIAN\"))"
   ]
  },
  {
   "cell_type": "markdown",
   "metadata": {},
   "source": [
    "#### 5.3. Compute the proportions of previous reviewers' races and label them into bins in 10% intervals"
   ]
  },
  {
   "cell_type": "code",
   "execution_count": 19,
   "metadata": {},
   "outputs": [
    {
     "data": {
      "text/plain": [
       "\n",
       "  0-10%  10-20%  20-30%  30-40%  40-50%  50-60%  60-70%  70-80%  80-90% 90-100% \n",
       "  12597    2060    8072   16413   27825   69393   81634   52513   20278   23505 "
      ]
     },
     "metadata": {},
     "output_type": "display_data"
    },
    {
     "data": {
      "text/plain": [
       "\n",
       "  0-10%  10-20%  20-30%  30-40%  40-50%  50-60%  60-70%  70-80%  80-90% 90-100% \n",
       " 114002  107299   49977   19161    6982    8651    2755     853     356    4254 "
      ]
     },
     "metadata": {},
     "output_type": "display_data"
    },
    {
     "data": {
      "text/plain": [
       "\n",
       "  0-10%  10-20%  20-30%  30-40%  40-50%  50-60%  60-70%  70-80%  80-90% 90-100% \n",
       "  57156   78215   96400   44407   14422   13108    3966     961     354    5301 "
      ]
     },
     "metadata": {},
     "output_type": "display_data"
    }
   ],
   "source": [
    "df=as.data.table(df)\n",
    "\n",
    "df$prop.W=df$g.W.cnt/df$cum.cnt\n",
    "df$prop.B=df$g.B.cnt/df$cum.cnt\n",
    "df$prop.A=df$g.A.cnt/df$cum.cnt\n",
    "\n",
    "df$prop.W2=NA\n",
    "df$prop.W2=as.character(df$prop.W2)\n",
    "df=df[prop.W <0.1, prop.W2 := \"0-10%\"]\n",
    "df=df[prop.W >=0.1 & prop.W<0.2, prop.W2 := \"10-20%\"]\n",
    "df=df[prop.W >=0.2 & prop.W<0.3, prop.W2 := \"20-30%\"]\n",
    "df=df[prop.W >=0.3 & prop.W<0.4, prop.W2 := \"30-40%\"]\n",
    "df=df[prop.W >=0.4 & prop.W<0.5, prop.W2 := \"40-50%\"]\n",
    "df=df[prop.W >=0.5 & prop.W<0.6, prop.W2 := \"50-60%\"]\n",
    "df=df[prop.W >=0.6 & prop.W<0.7, prop.W2 := \"60-70%\"]\n",
    "df=df[prop.W >=0.7 & prop.W<0.8, prop.W2 := \"70-80%\"]\n",
    "df=df[prop.W >=0.8 & prop.W<0.9, prop.W2 := \"80-90%\"]\n",
    "df=df[prop.W >=0.9,  prop.W2 := \"90-100%\"]\n",
    "table(df$prop.W2)\n",
    "\n",
    "df$prop.B2=NA\n",
    "df$prop.B2=as.character(df$prop.B2)\n",
    "df=df[prop.B <0.1, prop.B2 := \"0-10%\"]\n",
    "df=df[prop.B >=0.1 & prop.B<0.2, prop.B2 := \"10-20%\"]\n",
    "df=df[prop.B >=0.2 & prop.B<0.3, prop.B2 := \"20-30%\"]\n",
    "df=df[prop.B >=0.3 & prop.B<0.4, prop.B2 := \"30-40%\"]\n",
    "df=df[prop.B >=0.4 & prop.B<0.5, prop.B2 := \"40-50%\"]\n",
    "df=df[prop.B >=0.5 & prop.B<0.6, prop.B2 := \"50-60%\"]\n",
    "df=df[prop.B >=0.6 & prop.B<0.7, prop.B2 := \"60-70%\"]\n",
    "df=df[prop.B >=0.7 & prop.B<0.8, prop.B2 := \"70-80%\"]\n",
    "df=df[prop.B >=0.8 & prop.B<0.9, prop.B2 := \"80-90%\"]\n",
    "df=df[prop.B >=0.9,  prop.B2 := \"90-100%\"]\n",
    "table(df$prop.B2)\n",
    "\n",
    "df$prop.A2=NA\n",
    "df$prop.A2=as.character(df$prop.A2)\n",
    "df=df[prop.A <0.1, prop.A2 := \"0-10%\"]\n",
    "df=df[prop.A >=0.1 & prop.A<0.2, prop.A2 := \"10-20%\"]\n",
    "df=df[prop.A >=0.2 & prop.A<0.3, prop.A2 := \"20-30%\"]\n",
    "df=df[prop.A >=0.3 & prop.A<0.4, prop.A2 := \"30-40%\"]\n",
    "df=df[prop.A >=0.4 & prop.A<0.5, prop.A2 := \"40-50%\"]\n",
    "df=df[prop.A >=0.5 & prop.A<0.6, prop.A2 := \"50-60%\"]\n",
    "df=df[prop.A >=0.6 & prop.A<0.7, prop.A2 := \"60-70%\"]\n",
    "df=df[prop.A >=0.7 & prop.A<0.8, prop.A2 := \"70-80%\"]\n",
    "df=df[prop.A >=0.8 & prop.A<0.9, prop.A2 := \"80-90%\"]\n",
    "df=df[prop.A >=0.9,  prop.A2 := \"90-100%\"]\n",
    "table(df$prop.A2)"
   ]
  },
  {
   "cell_type": "code",
   "execution_count": 20,
   "metadata": {},
   "outputs": [
    {
     "data": {
      "text/html": [
       "<table class=\"dataframe\">\n",
       "<caption>A data.table: 334494 × 29</caption>\n",
       "<thead>\n",
       "\t<tr><th scope=col>listing_id</th><th scope=col>host_id</th><th scope=col>instant_bookable</th><th scope=col>id</th><th scope=col>date</th><th scope=col>guest_id</th><th scope=col>reviewer_name</th><th scope=col>gld_id</th><th scope=col>g.num_face</th><th scope=col>g.ethnicity</th><th scope=col>⋯</th><th scope=col>g.A.cnt</th><th scope=col>top6.W</th><th scope=col>top6.B</th><th scope=col>top6.A</th><th scope=col>prop.W</th><th scope=col>prop.B</th><th scope=col>prop.A</th><th scope=col>prop.W2</th><th scope=col>prop.B2</th><th scope=col>prop.A2</th></tr>\n",
       "\t<tr><th scope=col>&lt;int&gt;</th><th scope=col>&lt;int&gt;</th><th scope=col>&lt;chr&gt;</th><th scope=col>&lt;int&gt;</th><th scope=col>&lt;date&gt;</th><th scope=col>&lt;int&gt;</th><th scope=col>&lt;chr&gt;</th><th scope=col>&lt;chr&gt;</th><th scope=col>&lt;int&gt;</th><th scope=col>&lt;chr&gt;</th><th scope=col>⋯</th><th scope=col>&lt;int&gt;</th><th scope=col>&lt;int&gt;</th><th scope=col>&lt;int&gt;</th><th scope=col>&lt;int&gt;</th><th scope=col>&lt;dbl&gt;</th><th scope=col>&lt;dbl&gt;</th><th scope=col>&lt;dbl&gt;</th><th scope=col>&lt;chr&gt;</th><th scope=col>&lt;chr&gt;</th><th scope=col>&lt;chr&gt;</th></tr>\n",
       "</thead>\n",
       "<tbody>\n",
       "\t<tr><td>5441</td><td> 7989</td><td>f</td><td>  903</td><td>2009-03-12</td><td> 8512</td><td>Stephen    </td><td>8512-5441-2009-03-12 </td><td>1</td><td>WHITE</td><td>⋯</td><td>0</td><td>NA</td><td>NA</td><td>NA</td><td>      NaN</td><td>      NaN</td><td>      NaN</td><td>NA     </td><td>NA     </td><td>NA    </td></tr>\n",
       "\t<tr><td>5441</td><td> 7989</td><td>f</td><td> 2179</td><td>2009-05-09</td><td> 9818</td><td>Daniela    </td><td>9818-5441-2009-05-09 </td><td>1</td><td>ASIAN</td><td>⋯</td><td>0</td><td>NA</td><td>NA</td><td>NA</td><td>1.0000000</td><td>0.0000000</td><td>0.0000000</td><td>90-100%</td><td>0-10%  </td><td>0-10% </td></tr>\n",
       "\t<tr><td>5803</td><td> 9744</td><td>f</td><td> 2767</td><td>2009-05-17</td><td>16345</td><td>Jocelyne   </td><td>16345-5803-2009-05-17</td><td>1</td><td>BLACK</td><td>⋯</td><td>0</td><td>NA</td><td>NA</td><td>NA</td><td>      NaN</td><td>      NaN</td><td>      NaN</td><td>NA     </td><td>NA     </td><td>NA    </td></tr>\n",
       "\t<tr><td>6848</td><td>15991</td><td>t</td><td> 3149</td><td>2009-05-25</td><td>18003</td><td>Ken        </td><td>18003-6848-2009-05-25</td><td>1</td><td>WHITE</td><td>⋯</td><td>0</td><td>NA</td><td>NA</td><td>NA</td><td>      NaN</td><td>      NaN</td><td>      NaN</td><td>NA     </td><td>NA     </td><td>NA    </td></tr>\n",
       "\t<tr><td>6848</td><td>15991</td><td>t</td><td> 3287</td><td>2009-05-29</td><td>16426</td><td>Mimi       </td><td>16426-6848-2009-05-29</td><td>1</td><td>WHITE</td><td>⋯</td><td>0</td><td>NA</td><td>NA</td><td>NA</td><td>1.0000000</td><td>0.0000000</td><td>0.0000000</td><td>90-100%</td><td>0-10%  </td><td>0-10% </td></tr>\n",
       "\t<tr><td>5441</td><td> 7989</td><td>f</td><td> 3307</td><td>2009-05-30</td><td>13223</td><td>Lizeth     </td><td>13223-5441-2009-05-30</td><td>1</td><td>WHITE</td><td>⋯</td><td>1</td><td>NA</td><td>NA</td><td>NA</td><td>0.5000000</td><td>0.0000000</td><td>0.5000000</td><td>50-60% </td><td>0-10%  </td><td>50-60%</td></tr>\n",
       "\t<tr><td>5803</td><td> 9744</td><td>f</td><td> 3549</td><td>2009-06-03</td><td>19091</td><td>Cam        </td><td>19091-5803-2009-06-03</td><td>1</td><td>WHITE</td><td>⋯</td><td>0</td><td>NA</td><td>NA</td><td>NA</td><td>0.0000000</td><td>1.0000000</td><td>0.0000000</td><td>0-10%  </td><td>90-100%</td><td>0-10% </td></tr>\n",
       "\t<tr><td>6848</td><td>15991</td><td>t</td><td> 3687</td><td>2009-06-07</td><td>18432</td><td>Alice      </td><td>18432-6848-2009-06-07</td><td>1</td><td>WHITE</td><td>⋯</td><td>0</td><td>NA</td><td>NA</td><td>NA</td><td>1.0000000</td><td>0.0000000</td><td>0.0000000</td><td>90-100%</td><td>0-10%  </td><td>0-10% </td></tr>\n",
       "\t<tr><td>6848</td><td>15991</td><td>t</td><td> 3987</td><td>2009-06-14</td><td> 8646</td><td>Mike       </td><td>8646-6848-2009-06-14 </td><td>1</td><td>ASIAN</td><td>⋯</td><td>0</td><td>NA</td><td>NA</td><td>NA</td><td>1.0000000</td><td>0.0000000</td><td>0.0000000</td><td>90-100%</td><td>0-10%  </td><td>0-10% </td></tr>\n",
       "\t<tr><td>5441</td><td> 7989</td><td>f</td><td> 4237</td><td>2009-06-19</td><td>20905</td><td>Franziska  </td><td>20905-5441-2009-06-19</td><td>1</td><td>BLACK</td><td>⋯</td><td>1</td><td>NA</td><td>NA</td><td>NA</td><td>0.6666667</td><td>0.0000000</td><td>0.3333333</td><td>60-70% </td><td>0-10%  </td><td>30-40%</td></tr>\n",
       "\t<tr><td>5295</td><td> 7702</td><td>f</td><td> 4532</td><td>2009-06-25</td><td>17372</td><td>George     </td><td>17372-5295-2009-06-25</td><td>1</td><td>WHITE</td><td>⋯</td><td>0</td><td>NA</td><td>NA</td><td>NA</td><td>      NaN</td><td>      NaN</td><td>      NaN</td><td>NA     </td><td>NA     </td><td>NA    </td></tr>\n",
       "\t<tr><td>6021</td><td>11528</td><td>f</td><td> 4540</td><td>2009-06-25</td><td>20644</td><td>David      </td><td>20644-6021-2009-06-25</td><td>1</td><td>WHITE</td><td>⋯</td><td>0</td><td>NA</td><td>NA</td><td>NA</td><td>      NaN</td><td>      NaN</td><td>      NaN</td><td>NA     </td><td>NA     </td><td>NA    </td></tr>\n",
       "\t<tr><td>6848</td><td>15991</td><td>t</td><td> 5624</td><td>2009-07-16</td><td>20347</td><td>Will       </td><td>20347-6848-2009-07-16</td><td>1</td><td>WHITE</td><td>⋯</td><td>1</td><td>NA</td><td>NA</td><td>NA</td><td>0.7500000</td><td>0.0000000</td><td>0.2500000</td><td>70-80% </td><td>0-10%  </td><td>20-30%</td></tr>\n",
       "\t<tr><td>6848</td><td>15991</td><td>t</td><td> 5947</td><td>2009-07-22</td><td>22786</td><td>Jeff       </td><td>22786-6848-2009-07-22</td><td>1</td><td>WHITE</td><td>⋯</td><td>1</td><td>NA</td><td>NA</td><td>NA</td><td>0.8000000</td><td>0.0000000</td><td>0.2000000</td><td>80-90% </td><td>0-10%  </td><td>20-30%</td></tr>\n",
       "\t<tr><td>6848</td><td>15991</td><td>t</td><td> 6193</td><td>2009-07-27</td><td>22455</td><td>Celeste    </td><td>22455-6848-2009-07-27</td><td>1</td><td>WHITE</td><td>⋯</td><td>1</td><td> 5</td><td> 0</td><td> 1</td><td>0.8333333</td><td>0.0000000</td><td>0.1666667</td><td>80-90% </td><td>0-10%  </td><td>10-20%</td></tr>\n",
       "\t<tr><td>6848</td><td>15991</td><td>t</td><td> 6664</td><td>2009-08-03</td><td>26517</td><td>Manya      </td><td>26517-6848-2009-08-03</td><td>1</td><td>WHITE</td><td>⋯</td><td>1</td><td> 5</td><td> 0</td><td> 1</td><td>0.8571429</td><td>0.0000000</td><td>0.1428571</td><td>80-90% </td><td>0-10%  </td><td>10-20%</td></tr>\n",
       "\t<tr><td>6021</td><td>11528</td><td>f</td><td> 6932</td><td>2009-08-08</td><td>26407</td><td>Christopher</td><td>26407-6021-2009-08-08</td><td>1</td><td>BLACK</td><td>⋯</td><td>0</td><td>NA</td><td>NA</td><td>NA</td><td>1.0000000</td><td>0.0000000</td><td>0.0000000</td><td>90-100%</td><td>0-10%  </td><td>0-10% </td></tr>\n",
       "\t<tr><td>5441</td><td> 7989</td><td>f</td><td> 7776</td><td>2009-08-19</td><td>28341</td><td>Jeff       </td><td>28341-5441-2009-08-19</td><td>1</td><td>WHITE</td><td>⋯</td><td>1</td><td>NA</td><td>NA</td><td>NA</td><td>0.5000000</td><td>0.2500000</td><td>0.2500000</td><td>50-60% </td><td>20-30% </td><td>20-30%</td></tr>\n",
       "\t<tr><td>6090</td><td>11975</td><td>t</td><td> 8047</td><td>2009-08-23</td><td>21490</td><td>Rui        </td><td>21490-6090-2009-08-23</td><td>1</td><td>WHITE</td><td>⋯</td><td>0</td><td>NA</td><td>NA</td><td>NA</td><td>      NaN</td><td>      NaN</td><td>      NaN</td><td>NA     </td><td>NA     </td><td>NA    </td></tr>\n",
       "\t<tr><td>8490</td><td>25183</td><td>t</td><td> 8259</td><td>2009-08-25</td><td>32300</td><td>Gina       </td><td>32300-8490-2009-08-25</td><td>1</td><td>BLACK</td><td>⋯</td><td>0</td><td>NA</td><td>NA</td><td>NA</td><td>      NaN</td><td>      NaN</td><td>      NaN</td><td>NA     </td><td>NA     </td><td>NA    </td></tr>\n",
       "\t<tr><td>5295</td><td> 7702</td><td>f</td><td> 8351</td><td>2009-08-27</td><td>22610</td><td>Moises     </td><td>22610-5295-2009-08-27</td><td>1</td><td>WHITE</td><td>⋯</td><td>0</td><td>NA</td><td>NA</td><td>NA</td><td>1.0000000</td><td>0.0000000</td><td>0.0000000</td><td>90-100%</td><td>0-10%  </td><td>0-10% </td></tr>\n",
       "\t<tr><td>6021</td><td>11528</td><td>f</td><td> 8415</td><td>2009-08-28</td><td>28364</td><td>Eloise     </td><td>28364-6021-2009-08-28</td><td>1</td><td>WHITE</td><td>⋯</td><td>0</td><td>NA</td><td>NA</td><td>NA</td><td>0.5000000</td><td>0.5000000</td><td>0.0000000</td><td>50-60% </td><td>50-60% </td><td>0-10% </td></tr>\n",
       "\t<tr><td>6021</td><td>11528</td><td>f</td><td> 8847</td><td>2009-09-02</td><td>25403</td><td>Pedro      </td><td>25403-6021-2009-09-02</td><td>1</td><td>BLACK</td><td>⋯</td><td>0</td><td>NA</td><td>NA</td><td>NA</td><td>0.6666667</td><td>0.3333333</td><td>0.0000000</td><td>60-70% </td><td>30-40% </td><td>0-10% </td></tr>\n",
       "\t<tr><td>5295</td><td> 7702</td><td>f</td><td> 8949</td><td>2009-09-04</td><td>27736</td><td>Jessica    </td><td>27736-5295-2009-09-04</td><td>1</td><td>ASIAN</td><td>⋯</td><td>0</td><td>NA</td><td>NA</td><td>NA</td><td>1.0000000</td><td>0.0000000</td><td>0.0000000</td><td>90-100%</td><td>0-10%  </td><td>0-10% </td></tr>\n",
       "\t<tr><td>6090</td><td>11975</td><td>t</td><td> 9215</td><td>2009-09-07</td><td>19060</td><td>Clare      </td><td>19060-6090-2009-09-07</td><td>1</td><td>WHITE</td><td>⋯</td><td>0</td><td>NA</td><td>NA</td><td>NA</td><td>1.0000000</td><td>0.0000000</td><td>0.0000000</td><td>90-100%</td><td>0-10%  </td><td>0-10% </td></tr>\n",
       "\t<tr><td>5945</td><td> 4267</td><td>f</td><td> 9771</td><td>2009-09-11</td><td>36956</td><td>Russell    </td><td>36956-5945-2009-09-11</td><td>1</td><td>ASIAN</td><td>⋯</td><td>0</td><td>NA</td><td>NA</td><td>NA</td><td>      NaN</td><td>      NaN</td><td>      NaN</td><td>NA     </td><td>NA     </td><td>NA    </td></tr>\n",
       "\t<tr><td>5441</td><td> 7989</td><td>f</td><td> 9793</td><td>2009-09-12</td><td>25167</td><td>Maria      </td><td>25167-5441-2009-09-12</td><td>1</td><td>WHITE</td><td>⋯</td><td>1</td><td>NA</td><td>NA</td><td>NA</td><td>0.6000000</td><td>0.2000000</td><td>0.2000000</td><td>60-70% </td><td>20-30% </td><td>20-30%</td></tr>\n",
       "\t<tr><td>6021</td><td>11528</td><td>f</td><td> 9967</td><td>2009-09-13</td><td>34032</td><td>Annabel    </td><td>34032-6021-2009-09-13</td><td>1</td><td>WHITE</td><td>⋯</td><td>0</td><td>NA</td><td>NA</td><td>NA</td><td>0.5000000</td><td>0.5000000</td><td>0.0000000</td><td>50-60% </td><td>50-60% </td><td>0-10% </td></tr>\n",
       "\t<tr><td>5441</td><td> 7989</td><td>f</td><td>10587</td><td>2009-09-19</td><td> 8590</td><td>Heiko      </td><td>8590-5441-2009-09-19 </td><td>1</td><td>WHITE</td><td>⋯</td><td>1</td><td> 4</td><td> 1</td><td> 1</td><td>0.6666667</td><td>0.1666667</td><td>0.1666667</td><td>60-70% </td><td>10-20% </td><td>10-20%</td></tr>\n",
       "\t<tr><td>6090</td><td>11975</td><td>t</td><td>11091</td><td>2009-09-23</td><td>19959</td><td>Tali       </td><td>19959-6090-2009-09-23</td><td>1</td><td>WHITE</td><td>⋯</td><td>0</td><td>NA</td><td>NA</td><td>NA</td><td>1.0000000</td><td>0.0000000</td><td>0.0000000</td><td>90-100%</td><td>0-10%  </td><td>0-10% </td></tr>\n",
       "\t<tr><td>⋮</td><td>⋮</td><td>⋮</td><td>⋮</td><td>⋮</td><td>⋮</td><td>⋮</td><td>⋮</td><td>⋮</td><td>⋮</td><td>⋱</td><td>⋮</td><td>⋮</td><td>⋮</td><td>⋮</td><td>⋮</td><td>⋮</td><td>⋮</td><td>⋮</td><td>⋮</td><td>⋮</td></tr>\n",
       "\t<tr><td>13082805</td><td> 72392039</td><td>f</td><td>303099054</td><td>2018-08-06</td><td>206122507</td><td>Lili     </td><td>206122507-13082805-2018-08-06</td><td>1</td><td>ASIAN</td><td>⋯</td><td> 9</td><td> 2</td><td> 3</td><td> 1</td><td>0.6000000</td><td>0.2200000</td><td>0.1800000</td><td>60-70% </td><td>20-30%</td><td>10-20%</td></tr>\n",
       "\t<tr><td>13885247</td><td> 82208124</td><td>f</td><td>303121393</td><td>2018-08-06</td><td> 63187071</td><td>Jian     </td><td>63187071-13885247-2018-08-06 </td><td>1</td><td>ASIAN</td><td>⋯</td><td> 6</td><td> 5</td><td> 0</td><td> 1</td><td>0.6000000</td><td>0.1000000</td><td>0.3000000</td><td>60-70% </td><td>10-20%</td><td>30-40%</td></tr>\n",
       "\t<tr><td>15147021</td><td>  1903495</td><td>f</td><td>303010495</td><td>2018-08-06</td><td> 25980835</td><td>Andrea   </td><td>25980835-15147021-2018-08-06 </td><td>1</td><td>BLACK</td><td>⋯</td><td> 1</td><td> 4</td><td> 1</td><td> 1</td><td>0.6250000</td><td>0.2500000</td><td>0.1250000</td><td>60-70% </td><td>20-30%</td><td>10-20%</td></tr>\n",
       "\t<tr><td>15936167</td><td> 46707487</td><td>f</td><td>302995696</td><td>2018-08-06</td><td> 10154164</td><td>Rixt     </td><td>10154164-15936167-2018-08-06 </td><td>1</td><td>WHITE</td><td>⋯</td><td> 8</td><td> 5</td><td> 1</td><td> 0</td><td>0.6923077</td><td>0.1025641</td><td>0.2051282</td><td>60-70% </td><td>10-20%</td><td>20-30%</td></tr>\n",
       "\t<tr><td>16899285</td><td>  4507242</td><td>f</td><td>303041341</td><td>2018-08-06</td><td>174271766</td><td>Kathy    </td><td>174271766-16899285-2018-08-06</td><td>1</td><td>ASIAN</td><td>⋯</td><td>27</td><td> 3</td><td> 1</td><td> 2</td><td>0.5185185</td><td>0.1481481</td><td>0.3333333</td><td>50-60% </td><td>10-20%</td><td>30-40%</td></tr>\n",
       "\t<tr><td>19430239</td><td>118816229</td><td>f</td><td>303105708</td><td>2018-08-06</td><td>110196833</td><td>Ato      </td><td>110196833-19430239-2018-08-06</td><td>1</td><td>BLACK</td><td>⋯</td><td> 0</td><td> 2</td><td> 4</td><td> 0</td><td>0.4210526</td><td>0.5789474</td><td>0.0000000</td><td>40-50% </td><td>50-60%</td><td>0-10% </td></tr>\n",
       "\t<tr><td>21294449</td><td>154088360</td><td>f</td><td>303042770</td><td>2018-08-06</td><td> 21385311</td><td>Pascal   </td><td>21385311-21294449-2018-08-06 </td><td>1</td><td>ASIAN</td><td>⋯</td><td>10</td><td> 3</td><td> 0</td><td> 3</td><td>0.4400000</td><td>0.1600000</td><td>0.4000000</td><td>40-50% </td><td>10-20%</td><td>40-50%</td></tr>\n",
       "\t<tr><td>21703746</td><td>   839657</td><td>f</td><td>303028629</td><td>2018-08-06</td><td>  2932281</td><td>Steve    </td><td>2932281-21703746-2018-08-06  </td><td>1</td><td>ASIAN</td><td>⋯</td><td> 2</td><td> 4</td><td> 2</td><td> 0</td><td>0.6000000</td><td>0.2000000</td><td>0.2000000</td><td>60-70% </td><td>20-30%</td><td>20-30%</td></tr>\n",
       "\t<tr><td>21881207</td><td> 17295669</td><td>f</td><td>303067772</td><td>2018-08-06</td><td> 39646076</td><td>Ally     </td><td>39646076-21881207-2018-08-06 </td><td>1</td><td>WHITE</td><td>⋯</td><td> 2</td><td> 4</td><td> 0</td><td> 2</td><td>0.8000000</td><td>0.0000000</td><td>0.2000000</td><td>80-90% </td><td>0-10% </td><td>20-30%</td></tr>\n",
       "\t<tr><td>22483574</td><td>130971031</td><td>f</td><td>303002707</td><td>2018-08-06</td><td> 85345505</td><td>Erika    </td><td>85345505-22483574-2018-08-06 </td><td>1</td><td>BLACK</td><td>⋯</td><td> 2</td><td> 6</td><td> 0</td><td> 0</td><td>0.8333333</td><td>0.0000000</td><td>0.1666667</td><td>80-90% </td><td>0-10% </td><td>10-20%</td></tr>\n",
       "\t<tr><td>23574142</td><td>176185168</td><td>f</td><td>303117212</td><td>2018-08-06</td><td>182837678</td><td>L.       </td><td>182837678-23574142-2018-08-06</td><td>1</td><td>ASIAN</td><td>⋯</td><td>19</td><td> 2</td><td> 1</td><td> 3</td><td>0.3181818</td><td>0.2500000</td><td>0.4318182</td><td>30-40% </td><td>20-30%</td><td>40-50%</td></tr>\n",
       "\t<tr><td>24233570</td><td>  4317622</td><td>f</td><td>302999759</td><td>2018-08-06</td><td>109553456</td><td>Megan    </td><td>109553456-24233570-2018-08-06</td><td>1</td><td>WHITE</td><td>⋯</td><td> 0</td><td>NA</td><td>NA</td><td>NA</td><td>0.5000000</td><td>0.5000000</td><td>0.0000000</td><td>50-60% </td><td>50-60%</td><td>0-10% </td></tr>\n",
       "\t<tr><td>24806141</td><td>186679495</td><td>f</td><td>303101354</td><td>2018-08-06</td><td> 66332142</td><td>Eli      </td><td>66332142-24806141-2018-08-06 </td><td>1</td><td>BLACK</td><td>⋯</td><td> 2</td><td> 3</td><td> 3</td><td> 0</td><td>0.4166667</td><td>0.4166667</td><td>0.1666667</td><td>40-50% </td><td>40-50%</td><td>10-20%</td></tr>\n",
       "\t<tr><td>24913445</td><td>  7780845</td><td>f</td><td>303023057</td><td>2018-08-06</td><td> 22865721</td><td>Anaïs    </td><td>22865721-24913445-2018-08-06 </td><td>1</td><td>WHITE</td><td>⋯</td><td> 0</td><td>NA</td><td>NA</td><td>NA</td><td>1.0000000</td><td>0.0000000</td><td>0.0000000</td><td>90-100%</td><td>0-10% </td><td>0-10% </td></tr>\n",
       "\t<tr><td>25310998</td><td> 10125535</td><td>f</td><td>303033504</td><td>2018-08-06</td><td>114554263</td><td>Lior     </td><td>114554263-25310998-2018-08-06</td><td>1</td><td>WHITE</td><td>⋯</td><td> 0</td><td>NA</td><td>NA</td><td>NA</td><td>1.0000000</td><td>0.0000000</td><td>0.0000000</td><td>90-100%</td><td>0-10% </td><td>0-10% </td></tr>\n",
       "\t<tr><td>25456296</td><td>185914925</td><td>f</td><td>303081846</td><td>2018-08-06</td><td>182629606</td><td>Lane     </td><td>182629606-25456296-2018-08-06</td><td>1</td><td>WHITE</td><td>⋯</td><td> 4</td><td> 0</td><td> 3</td><td> 3</td><td>0.3000000</td><td>0.3000000</td><td>0.4000000</td><td>30-40% </td><td>30-40%</td><td>40-50%</td></tr>\n",
       "\t<tr><td>25740704</td><td>193151416</td><td>f</td><td>303013206</td><td>2018-08-06</td><td> 23994510</td><td>Mariem   </td><td>23994510-25740704-2018-08-06 </td><td>1</td><td>WHITE</td><td>⋯</td><td> 1</td><td> 2</td><td> 3</td><td> 1</td><td>0.3333333</td><td>0.5000000</td><td>0.1666667</td><td>30-40% </td><td>50-60%</td><td>10-20%</td></tr>\n",
       "\t<tr><td>25858685</td><td>  8870072</td><td>f</td><td>302986418</td><td>2018-08-06</td><td>107571588</td><td>Anna     </td><td>107571588-25858685-2018-08-06</td><td>1</td><td>BLACK</td><td>⋯</td><td> 0</td><td>NA</td><td>NA</td><td>NA</td><td>1.0000000</td><td>0.0000000</td><td>0.0000000</td><td>90-100%</td><td>0-10% </td><td>0-10% </td></tr>\n",
       "\t<tr><td>26026904</td><td>195517789</td><td>f</td><td>303020490</td><td>2018-08-06</td><td>193139443</td><td>Veronica </td><td>193139443-26026904-2018-08-06</td><td>1</td><td>BLACK</td><td>⋯</td><td> 0</td><td>NA</td><td>NA</td><td>NA</td><td>      NaN</td><td>      NaN</td><td>      NaN</td><td>NA     </td><td>NA    </td><td>NA    </td></tr>\n",
       "\t<tr><td>26061766</td><td> 49407035</td><td>f</td><td>303016623</td><td>2018-08-06</td><td> 96311097</td><td>Brooke   </td><td>96311097-26061766-2018-08-06 </td><td>1</td><td>WHITE</td><td>⋯</td><td> 0</td><td>NA</td><td>NA</td><td>NA</td><td>1.0000000</td><td>0.0000000</td><td>0.0000000</td><td>90-100%</td><td>0-10% </td><td>0-10% </td></tr>\n",
       "\t<tr><td>26229977</td><td>105864116</td><td>f</td><td>303046987</td><td>2018-08-06</td><td>204198687</td><td>Kay      </td><td>204198687-26229977-2018-08-06</td><td>1</td><td>BLACK</td><td>⋯</td><td> 0</td><td>NA</td><td>NA</td><td>NA</td><td>1.0000000</td><td>0.0000000</td><td>0.0000000</td><td>90-100%</td><td>0-10% </td><td>0-10% </td></tr>\n",
       "\t<tr><td>26235818</td><td>  2890846</td><td>f</td><td>303033517</td><td>2018-08-06</td><td>203660732</td><td>Jemin    </td><td>203660732-26235818-2018-08-06</td><td>1</td><td>ASIAN</td><td>⋯</td><td> 1</td><td>NA</td><td>NA</td><td>NA</td><td>0.2500000</td><td>0.5000000</td><td>0.2500000</td><td>20-30% </td><td>50-60%</td><td>20-30%</td></tr>\n",
       "\t<tr><td>26603525</td><td>126774283</td><td>f</td><td>303060942</td><td>2018-08-06</td><td>151397055</td><td>Camryn   </td><td>151397055-26603525-2018-08-06</td><td>1</td><td>WHITE</td><td>⋯</td><td> 0</td><td>NA</td><td>NA</td><td>NA</td><td>0.6666667</td><td>0.3333333</td><td>0.0000000</td><td>60-70% </td><td>30-40%</td><td>0-10% </td></tr>\n",
       "\t<tr><td>26926704</td><td> 23542079</td><td>f</td><td>303100965</td><td>2018-08-06</td><td> 62499038</td><td>Бороздых </td><td>62499038-26926704-2018-08-06 </td><td>1</td><td>WHITE</td><td>⋯</td><td> 0</td><td>NA</td><td>NA</td><td>NA</td><td>0.5000000</td><td>0.5000000</td><td>0.0000000</td><td>50-60% </td><td>50-60%</td><td>0-10% </td></tr>\n",
       "\t<tr><td>26948645</td><td>202766239</td><td>f</td><td>303008955</td><td>2018-08-06</td><td> 59161584</td><td>Max Timon</td><td>59161584-26948645-2018-08-06 </td><td>1</td><td>ASIAN</td><td>⋯</td><td> 0</td><td>NA</td><td>NA</td><td>NA</td><td>1.0000000</td><td>0.0000000</td><td>0.0000000</td><td>90-100%</td><td>0-10% </td><td>0-10% </td></tr>\n",
       "\t<tr><td>26956772</td><td>128861541</td><td>f</td><td>303047381</td><td>2018-08-06</td><td>206273002</td><td>Jocelyn  </td><td>206273002-26956772-2018-08-06</td><td>1</td><td>BLACK</td><td>⋯</td><td> 0</td><td>NA</td><td>NA</td><td>NA</td><td>1.0000000</td><td>0.0000000</td><td>0.0000000</td><td>90-100%</td><td>0-10% </td><td>0-10% </td></tr>\n",
       "\t<tr><td>27159848</td><td>191706200</td><td>f</td><td>302985616</td><td>2018-08-06</td><td>198639577</td><td>Renzo    </td><td>198639577-27159848-2018-08-06</td><td>1</td><td>ASIAN</td><td>⋯</td><td> 0</td><td>NA</td><td>NA</td><td>NA</td><td>      NaN</td><td>      NaN</td><td>      NaN</td><td>NA     </td><td>NA    </td><td>NA    </td></tr>\n",
       "\t<tr><td>27208517</td><td>204906313</td><td>f</td><td>303086832</td><td>2018-08-06</td><td>206900458</td><td>Andrey   </td><td>206900458-27208517-2018-08-06</td><td>1</td><td>WHITE</td><td>⋯</td><td> 0</td><td>NA</td><td>NA</td><td>NA</td><td>1.0000000</td><td>0.0000000</td><td>0.0000000</td><td>90-100%</td><td>0-10% </td><td>0-10% </td></tr>\n",
       "\t<tr><td>26788956</td><td> 37678920</td><td>f</td><td>303031059</td><td>2018-08-06</td><td>176339558</td><td>Yasmine  </td><td>176339558-26788956-2018-08-06</td><td>1</td><td>BLACK</td><td>⋯</td><td> 0</td><td>NA</td><td>NA</td><td>NA</td><td>      NaN</td><td>      NaN</td><td>      NaN</td><td>NA     </td><td>NA    </td><td>NA    </td></tr>\n",
       "\t<tr><td>27430723</td><td> 43295180</td><td>f</td><td>303102463</td><td>2018-08-06</td><td> 61258289</td><td>Andrew   </td><td>61258289-27430723-2018-08-06 </td><td>1</td><td>BLACK</td><td>⋯</td><td> 0</td><td>NA</td><td>NA</td><td>NA</td><td>      NaN</td><td>      NaN</td><td>      NaN</td><td>NA     </td><td>NA    </td><td>NA    </td></tr>\n",
       "</tbody>\n",
       "</table>\n"
      ],
      "text/latex": [
       "A data.table: 334494 × 29\n",
       "\\begin{tabular}{lllllllllllllllllllll}\n",
       " listing\\_id & host\\_id & instant\\_bookable & id & date & guest\\_id & reviewer\\_name & gld\\_id & g.num\\_face & g.ethnicity & ⋯ & g.A.cnt & top6.W & top6.B & top6.A & prop.W & prop.B & prop.A & prop.W2 & prop.B2 & prop.A2\\\\\n",
       " <int> & <int> & <chr> & <int> & <date> & <int> & <chr> & <chr> & <int> & <chr> & ⋯ & <int> & <int> & <int> & <int> & <dbl> & <dbl> & <dbl> & <chr> & <chr> & <chr>\\\\\n",
       "\\hline\n",
       "\t 5441 &  7989 & f &   903 & 2009-03-12 &  8512 & Stephen     & 8512-5441-2009-03-12  & 1 & WHITE & ⋯ & 0 & NA & NA & NA &       NaN &       NaN &       NaN & NA      & NA      & NA    \\\\\n",
       "\t 5441 &  7989 & f &  2179 & 2009-05-09 &  9818 & Daniela     & 9818-5441-2009-05-09  & 1 & ASIAN & ⋯ & 0 & NA & NA & NA & 1.0000000 & 0.0000000 & 0.0000000 & 90-100\\% & 0-10\\%   & 0-10\\% \\\\\n",
       "\t 5803 &  9744 & f &  2767 & 2009-05-17 & 16345 & Jocelyne    & 16345-5803-2009-05-17 & 1 & BLACK & ⋯ & 0 & NA & NA & NA &       NaN &       NaN &       NaN & NA      & NA      & NA    \\\\\n",
       "\t 6848 & 15991 & t &  3149 & 2009-05-25 & 18003 & Ken         & 18003-6848-2009-05-25 & 1 & WHITE & ⋯ & 0 & NA & NA & NA &       NaN &       NaN &       NaN & NA      & NA      & NA    \\\\\n",
       "\t 6848 & 15991 & t &  3287 & 2009-05-29 & 16426 & Mimi        & 16426-6848-2009-05-29 & 1 & WHITE & ⋯ & 0 & NA & NA & NA & 1.0000000 & 0.0000000 & 0.0000000 & 90-100\\% & 0-10\\%   & 0-10\\% \\\\\n",
       "\t 5441 &  7989 & f &  3307 & 2009-05-30 & 13223 & Lizeth      & 13223-5441-2009-05-30 & 1 & WHITE & ⋯ & 1 & NA & NA & NA & 0.5000000 & 0.0000000 & 0.5000000 & 50-60\\%  & 0-10\\%   & 50-60\\%\\\\\n",
       "\t 5803 &  9744 & f &  3549 & 2009-06-03 & 19091 & Cam         & 19091-5803-2009-06-03 & 1 & WHITE & ⋯ & 0 & NA & NA & NA & 0.0000000 & 1.0000000 & 0.0000000 & 0-10\\%   & 90-100\\% & 0-10\\% \\\\\n",
       "\t 6848 & 15991 & t &  3687 & 2009-06-07 & 18432 & Alice       & 18432-6848-2009-06-07 & 1 & WHITE & ⋯ & 0 & NA & NA & NA & 1.0000000 & 0.0000000 & 0.0000000 & 90-100\\% & 0-10\\%   & 0-10\\% \\\\\n",
       "\t 6848 & 15991 & t &  3987 & 2009-06-14 &  8646 & Mike        & 8646-6848-2009-06-14  & 1 & ASIAN & ⋯ & 0 & NA & NA & NA & 1.0000000 & 0.0000000 & 0.0000000 & 90-100\\% & 0-10\\%   & 0-10\\% \\\\\n",
       "\t 5441 &  7989 & f &  4237 & 2009-06-19 & 20905 & Franziska   & 20905-5441-2009-06-19 & 1 & BLACK & ⋯ & 1 & NA & NA & NA & 0.6666667 & 0.0000000 & 0.3333333 & 60-70\\%  & 0-10\\%   & 30-40\\%\\\\\n",
       "\t 5295 &  7702 & f &  4532 & 2009-06-25 & 17372 & George      & 17372-5295-2009-06-25 & 1 & WHITE & ⋯ & 0 & NA & NA & NA &       NaN &       NaN &       NaN & NA      & NA      & NA    \\\\\n",
       "\t 6021 & 11528 & f &  4540 & 2009-06-25 & 20644 & David       & 20644-6021-2009-06-25 & 1 & WHITE & ⋯ & 0 & NA & NA & NA &       NaN &       NaN &       NaN & NA      & NA      & NA    \\\\\n",
       "\t 6848 & 15991 & t &  5624 & 2009-07-16 & 20347 & Will        & 20347-6848-2009-07-16 & 1 & WHITE & ⋯ & 1 & NA & NA & NA & 0.7500000 & 0.0000000 & 0.2500000 & 70-80\\%  & 0-10\\%   & 20-30\\%\\\\\n",
       "\t 6848 & 15991 & t &  5947 & 2009-07-22 & 22786 & Jeff        & 22786-6848-2009-07-22 & 1 & WHITE & ⋯ & 1 & NA & NA & NA & 0.8000000 & 0.0000000 & 0.2000000 & 80-90\\%  & 0-10\\%   & 20-30\\%\\\\\n",
       "\t 6848 & 15991 & t &  6193 & 2009-07-27 & 22455 & Celeste     & 22455-6848-2009-07-27 & 1 & WHITE & ⋯ & 1 &  5 &  0 &  1 & 0.8333333 & 0.0000000 & 0.1666667 & 80-90\\%  & 0-10\\%   & 10-20\\%\\\\\n",
       "\t 6848 & 15991 & t &  6664 & 2009-08-03 & 26517 & Manya       & 26517-6848-2009-08-03 & 1 & WHITE & ⋯ & 1 &  5 &  0 &  1 & 0.8571429 & 0.0000000 & 0.1428571 & 80-90\\%  & 0-10\\%   & 10-20\\%\\\\\n",
       "\t 6021 & 11528 & f &  6932 & 2009-08-08 & 26407 & Christopher & 26407-6021-2009-08-08 & 1 & BLACK & ⋯ & 0 & NA & NA & NA & 1.0000000 & 0.0000000 & 0.0000000 & 90-100\\% & 0-10\\%   & 0-10\\% \\\\\n",
       "\t 5441 &  7989 & f &  7776 & 2009-08-19 & 28341 & Jeff        & 28341-5441-2009-08-19 & 1 & WHITE & ⋯ & 1 & NA & NA & NA & 0.5000000 & 0.2500000 & 0.2500000 & 50-60\\%  & 20-30\\%  & 20-30\\%\\\\\n",
       "\t 6090 & 11975 & t &  8047 & 2009-08-23 & 21490 & Rui         & 21490-6090-2009-08-23 & 1 & WHITE & ⋯ & 0 & NA & NA & NA &       NaN &       NaN &       NaN & NA      & NA      & NA    \\\\\n",
       "\t 8490 & 25183 & t &  8259 & 2009-08-25 & 32300 & Gina        & 32300-8490-2009-08-25 & 1 & BLACK & ⋯ & 0 & NA & NA & NA &       NaN &       NaN &       NaN & NA      & NA      & NA    \\\\\n",
       "\t 5295 &  7702 & f &  8351 & 2009-08-27 & 22610 & Moises      & 22610-5295-2009-08-27 & 1 & WHITE & ⋯ & 0 & NA & NA & NA & 1.0000000 & 0.0000000 & 0.0000000 & 90-100\\% & 0-10\\%   & 0-10\\% \\\\\n",
       "\t 6021 & 11528 & f &  8415 & 2009-08-28 & 28364 & Eloise      & 28364-6021-2009-08-28 & 1 & WHITE & ⋯ & 0 & NA & NA & NA & 0.5000000 & 0.5000000 & 0.0000000 & 50-60\\%  & 50-60\\%  & 0-10\\% \\\\\n",
       "\t 6021 & 11528 & f &  8847 & 2009-09-02 & 25403 & Pedro       & 25403-6021-2009-09-02 & 1 & BLACK & ⋯ & 0 & NA & NA & NA & 0.6666667 & 0.3333333 & 0.0000000 & 60-70\\%  & 30-40\\%  & 0-10\\% \\\\\n",
       "\t 5295 &  7702 & f &  8949 & 2009-09-04 & 27736 & Jessica     & 27736-5295-2009-09-04 & 1 & ASIAN & ⋯ & 0 & NA & NA & NA & 1.0000000 & 0.0000000 & 0.0000000 & 90-100\\% & 0-10\\%   & 0-10\\% \\\\\n",
       "\t 6090 & 11975 & t &  9215 & 2009-09-07 & 19060 & Clare       & 19060-6090-2009-09-07 & 1 & WHITE & ⋯ & 0 & NA & NA & NA & 1.0000000 & 0.0000000 & 0.0000000 & 90-100\\% & 0-10\\%   & 0-10\\% \\\\\n",
       "\t 5945 &  4267 & f &  9771 & 2009-09-11 & 36956 & Russell     & 36956-5945-2009-09-11 & 1 & ASIAN & ⋯ & 0 & NA & NA & NA &       NaN &       NaN &       NaN & NA      & NA      & NA    \\\\\n",
       "\t 5441 &  7989 & f &  9793 & 2009-09-12 & 25167 & Maria       & 25167-5441-2009-09-12 & 1 & WHITE & ⋯ & 1 & NA & NA & NA & 0.6000000 & 0.2000000 & 0.2000000 & 60-70\\%  & 20-30\\%  & 20-30\\%\\\\\n",
       "\t 6021 & 11528 & f &  9967 & 2009-09-13 & 34032 & Annabel     & 34032-6021-2009-09-13 & 1 & WHITE & ⋯ & 0 & NA & NA & NA & 0.5000000 & 0.5000000 & 0.0000000 & 50-60\\%  & 50-60\\%  & 0-10\\% \\\\\n",
       "\t 5441 &  7989 & f & 10587 & 2009-09-19 &  8590 & Heiko       & 8590-5441-2009-09-19  & 1 & WHITE & ⋯ & 1 &  4 &  1 &  1 & 0.6666667 & 0.1666667 & 0.1666667 & 60-70\\%  & 10-20\\%  & 10-20\\%\\\\\n",
       "\t 6090 & 11975 & t & 11091 & 2009-09-23 & 19959 & Tali        & 19959-6090-2009-09-23 & 1 & WHITE & ⋯ & 0 & NA & NA & NA & 1.0000000 & 0.0000000 & 0.0000000 & 90-100\\% & 0-10\\%   & 0-10\\% \\\\\n",
       "\t ⋮ & ⋮ & ⋮ & ⋮ & ⋮ & ⋮ & ⋮ & ⋮ & ⋮ & ⋮ & ⋱ & ⋮ & ⋮ & ⋮ & ⋮ & ⋮ & ⋮ & ⋮ & ⋮ & ⋮ & ⋮\\\\\n",
       "\t 13082805 &  72392039 & f & 303099054 & 2018-08-06 & 206122507 & Lili      & 206122507-13082805-2018-08-06 & 1 & ASIAN & ⋯ &  9 &  2 &  3 &  1 & 0.6000000 & 0.2200000 & 0.1800000 & 60-70\\%  & 20-30\\% & 10-20\\%\\\\\n",
       "\t 13885247 &  82208124 & f & 303121393 & 2018-08-06 &  63187071 & Jian      & 63187071-13885247-2018-08-06  & 1 & ASIAN & ⋯ &  6 &  5 &  0 &  1 & 0.6000000 & 0.1000000 & 0.3000000 & 60-70\\%  & 10-20\\% & 30-40\\%\\\\\n",
       "\t 15147021 &   1903495 & f & 303010495 & 2018-08-06 &  25980835 & Andrea    & 25980835-15147021-2018-08-06  & 1 & BLACK & ⋯ &  1 &  4 &  1 &  1 & 0.6250000 & 0.2500000 & 0.1250000 & 60-70\\%  & 20-30\\% & 10-20\\%\\\\\n",
       "\t 15936167 &  46707487 & f & 302995696 & 2018-08-06 &  10154164 & Rixt      & 10154164-15936167-2018-08-06  & 1 & WHITE & ⋯ &  8 &  5 &  1 &  0 & 0.6923077 & 0.1025641 & 0.2051282 & 60-70\\%  & 10-20\\% & 20-30\\%\\\\\n",
       "\t 16899285 &   4507242 & f & 303041341 & 2018-08-06 & 174271766 & Kathy     & 174271766-16899285-2018-08-06 & 1 & ASIAN & ⋯ & 27 &  3 &  1 &  2 & 0.5185185 & 0.1481481 & 0.3333333 & 50-60\\%  & 10-20\\% & 30-40\\%\\\\\n",
       "\t 19430239 & 118816229 & f & 303105708 & 2018-08-06 & 110196833 & Ato       & 110196833-19430239-2018-08-06 & 1 & BLACK & ⋯ &  0 &  2 &  4 &  0 & 0.4210526 & 0.5789474 & 0.0000000 & 40-50\\%  & 50-60\\% & 0-10\\% \\\\\n",
       "\t 21294449 & 154088360 & f & 303042770 & 2018-08-06 &  21385311 & Pascal    & 21385311-21294449-2018-08-06  & 1 & ASIAN & ⋯ & 10 &  3 &  0 &  3 & 0.4400000 & 0.1600000 & 0.4000000 & 40-50\\%  & 10-20\\% & 40-50\\%\\\\\n",
       "\t 21703746 &    839657 & f & 303028629 & 2018-08-06 &   2932281 & Steve     & 2932281-21703746-2018-08-06   & 1 & ASIAN & ⋯ &  2 &  4 &  2 &  0 & 0.6000000 & 0.2000000 & 0.2000000 & 60-70\\%  & 20-30\\% & 20-30\\%\\\\\n",
       "\t 21881207 &  17295669 & f & 303067772 & 2018-08-06 &  39646076 & Ally      & 39646076-21881207-2018-08-06  & 1 & WHITE & ⋯ &  2 &  4 &  0 &  2 & 0.8000000 & 0.0000000 & 0.2000000 & 80-90\\%  & 0-10\\%  & 20-30\\%\\\\\n",
       "\t 22483574 & 130971031 & f & 303002707 & 2018-08-06 &  85345505 & Erika     & 85345505-22483574-2018-08-06  & 1 & BLACK & ⋯ &  2 &  6 &  0 &  0 & 0.8333333 & 0.0000000 & 0.1666667 & 80-90\\%  & 0-10\\%  & 10-20\\%\\\\\n",
       "\t 23574142 & 176185168 & f & 303117212 & 2018-08-06 & 182837678 & L.        & 182837678-23574142-2018-08-06 & 1 & ASIAN & ⋯ & 19 &  2 &  1 &  3 & 0.3181818 & 0.2500000 & 0.4318182 & 30-40\\%  & 20-30\\% & 40-50\\%\\\\\n",
       "\t 24233570 &   4317622 & f & 302999759 & 2018-08-06 & 109553456 & Megan     & 109553456-24233570-2018-08-06 & 1 & WHITE & ⋯ &  0 & NA & NA & NA & 0.5000000 & 0.5000000 & 0.0000000 & 50-60\\%  & 50-60\\% & 0-10\\% \\\\\n",
       "\t 24806141 & 186679495 & f & 303101354 & 2018-08-06 &  66332142 & Eli       & 66332142-24806141-2018-08-06  & 1 & BLACK & ⋯ &  2 &  3 &  3 &  0 & 0.4166667 & 0.4166667 & 0.1666667 & 40-50\\%  & 40-50\\% & 10-20\\%\\\\\n",
       "\t 24913445 &   7780845 & f & 303023057 & 2018-08-06 &  22865721 & Anaïs     & 22865721-24913445-2018-08-06  & 1 & WHITE & ⋯ &  0 & NA & NA & NA & 1.0000000 & 0.0000000 & 0.0000000 & 90-100\\% & 0-10\\%  & 0-10\\% \\\\\n",
       "\t 25310998 &  10125535 & f & 303033504 & 2018-08-06 & 114554263 & Lior      & 114554263-25310998-2018-08-06 & 1 & WHITE & ⋯ &  0 & NA & NA & NA & 1.0000000 & 0.0000000 & 0.0000000 & 90-100\\% & 0-10\\%  & 0-10\\% \\\\\n",
       "\t 25456296 & 185914925 & f & 303081846 & 2018-08-06 & 182629606 & Lane      & 182629606-25456296-2018-08-06 & 1 & WHITE & ⋯ &  4 &  0 &  3 &  3 & 0.3000000 & 0.3000000 & 0.4000000 & 30-40\\%  & 30-40\\% & 40-50\\%\\\\\n",
       "\t 25740704 & 193151416 & f & 303013206 & 2018-08-06 &  23994510 & Mariem    & 23994510-25740704-2018-08-06  & 1 & WHITE & ⋯ &  1 &  2 &  3 &  1 & 0.3333333 & 0.5000000 & 0.1666667 & 30-40\\%  & 50-60\\% & 10-20\\%\\\\\n",
       "\t 25858685 &   8870072 & f & 302986418 & 2018-08-06 & 107571588 & Anna      & 107571588-25858685-2018-08-06 & 1 & BLACK & ⋯ &  0 & NA & NA & NA & 1.0000000 & 0.0000000 & 0.0000000 & 90-100\\% & 0-10\\%  & 0-10\\% \\\\\n",
       "\t 26026904 & 195517789 & f & 303020490 & 2018-08-06 & 193139443 & Veronica  & 193139443-26026904-2018-08-06 & 1 & BLACK & ⋯ &  0 & NA & NA & NA &       NaN &       NaN &       NaN & NA      & NA     & NA    \\\\\n",
       "\t 26061766 &  49407035 & f & 303016623 & 2018-08-06 &  96311097 & Brooke    & 96311097-26061766-2018-08-06  & 1 & WHITE & ⋯ &  0 & NA & NA & NA & 1.0000000 & 0.0000000 & 0.0000000 & 90-100\\% & 0-10\\%  & 0-10\\% \\\\\n",
       "\t 26229977 & 105864116 & f & 303046987 & 2018-08-06 & 204198687 & Kay       & 204198687-26229977-2018-08-06 & 1 & BLACK & ⋯ &  0 & NA & NA & NA & 1.0000000 & 0.0000000 & 0.0000000 & 90-100\\% & 0-10\\%  & 0-10\\% \\\\\n",
       "\t 26235818 &   2890846 & f & 303033517 & 2018-08-06 & 203660732 & Jemin     & 203660732-26235818-2018-08-06 & 1 & ASIAN & ⋯ &  1 & NA & NA & NA & 0.2500000 & 0.5000000 & 0.2500000 & 20-30\\%  & 50-60\\% & 20-30\\%\\\\\n",
       "\t 26603525 & 126774283 & f & 303060942 & 2018-08-06 & 151397055 & Camryn    & 151397055-26603525-2018-08-06 & 1 & WHITE & ⋯ &  0 & NA & NA & NA & 0.6666667 & 0.3333333 & 0.0000000 & 60-70\\%  & 30-40\\% & 0-10\\% \\\\\n",
       "\t 26926704 &  23542079 & f & 303100965 & 2018-08-06 &  62499038 & Бороздых  & 62499038-26926704-2018-08-06  & 1 & WHITE & ⋯ &  0 & NA & NA & NA & 0.5000000 & 0.5000000 & 0.0000000 & 50-60\\%  & 50-60\\% & 0-10\\% \\\\\n",
       "\t 26948645 & 202766239 & f & 303008955 & 2018-08-06 &  59161584 & Max Timon & 59161584-26948645-2018-08-06  & 1 & ASIAN & ⋯ &  0 & NA & NA & NA & 1.0000000 & 0.0000000 & 0.0000000 & 90-100\\% & 0-10\\%  & 0-10\\% \\\\\n",
       "\t 26956772 & 128861541 & f & 303047381 & 2018-08-06 & 206273002 & Jocelyn   & 206273002-26956772-2018-08-06 & 1 & BLACK & ⋯ &  0 & NA & NA & NA & 1.0000000 & 0.0000000 & 0.0000000 & 90-100\\% & 0-10\\%  & 0-10\\% \\\\\n",
       "\t 27159848 & 191706200 & f & 302985616 & 2018-08-06 & 198639577 & Renzo     & 198639577-27159848-2018-08-06 & 1 & ASIAN & ⋯ &  0 & NA & NA & NA &       NaN &       NaN &       NaN & NA      & NA     & NA    \\\\\n",
       "\t 27208517 & 204906313 & f & 303086832 & 2018-08-06 & 206900458 & Andrey    & 206900458-27208517-2018-08-06 & 1 & WHITE & ⋯ &  0 & NA & NA & NA & 1.0000000 & 0.0000000 & 0.0000000 & 90-100\\% & 0-10\\%  & 0-10\\% \\\\\n",
       "\t 26788956 &  37678920 & f & 303031059 & 2018-08-06 & 176339558 & Yasmine   & 176339558-26788956-2018-08-06 & 1 & BLACK & ⋯ &  0 & NA & NA & NA &       NaN &       NaN &       NaN & NA      & NA     & NA    \\\\\n",
       "\t 27430723 &  43295180 & f & 303102463 & 2018-08-06 &  61258289 & Andrew    & 61258289-27430723-2018-08-06  & 1 & BLACK & ⋯ &  0 & NA & NA & NA &       NaN &       NaN &       NaN & NA      & NA     & NA    \\\\\n",
       "\\end{tabular}\n"
      ],
      "text/markdown": [
       "\n",
       "A data.table: 334494 × 29\n",
       "\n",
       "| listing_id &lt;int&gt; | host_id &lt;int&gt; | instant_bookable &lt;chr&gt; | id &lt;int&gt; | date &lt;date&gt; | guest_id &lt;int&gt; | reviewer_name &lt;chr&gt; | gld_id &lt;chr&gt; | g.num_face &lt;int&gt; | g.ethnicity &lt;chr&gt; | ⋯ ⋯ | g.A.cnt &lt;int&gt; | top6.W &lt;int&gt; | top6.B &lt;int&gt; | top6.A &lt;int&gt; | prop.W &lt;dbl&gt; | prop.B &lt;dbl&gt; | prop.A &lt;dbl&gt; | prop.W2 &lt;chr&gt; | prop.B2 &lt;chr&gt; | prop.A2 &lt;chr&gt; |\n",
       "|---|---|---|---|---|---|---|---|---|---|---|---|---|---|---|---|---|---|---|---|---|\n",
       "| 5441 |  7989 | f |   903 | 2009-03-12 |  8512 | Stephen     | 8512-5441-2009-03-12  | 1 | WHITE | ⋯ | 0 | NA | NA | NA |       NaN |       NaN |       NaN | NA      | NA      | NA     |\n",
       "| 5441 |  7989 | f |  2179 | 2009-05-09 |  9818 | Daniela     | 9818-5441-2009-05-09  | 1 | ASIAN | ⋯ | 0 | NA | NA | NA | 1.0000000 | 0.0000000 | 0.0000000 | 90-100% | 0-10%   | 0-10%  |\n",
       "| 5803 |  9744 | f |  2767 | 2009-05-17 | 16345 | Jocelyne    | 16345-5803-2009-05-17 | 1 | BLACK | ⋯ | 0 | NA | NA | NA |       NaN |       NaN |       NaN | NA      | NA      | NA     |\n",
       "| 6848 | 15991 | t |  3149 | 2009-05-25 | 18003 | Ken         | 18003-6848-2009-05-25 | 1 | WHITE | ⋯ | 0 | NA | NA | NA |       NaN |       NaN |       NaN | NA      | NA      | NA     |\n",
       "| 6848 | 15991 | t |  3287 | 2009-05-29 | 16426 | Mimi        | 16426-6848-2009-05-29 | 1 | WHITE | ⋯ | 0 | NA | NA | NA | 1.0000000 | 0.0000000 | 0.0000000 | 90-100% | 0-10%   | 0-10%  |\n",
       "| 5441 |  7989 | f |  3307 | 2009-05-30 | 13223 | Lizeth      | 13223-5441-2009-05-30 | 1 | WHITE | ⋯ | 1 | NA | NA | NA | 0.5000000 | 0.0000000 | 0.5000000 | 50-60%  | 0-10%   | 50-60% |\n",
       "| 5803 |  9744 | f |  3549 | 2009-06-03 | 19091 | Cam         | 19091-5803-2009-06-03 | 1 | WHITE | ⋯ | 0 | NA | NA | NA | 0.0000000 | 1.0000000 | 0.0000000 | 0-10%   | 90-100% | 0-10%  |\n",
       "| 6848 | 15991 | t |  3687 | 2009-06-07 | 18432 | Alice       | 18432-6848-2009-06-07 | 1 | WHITE | ⋯ | 0 | NA | NA | NA | 1.0000000 | 0.0000000 | 0.0000000 | 90-100% | 0-10%   | 0-10%  |\n",
       "| 6848 | 15991 | t |  3987 | 2009-06-14 |  8646 | Mike        | 8646-6848-2009-06-14  | 1 | ASIAN | ⋯ | 0 | NA | NA | NA | 1.0000000 | 0.0000000 | 0.0000000 | 90-100% | 0-10%   | 0-10%  |\n",
       "| 5441 |  7989 | f |  4237 | 2009-06-19 | 20905 | Franziska   | 20905-5441-2009-06-19 | 1 | BLACK | ⋯ | 1 | NA | NA | NA | 0.6666667 | 0.0000000 | 0.3333333 | 60-70%  | 0-10%   | 30-40% |\n",
       "| 5295 |  7702 | f |  4532 | 2009-06-25 | 17372 | George      | 17372-5295-2009-06-25 | 1 | WHITE | ⋯ | 0 | NA | NA | NA |       NaN |       NaN |       NaN | NA      | NA      | NA     |\n",
       "| 6021 | 11528 | f |  4540 | 2009-06-25 | 20644 | David       | 20644-6021-2009-06-25 | 1 | WHITE | ⋯ | 0 | NA | NA | NA |       NaN |       NaN |       NaN | NA      | NA      | NA     |\n",
       "| 6848 | 15991 | t |  5624 | 2009-07-16 | 20347 | Will        | 20347-6848-2009-07-16 | 1 | WHITE | ⋯ | 1 | NA | NA | NA | 0.7500000 | 0.0000000 | 0.2500000 | 70-80%  | 0-10%   | 20-30% |\n",
       "| 6848 | 15991 | t |  5947 | 2009-07-22 | 22786 | Jeff        | 22786-6848-2009-07-22 | 1 | WHITE | ⋯ | 1 | NA | NA | NA | 0.8000000 | 0.0000000 | 0.2000000 | 80-90%  | 0-10%   | 20-30% |\n",
       "| 6848 | 15991 | t |  6193 | 2009-07-27 | 22455 | Celeste     | 22455-6848-2009-07-27 | 1 | WHITE | ⋯ | 1 |  5 |  0 |  1 | 0.8333333 | 0.0000000 | 0.1666667 | 80-90%  | 0-10%   | 10-20% |\n",
       "| 6848 | 15991 | t |  6664 | 2009-08-03 | 26517 | Manya       | 26517-6848-2009-08-03 | 1 | WHITE | ⋯ | 1 |  5 |  0 |  1 | 0.8571429 | 0.0000000 | 0.1428571 | 80-90%  | 0-10%   | 10-20% |\n",
       "| 6021 | 11528 | f |  6932 | 2009-08-08 | 26407 | Christopher | 26407-6021-2009-08-08 | 1 | BLACK | ⋯ | 0 | NA | NA | NA | 1.0000000 | 0.0000000 | 0.0000000 | 90-100% | 0-10%   | 0-10%  |\n",
       "| 5441 |  7989 | f |  7776 | 2009-08-19 | 28341 | Jeff        | 28341-5441-2009-08-19 | 1 | WHITE | ⋯ | 1 | NA | NA | NA | 0.5000000 | 0.2500000 | 0.2500000 | 50-60%  | 20-30%  | 20-30% |\n",
       "| 6090 | 11975 | t |  8047 | 2009-08-23 | 21490 | Rui         | 21490-6090-2009-08-23 | 1 | WHITE | ⋯ | 0 | NA | NA | NA |       NaN |       NaN |       NaN | NA      | NA      | NA     |\n",
       "| 8490 | 25183 | t |  8259 | 2009-08-25 | 32300 | Gina        | 32300-8490-2009-08-25 | 1 | BLACK | ⋯ | 0 | NA | NA | NA |       NaN |       NaN |       NaN | NA      | NA      | NA     |\n",
       "| 5295 |  7702 | f |  8351 | 2009-08-27 | 22610 | Moises      | 22610-5295-2009-08-27 | 1 | WHITE | ⋯ | 0 | NA | NA | NA | 1.0000000 | 0.0000000 | 0.0000000 | 90-100% | 0-10%   | 0-10%  |\n",
       "| 6021 | 11528 | f |  8415 | 2009-08-28 | 28364 | Eloise      | 28364-6021-2009-08-28 | 1 | WHITE | ⋯ | 0 | NA | NA | NA | 0.5000000 | 0.5000000 | 0.0000000 | 50-60%  | 50-60%  | 0-10%  |\n",
       "| 6021 | 11528 | f |  8847 | 2009-09-02 | 25403 | Pedro       | 25403-6021-2009-09-02 | 1 | BLACK | ⋯ | 0 | NA | NA | NA | 0.6666667 | 0.3333333 | 0.0000000 | 60-70%  | 30-40%  | 0-10%  |\n",
       "| 5295 |  7702 | f |  8949 | 2009-09-04 | 27736 | Jessica     | 27736-5295-2009-09-04 | 1 | ASIAN | ⋯ | 0 | NA | NA | NA | 1.0000000 | 0.0000000 | 0.0000000 | 90-100% | 0-10%   | 0-10%  |\n",
       "| 6090 | 11975 | t |  9215 | 2009-09-07 | 19060 | Clare       | 19060-6090-2009-09-07 | 1 | WHITE | ⋯ | 0 | NA | NA | NA | 1.0000000 | 0.0000000 | 0.0000000 | 90-100% | 0-10%   | 0-10%  |\n",
       "| 5945 |  4267 | f |  9771 | 2009-09-11 | 36956 | Russell     | 36956-5945-2009-09-11 | 1 | ASIAN | ⋯ | 0 | NA | NA | NA |       NaN |       NaN |       NaN | NA      | NA      | NA     |\n",
       "| 5441 |  7989 | f |  9793 | 2009-09-12 | 25167 | Maria       | 25167-5441-2009-09-12 | 1 | WHITE | ⋯ | 1 | NA | NA | NA | 0.6000000 | 0.2000000 | 0.2000000 | 60-70%  | 20-30%  | 20-30% |\n",
       "| 6021 | 11528 | f |  9967 | 2009-09-13 | 34032 | Annabel     | 34032-6021-2009-09-13 | 1 | WHITE | ⋯ | 0 | NA | NA | NA | 0.5000000 | 0.5000000 | 0.0000000 | 50-60%  | 50-60%  | 0-10%  |\n",
       "| 5441 |  7989 | f | 10587 | 2009-09-19 |  8590 | Heiko       | 8590-5441-2009-09-19  | 1 | WHITE | ⋯ | 1 |  4 |  1 |  1 | 0.6666667 | 0.1666667 | 0.1666667 | 60-70%  | 10-20%  | 10-20% |\n",
       "| 6090 | 11975 | t | 11091 | 2009-09-23 | 19959 | Tali        | 19959-6090-2009-09-23 | 1 | WHITE | ⋯ | 0 | NA | NA | NA | 1.0000000 | 0.0000000 | 0.0000000 | 90-100% | 0-10%   | 0-10%  |\n",
       "| ⋮ | ⋮ | ⋮ | ⋮ | ⋮ | ⋮ | ⋮ | ⋮ | ⋮ | ⋮ | ⋱ | ⋮ | ⋮ | ⋮ | ⋮ | ⋮ | ⋮ | ⋮ | ⋮ | ⋮ | ⋮ |\n",
       "| 13082805 |  72392039 | f | 303099054 | 2018-08-06 | 206122507 | Lili      | 206122507-13082805-2018-08-06 | 1 | ASIAN | ⋯ |  9 |  2 |  3 |  1 | 0.6000000 | 0.2200000 | 0.1800000 | 60-70%  | 20-30% | 10-20% |\n",
       "| 13885247 |  82208124 | f | 303121393 | 2018-08-06 |  63187071 | Jian      | 63187071-13885247-2018-08-06  | 1 | ASIAN | ⋯ |  6 |  5 |  0 |  1 | 0.6000000 | 0.1000000 | 0.3000000 | 60-70%  | 10-20% | 30-40% |\n",
       "| 15147021 |   1903495 | f | 303010495 | 2018-08-06 |  25980835 | Andrea    | 25980835-15147021-2018-08-06  | 1 | BLACK | ⋯ |  1 |  4 |  1 |  1 | 0.6250000 | 0.2500000 | 0.1250000 | 60-70%  | 20-30% | 10-20% |\n",
       "| 15936167 |  46707487 | f | 302995696 | 2018-08-06 |  10154164 | Rixt      | 10154164-15936167-2018-08-06  | 1 | WHITE | ⋯ |  8 |  5 |  1 |  0 | 0.6923077 | 0.1025641 | 0.2051282 | 60-70%  | 10-20% | 20-30% |\n",
       "| 16899285 |   4507242 | f | 303041341 | 2018-08-06 | 174271766 | Kathy     | 174271766-16899285-2018-08-06 | 1 | ASIAN | ⋯ | 27 |  3 |  1 |  2 | 0.5185185 | 0.1481481 | 0.3333333 | 50-60%  | 10-20% | 30-40% |\n",
       "| 19430239 | 118816229 | f | 303105708 | 2018-08-06 | 110196833 | Ato       | 110196833-19430239-2018-08-06 | 1 | BLACK | ⋯ |  0 |  2 |  4 |  0 | 0.4210526 | 0.5789474 | 0.0000000 | 40-50%  | 50-60% | 0-10%  |\n",
       "| 21294449 | 154088360 | f | 303042770 | 2018-08-06 |  21385311 | Pascal    | 21385311-21294449-2018-08-06  | 1 | ASIAN | ⋯ | 10 |  3 |  0 |  3 | 0.4400000 | 0.1600000 | 0.4000000 | 40-50%  | 10-20% | 40-50% |\n",
       "| 21703746 |    839657 | f | 303028629 | 2018-08-06 |   2932281 | Steve     | 2932281-21703746-2018-08-06   | 1 | ASIAN | ⋯ |  2 |  4 |  2 |  0 | 0.6000000 | 0.2000000 | 0.2000000 | 60-70%  | 20-30% | 20-30% |\n",
       "| 21881207 |  17295669 | f | 303067772 | 2018-08-06 |  39646076 | Ally      | 39646076-21881207-2018-08-06  | 1 | WHITE | ⋯ |  2 |  4 |  0 |  2 | 0.8000000 | 0.0000000 | 0.2000000 | 80-90%  | 0-10%  | 20-30% |\n",
       "| 22483574 | 130971031 | f | 303002707 | 2018-08-06 |  85345505 | Erika     | 85345505-22483574-2018-08-06  | 1 | BLACK | ⋯ |  2 |  6 |  0 |  0 | 0.8333333 | 0.0000000 | 0.1666667 | 80-90%  | 0-10%  | 10-20% |\n",
       "| 23574142 | 176185168 | f | 303117212 | 2018-08-06 | 182837678 | L.        | 182837678-23574142-2018-08-06 | 1 | ASIAN | ⋯ | 19 |  2 |  1 |  3 | 0.3181818 | 0.2500000 | 0.4318182 | 30-40%  | 20-30% | 40-50% |\n",
       "| 24233570 |   4317622 | f | 302999759 | 2018-08-06 | 109553456 | Megan     | 109553456-24233570-2018-08-06 | 1 | WHITE | ⋯ |  0 | NA | NA | NA | 0.5000000 | 0.5000000 | 0.0000000 | 50-60%  | 50-60% | 0-10%  |\n",
       "| 24806141 | 186679495 | f | 303101354 | 2018-08-06 |  66332142 | Eli       | 66332142-24806141-2018-08-06  | 1 | BLACK | ⋯ |  2 |  3 |  3 |  0 | 0.4166667 | 0.4166667 | 0.1666667 | 40-50%  | 40-50% | 10-20% |\n",
       "| 24913445 |   7780845 | f | 303023057 | 2018-08-06 |  22865721 | Anaïs     | 22865721-24913445-2018-08-06  | 1 | WHITE | ⋯ |  0 | NA | NA | NA | 1.0000000 | 0.0000000 | 0.0000000 | 90-100% | 0-10%  | 0-10%  |\n",
       "| 25310998 |  10125535 | f | 303033504 | 2018-08-06 | 114554263 | Lior      | 114554263-25310998-2018-08-06 | 1 | WHITE | ⋯ |  0 | NA | NA | NA | 1.0000000 | 0.0000000 | 0.0000000 | 90-100% | 0-10%  | 0-10%  |\n",
       "| 25456296 | 185914925 | f | 303081846 | 2018-08-06 | 182629606 | Lane      | 182629606-25456296-2018-08-06 | 1 | WHITE | ⋯ |  4 |  0 |  3 |  3 | 0.3000000 | 0.3000000 | 0.4000000 | 30-40%  | 30-40% | 40-50% |\n",
       "| 25740704 | 193151416 | f | 303013206 | 2018-08-06 |  23994510 | Mariem    | 23994510-25740704-2018-08-06  | 1 | WHITE | ⋯ |  1 |  2 |  3 |  1 | 0.3333333 | 0.5000000 | 0.1666667 | 30-40%  | 50-60% | 10-20% |\n",
       "| 25858685 |   8870072 | f | 302986418 | 2018-08-06 | 107571588 | Anna      | 107571588-25858685-2018-08-06 | 1 | BLACK | ⋯ |  0 | NA | NA | NA | 1.0000000 | 0.0000000 | 0.0000000 | 90-100% | 0-10%  | 0-10%  |\n",
       "| 26026904 | 195517789 | f | 303020490 | 2018-08-06 | 193139443 | Veronica  | 193139443-26026904-2018-08-06 | 1 | BLACK | ⋯ |  0 | NA | NA | NA |       NaN |       NaN |       NaN | NA      | NA     | NA     |\n",
       "| 26061766 |  49407035 | f | 303016623 | 2018-08-06 |  96311097 | Brooke    | 96311097-26061766-2018-08-06  | 1 | WHITE | ⋯ |  0 | NA | NA | NA | 1.0000000 | 0.0000000 | 0.0000000 | 90-100% | 0-10%  | 0-10%  |\n",
       "| 26229977 | 105864116 | f | 303046987 | 2018-08-06 | 204198687 | Kay       | 204198687-26229977-2018-08-06 | 1 | BLACK | ⋯ |  0 | NA | NA | NA | 1.0000000 | 0.0000000 | 0.0000000 | 90-100% | 0-10%  | 0-10%  |\n",
       "| 26235818 |   2890846 | f | 303033517 | 2018-08-06 | 203660732 | Jemin     | 203660732-26235818-2018-08-06 | 1 | ASIAN | ⋯ |  1 | NA | NA | NA | 0.2500000 | 0.5000000 | 0.2500000 | 20-30%  | 50-60% | 20-30% |\n",
       "| 26603525 | 126774283 | f | 303060942 | 2018-08-06 | 151397055 | Camryn    | 151397055-26603525-2018-08-06 | 1 | WHITE | ⋯ |  0 | NA | NA | NA | 0.6666667 | 0.3333333 | 0.0000000 | 60-70%  | 30-40% | 0-10%  |\n",
       "| 26926704 |  23542079 | f | 303100965 | 2018-08-06 |  62499038 | Бороздых  | 62499038-26926704-2018-08-06  | 1 | WHITE | ⋯ |  0 | NA | NA | NA | 0.5000000 | 0.5000000 | 0.0000000 | 50-60%  | 50-60% | 0-10%  |\n",
       "| 26948645 | 202766239 | f | 303008955 | 2018-08-06 |  59161584 | Max Timon | 59161584-26948645-2018-08-06  | 1 | ASIAN | ⋯ |  0 | NA | NA | NA | 1.0000000 | 0.0000000 | 0.0000000 | 90-100% | 0-10%  | 0-10%  |\n",
       "| 26956772 | 128861541 | f | 303047381 | 2018-08-06 | 206273002 | Jocelyn   | 206273002-26956772-2018-08-06 | 1 | BLACK | ⋯ |  0 | NA | NA | NA | 1.0000000 | 0.0000000 | 0.0000000 | 90-100% | 0-10%  | 0-10%  |\n",
       "| 27159848 | 191706200 | f | 302985616 | 2018-08-06 | 198639577 | Renzo     | 198639577-27159848-2018-08-06 | 1 | ASIAN | ⋯ |  0 | NA | NA | NA |       NaN |       NaN |       NaN | NA      | NA     | NA     |\n",
       "| 27208517 | 204906313 | f | 303086832 | 2018-08-06 | 206900458 | Andrey    | 206900458-27208517-2018-08-06 | 1 | WHITE | ⋯ |  0 | NA | NA | NA | 1.0000000 | 0.0000000 | 0.0000000 | 90-100% | 0-10%  | 0-10%  |\n",
       "| 26788956 |  37678920 | f | 303031059 | 2018-08-06 | 176339558 | Yasmine   | 176339558-26788956-2018-08-06 | 1 | BLACK | ⋯ |  0 | NA | NA | NA |       NaN |       NaN |       NaN | NA      | NA     | NA     |\n",
       "| 27430723 |  43295180 | f | 303102463 | 2018-08-06 |  61258289 | Andrew    | 61258289-27430723-2018-08-06  | 1 | BLACK | ⋯ |  0 | NA | NA | NA |       NaN |       NaN |       NaN | NA      | NA     | NA     |\n",
       "\n"
      ],
      "text/plain": [
       "       listing_id host_id   instant_bookable id        date       guest_id \n",
       "1      5441        7989     f                  903     2009-03-12  8512    \n",
       "2      5441        7989     f                 2179     2009-05-09  9818    \n",
       "3      5803        9744     f                 2767     2009-05-17 16345    \n",
       "4      6848       15991     t                 3149     2009-05-25 18003    \n",
       "5      6848       15991     t                 3287     2009-05-29 16426    \n",
       "6      5441        7989     f                 3307     2009-05-30 13223    \n",
       "7      5803        9744     f                 3549     2009-06-03 19091    \n",
       "8      6848       15991     t                 3687     2009-06-07 18432    \n",
       "9      6848       15991     t                 3987     2009-06-14  8646    \n",
       "10     5441        7989     f                 4237     2009-06-19 20905    \n",
       "11     5295        7702     f                 4532     2009-06-25 17372    \n",
       "12     6021       11528     f                 4540     2009-06-25 20644    \n",
       "13     6848       15991     t                 5624     2009-07-16 20347    \n",
       "14     6848       15991     t                 5947     2009-07-22 22786    \n",
       "15     6848       15991     t                 6193     2009-07-27 22455    \n",
       "16     6848       15991     t                 6664     2009-08-03 26517    \n",
       "17     6021       11528     f                 6932     2009-08-08 26407    \n",
       "18     5441        7989     f                 7776     2009-08-19 28341    \n",
       "19     6090       11975     t                 8047     2009-08-23 21490    \n",
       "20     8490       25183     t                 8259     2009-08-25 32300    \n",
       "21     5295        7702     f                 8351     2009-08-27 22610    \n",
       "22     6021       11528     f                 8415     2009-08-28 28364    \n",
       "23     6021       11528     f                 8847     2009-09-02 25403    \n",
       "24     5295        7702     f                 8949     2009-09-04 27736    \n",
       "25     6090       11975     t                 9215     2009-09-07 19060    \n",
       "26     5945        4267     f                 9771     2009-09-11 36956    \n",
       "27     5441        7989     f                 9793     2009-09-12 25167    \n",
       "28     6021       11528     f                 9967     2009-09-13 34032    \n",
       "29     5441        7989     f                10587     2009-09-19  8590    \n",
       "30     6090       11975     t                11091     2009-09-23 19959    \n",
       "⋮      ⋮          ⋮         ⋮                ⋮         ⋮          ⋮        \n",
       "334465 13082805    72392039 f                303099054 2018-08-06 206122507\n",
       "334466 13885247    82208124 f                303121393 2018-08-06  63187071\n",
       "334467 15147021     1903495 f                303010495 2018-08-06  25980835\n",
       "334468 15936167    46707487 f                302995696 2018-08-06  10154164\n",
       "334469 16899285     4507242 f                303041341 2018-08-06 174271766\n",
       "334470 19430239   118816229 f                303105708 2018-08-06 110196833\n",
       "334471 21294449   154088360 f                303042770 2018-08-06  21385311\n",
       "334472 21703746      839657 f                303028629 2018-08-06   2932281\n",
       "334473 21881207    17295669 f                303067772 2018-08-06  39646076\n",
       "334474 22483574   130971031 f                303002707 2018-08-06  85345505\n",
       "334475 23574142   176185168 f                303117212 2018-08-06 182837678\n",
       "334476 24233570     4317622 f                302999759 2018-08-06 109553456\n",
       "334477 24806141   186679495 f                303101354 2018-08-06  66332142\n",
       "334478 24913445     7780845 f                303023057 2018-08-06  22865721\n",
       "334479 25310998    10125535 f                303033504 2018-08-06 114554263\n",
       "334480 25456296   185914925 f                303081846 2018-08-06 182629606\n",
       "334481 25740704   193151416 f                303013206 2018-08-06  23994510\n",
       "334482 25858685     8870072 f                302986418 2018-08-06 107571588\n",
       "334483 26026904   195517789 f                303020490 2018-08-06 193139443\n",
       "334484 26061766    49407035 f                303016623 2018-08-06  96311097\n",
       "334485 26229977   105864116 f                303046987 2018-08-06 204198687\n",
       "334486 26235818     2890846 f                303033517 2018-08-06 203660732\n",
       "334487 26603525   126774283 f                303060942 2018-08-06 151397055\n",
       "334488 26926704    23542079 f                303100965 2018-08-06  62499038\n",
       "334489 26948645   202766239 f                303008955 2018-08-06  59161584\n",
       "334490 26956772   128861541 f                303047381 2018-08-06 206273002\n",
       "334491 27159848   191706200 f                302985616 2018-08-06 198639577\n",
       "334492 27208517   204906313 f                303086832 2018-08-06 206900458\n",
       "334493 26788956    37678920 f                303031059 2018-08-06 176339558\n",
       "334494 27430723    43295180 f                303102463 2018-08-06  61258289\n",
       "       reviewer_name gld_id                        g.num_face g.ethnicity ⋯\n",
       "1      Stephen       8512-5441-2009-03-12          1          WHITE       ⋯\n",
       "2      Daniela       9818-5441-2009-05-09          1          ASIAN       ⋯\n",
       "3      Jocelyne      16345-5803-2009-05-17         1          BLACK       ⋯\n",
       "4      Ken           18003-6848-2009-05-25         1          WHITE       ⋯\n",
       "5      Mimi          16426-6848-2009-05-29         1          WHITE       ⋯\n",
       "6      Lizeth        13223-5441-2009-05-30         1          WHITE       ⋯\n",
       "7      Cam           19091-5803-2009-06-03         1          WHITE       ⋯\n",
       "8      Alice         18432-6848-2009-06-07         1          WHITE       ⋯\n",
       "9      Mike          8646-6848-2009-06-14          1          ASIAN       ⋯\n",
       "10     Franziska     20905-5441-2009-06-19         1          BLACK       ⋯\n",
       "11     George        17372-5295-2009-06-25         1          WHITE       ⋯\n",
       "12     David         20644-6021-2009-06-25         1          WHITE       ⋯\n",
       "13     Will          20347-6848-2009-07-16         1          WHITE       ⋯\n",
       "14     Jeff          22786-6848-2009-07-22         1          WHITE       ⋯\n",
       "15     Celeste       22455-6848-2009-07-27         1          WHITE       ⋯\n",
       "16     Manya         26517-6848-2009-08-03         1          WHITE       ⋯\n",
       "17     Christopher   26407-6021-2009-08-08         1          BLACK       ⋯\n",
       "18     Jeff          28341-5441-2009-08-19         1          WHITE       ⋯\n",
       "19     Rui           21490-6090-2009-08-23         1          WHITE       ⋯\n",
       "20     Gina          32300-8490-2009-08-25         1          BLACK       ⋯\n",
       "21     Moises        22610-5295-2009-08-27         1          WHITE       ⋯\n",
       "22     Eloise        28364-6021-2009-08-28         1          WHITE       ⋯\n",
       "23     Pedro         25403-6021-2009-09-02         1          BLACK       ⋯\n",
       "24     Jessica       27736-5295-2009-09-04         1          ASIAN       ⋯\n",
       "25     Clare         19060-6090-2009-09-07         1          WHITE       ⋯\n",
       "26     Russell       36956-5945-2009-09-11         1          ASIAN       ⋯\n",
       "27     Maria         25167-5441-2009-09-12         1          WHITE       ⋯\n",
       "28     Annabel       34032-6021-2009-09-13         1          WHITE       ⋯\n",
       "29     Heiko         8590-5441-2009-09-19          1          WHITE       ⋯\n",
       "30     Tali          19959-6090-2009-09-23         1          WHITE       ⋯\n",
       "⋮      ⋮             ⋮                             ⋮          ⋮           ⋱\n",
       "334465 Lili          206122507-13082805-2018-08-06 1          ASIAN       ⋯\n",
       "334466 Jian          63187071-13885247-2018-08-06  1          ASIAN       ⋯\n",
       "334467 Andrea        25980835-15147021-2018-08-06  1          BLACK       ⋯\n",
       "334468 Rixt          10154164-15936167-2018-08-06  1          WHITE       ⋯\n",
       "334469 Kathy         174271766-16899285-2018-08-06 1          ASIAN       ⋯\n",
       "334470 Ato           110196833-19430239-2018-08-06 1          BLACK       ⋯\n",
       "334471 Pascal        21385311-21294449-2018-08-06  1          ASIAN       ⋯\n",
       "334472 Steve         2932281-21703746-2018-08-06   1          ASIAN       ⋯\n",
       "334473 Ally          39646076-21881207-2018-08-06  1          WHITE       ⋯\n",
       "334474 Erika         85345505-22483574-2018-08-06  1          BLACK       ⋯\n",
       "334475 L.            182837678-23574142-2018-08-06 1          ASIAN       ⋯\n",
       "334476 Megan         109553456-24233570-2018-08-06 1          WHITE       ⋯\n",
       "334477 Eli           66332142-24806141-2018-08-06  1          BLACK       ⋯\n",
       "334478 Anaïs         22865721-24913445-2018-08-06  1          WHITE       ⋯\n",
       "334479 Lior          114554263-25310998-2018-08-06 1          WHITE       ⋯\n",
       "334480 Lane          182629606-25456296-2018-08-06 1          WHITE       ⋯\n",
       "334481 Mariem        23994510-25740704-2018-08-06  1          WHITE       ⋯\n",
       "334482 Anna          107571588-25858685-2018-08-06 1          BLACK       ⋯\n",
       "334483 Veronica      193139443-26026904-2018-08-06 1          BLACK       ⋯\n",
       "334484 Brooke        96311097-26061766-2018-08-06  1          WHITE       ⋯\n",
       "334485 Kay           204198687-26229977-2018-08-06 1          BLACK       ⋯\n",
       "334486 Jemin         203660732-26235818-2018-08-06 1          ASIAN       ⋯\n",
       "334487 Camryn        151397055-26603525-2018-08-06 1          WHITE       ⋯\n",
       "334488 Бороздых      62499038-26926704-2018-08-06  1          WHITE       ⋯\n",
       "334489 Max Timon     59161584-26948645-2018-08-06  1          ASIAN       ⋯\n",
       "334490 Jocelyn       206273002-26956772-2018-08-06 1          BLACK       ⋯\n",
       "334491 Renzo         198639577-27159848-2018-08-06 1          ASIAN       ⋯\n",
       "334492 Andrey        206900458-27208517-2018-08-06 1          WHITE       ⋯\n",
       "334493 Yasmine       176339558-26788956-2018-08-06 1          BLACK       ⋯\n",
       "334494 Andrew        61258289-27430723-2018-08-06  1          BLACK       ⋯\n",
       "       g.A.cnt top6.W top6.B top6.A prop.W    prop.B    prop.A    prop.W2\n",
       "1      0       NA     NA     NA           NaN       NaN       NaN NA     \n",
       "2      0       NA     NA     NA     1.0000000 0.0000000 0.0000000 90-100%\n",
       "3      0       NA     NA     NA           NaN       NaN       NaN NA     \n",
       "4      0       NA     NA     NA           NaN       NaN       NaN NA     \n",
       "5      0       NA     NA     NA     1.0000000 0.0000000 0.0000000 90-100%\n",
       "6      1       NA     NA     NA     0.5000000 0.0000000 0.5000000 50-60% \n",
       "7      0       NA     NA     NA     0.0000000 1.0000000 0.0000000 0-10%  \n",
       "8      0       NA     NA     NA     1.0000000 0.0000000 0.0000000 90-100%\n",
       "9      0       NA     NA     NA     1.0000000 0.0000000 0.0000000 90-100%\n",
       "10     1       NA     NA     NA     0.6666667 0.0000000 0.3333333 60-70% \n",
       "11     0       NA     NA     NA           NaN       NaN       NaN NA     \n",
       "12     0       NA     NA     NA           NaN       NaN       NaN NA     \n",
       "13     1       NA     NA     NA     0.7500000 0.0000000 0.2500000 70-80% \n",
       "14     1       NA     NA     NA     0.8000000 0.0000000 0.2000000 80-90% \n",
       "15     1        5      0      1     0.8333333 0.0000000 0.1666667 80-90% \n",
       "16     1        5      0      1     0.8571429 0.0000000 0.1428571 80-90% \n",
       "17     0       NA     NA     NA     1.0000000 0.0000000 0.0000000 90-100%\n",
       "18     1       NA     NA     NA     0.5000000 0.2500000 0.2500000 50-60% \n",
       "19     0       NA     NA     NA           NaN       NaN       NaN NA     \n",
       "20     0       NA     NA     NA           NaN       NaN       NaN NA     \n",
       "21     0       NA     NA     NA     1.0000000 0.0000000 0.0000000 90-100%\n",
       "22     0       NA     NA     NA     0.5000000 0.5000000 0.0000000 50-60% \n",
       "23     0       NA     NA     NA     0.6666667 0.3333333 0.0000000 60-70% \n",
       "24     0       NA     NA     NA     1.0000000 0.0000000 0.0000000 90-100%\n",
       "25     0       NA     NA     NA     1.0000000 0.0000000 0.0000000 90-100%\n",
       "26     0       NA     NA     NA           NaN       NaN       NaN NA     \n",
       "27     1       NA     NA     NA     0.6000000 0.2000000 0.2000000 60-70% \n",
       "28     0       NA     NA     NA     0.5000000 0.5000000 0.0000000 50-60% \n",
       "29     1        4      1      1     0.6666667 0.1666667 0.1666667 60-70% \n",
       "30     0       NA     NA     NA     1.0000000 0.0000000 0.0000000 90-100%\n",
       "⋮      ⋮       ⋮      ⋮      ⋮      ⋮         ⋮         ⋮         ⋮      \n",
       "334465  9       2      3      1     0.6000000 0.2200000 0.1800000 60-70% \n",
       "334466  6       5      0      1     0.6000000 0.1000000 0.3000000 60-70% \n",
       "334467  1       4      1      1     0.6250000 0.2500000 0.1250000 60-70% \n",
       "334468  8       5      1      0     0.6923077 0.1025641 0.2051282 60-70% \n",
       "334469 27       3      1      2     0.5185185 0.1481481 0.3333333 50-60% \n",
       "334470  0       2      4      0     0.4210526 0.5789474 0.0000000 40-50% \n",
       "334471 10       3      0      3     0.4400000 0.1600000 0.4000000 40-50% \n",
       "334472  2       4      2      0     0.6000000 0.2000000 0.2000000 60-70% \n",
       "334473  2       4      0      2     0.8000000 0.0000000 0.2000000 80-90% \n",
       "334474  2       6      0      0     0.8333333 0.0000000 0.1666667 80-90% \n",
       "334475 19       2      1      3     0.3181818 0.2500000 0.4318182 30-40% \n",
       "334476  0      NA     NA     NA     0.5000000 0.5000000 0.0000000 50-60% \n",
       "334477  2       3      3      0     0.4166667 0.4166667 0.1666667 40-50% \n",
       "334478  0      NA     NA     NA     1.0000000 0.0000000 0.0000000 90-100%\n",
       "334479  0      NA     NA     NA     1.0000000 0.0000000 0.0000000 90-100%\n",
       "334480  4       0      3      3     0.3000000 0.3000000 0.4000000 30-40% \n",
       "334481  1       2      3      1     0.3333333 0.5000000 0.1666667 30-40% \n",
       "334482  0      NA     NA     NA     1.0000000 0.0000000 0.0000000 90-100%\n",
       "334483  0      NA     NA     NA           NaN       NaN       NaN NA     \n",
       "334484  0      NA     NA     NA     1.0000000 0.0000000 0.0000000 90-100%\n",
       "334485  0      NA     NA     NA     1.0000000 0.0000000 0.0000000 90-100%\n",
       "334486  1      NA     NA     NA     0.2500000 0.5000000 0.2500000 20-30% \n",
       "334487  0      NA     NA     NA     0.6666667 0.3333333 0.0000000 60-70% \n",
       "334488  0      NA     NA     NA     0.5000000 0.5000000 0.0000000 50-60% \n",
       "334489  0      NA     NA     NA     1.0000000 0.0000000 0.0000000 90-100%\n",
       "334490  0      NA     NA     NA     1.0000000 0.0000000 0.0000000 90-100%\n",
       "334491  0      NA     NA     NA           NaN       NaN       NaN NA     \n",
       "334492  0      NA     NA     NA     1.0000000 0.0000000 0.0000000 90-100%\n",
       "334493  0      NA     NA     NA           NaN       NaN       NaN NA     \n",
       "334494  0      NA     NA     NA           NaN       NaN       NaN NA     \n",
       "       prop.B2 prop.A2\n",
       "1      NA      NA     \n",
       "2      0-10%   0-10%  \n",
       "3      NA      NA     \n",
       "4      NA      NA     \n",
       "5      0-10%   0-10%  \n",
       "6      0-10%   50-60% \n",
       "7      90-100% 0-10%  \n",
       "8      0-10%   0-10%  \n",
       "9      0-10%   0-10%  \n",
       "10     0-10%   30-40% \n",
       "11     NA      NA     \n",
       "12     NA      NA     \n",
       "13     0-10%   20-30% \n",
       "14     0-10%   20-30% \n",
       "15     0-10%   10-20% \n",
       "16     0-10%   10-20% \n",
       "17     0-10%   0-10%  \n",
       "18     20-30%  20-30% \n",
       "19     NA      NA     \n",
       "20     NA      NA     \n",
       "21     0-10%   0-10%  \n",
       "22     50-60%  0-10%  \n",
       "23     30-40%  0-10%  \n",
       "24     0-10%   0-10%  \n",
       "25     0-10%   0-10%  \n",
       "26     NA      NA     \n",
       "27     20-30%  20-30% \n",
       "28     50-60%  0-10%  \n",
       "29     10-20%  10-20% \n",
       "30     0-10%   0-10%  \n",
       "⋮      ⋮       ⋮      \n",
       "334465 20-30%  10-20% \n",
       "334466 10-20%  30-40% \n",
       "334467 20-30%  10-20% \n",
       "334468 10-20%  20-30% \n",
       "334469 10-20%  30-40% \n",
       "334470 50-60%  0-10%  \n",
       "334471 10-20%  40-50% \n",
       "334472 20-30%  20-30% \n",
       "334473 0-10%   20-30% \n",
       "334474 0-10%   10-20% \n",
       "334475 20-30%  40-50% \n",
       "334476 50-60%  0-10%  \n",
       "334477 40-50%  10-20% \n",
       "334478 0-10%   0-10%  \n",
       "334479 0-10%   0-10%  \n",
       "334480 30-40%  40-50% \n",
       "334481 50-60%  10-20% \n",
       "334482 0-10%   0-10%  \n",
       "334483 NA      NA     \n",
       "334484 0-10%   0-10%  \n",
       "334485 0-10%   0-10%  \n",
       "334486 50-60%  20-30% \n",
       "334487 30-40%  0-10%  \n",
       "334488 50-60%  0-10%  \n",
       "334489 0-10%   0-10%  \n",
       "334490 0-10%   0-10%  \n",
       "334491 NA      NA     \n",
       "334492 0-10%   0-10%  \n",
       "334493 NA      NA     \n",
       "334494 NA      NA     "
      ]
     },
     "metadata": {},
     "output_type": "display_data"
    }
   ],
   "source": [
    "df=as.data.table(df)\n",
    "df"
   ]
  },
  {
   "cell_type": "markdown",
   "metadata": {},
   "source": [
    "### 6. Save the processed data"
   ]
  },
  {
   "cell_type": "code",
   "execution_count": 21,
   "metadata": {},
   "outputs": [
    {
     "data": {
      "text/html": [
       "1"
      ],
      "text/latex": [
       "1"
      ],
      "text/markdown": [
       "1"
      ],
      "text/plain": [
       "[1] 1"
      ]
     },
     "metadata": {},
     "output_type": "display_data"
    }
   ],
   "source": [
    "tmp = aggregate(data = df[,c(\"instant_bookable\", \"listing_id\")],\n",
    "                instant_bookable ~ listing_id,\n",
    "                function(instant_bookable) length(unique(instant_bookable)))\n",
    "unique(tmp$instant_bookable)"
   ]
  },
  {
   "cell_type": "code",
   "execution_count": 22,
   "metadata": {},
   "outputs": [],
   "source": [
    "rws.gh.t=df[which(df$instant_bookable==\"t\"),]\n",
    "\n",
    "write.csv(rws.gh.t, file=\"../data/df_processed-rws_instant_bookings.csv\", row.names=F)"
   ]
  }
 ],
 "metadata": {
  "kernelspec": {
   "display_name": "R",
   "language": "R",
   "name": "ir"
  },
  "language_info": {
   "codemirror_mode": "r",
   "file_extension": ".r",
   "mimetype": "text/x-r-source",
   "name": "R",
   "pygments_lexer": "r",
   "version": "4.1.2"
  }
 },
 "nbformat": 4,
 "nbformat_minor": 4
}
